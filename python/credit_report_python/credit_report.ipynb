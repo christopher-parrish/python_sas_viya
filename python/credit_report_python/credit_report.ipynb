{
 "cells": [
  {
   "cell_type": "code",
   "execution_count": null,
   "metadata": {},
   "outputs": [],
   "source": [
    "import pandas as pd\n",
    "\n",
    "dm_inputdf = pd.read_csv(\"/workspaces/myfolder/demo/credit_report_woe.csv\", header=0)\n",
    "print(dm_inputdf.dtypes)"
   ]
  },
  {
   "cell_type": "code",
   "execution_count": null,
   "metadata": {},
   "outputs": [],
   "source": [
    "from sklearn.utils import shuffle\n",
    "\n",
    "### define macro variables for model\n",
    "dm_dec_target = 'customer_event'\n",
    "dm_partitionvar = 'analytic_partition'\n",
    "create_new_partition = 'yes' # 'yes', 'no'\n",
    "dm_key = 'account_id' \n",
    "dm_classtarget_level = ['0', '1']\n",
    "dm_partition_validate_val, dm_partition_train_val, dm_partition_test_val = [0, 1, 2]\n",
    "dm_partition_validate_perc, dm_partition_train_perc, dm_partition_test_perc = [0.3, 0.6, 0.1]\n",
    "\n",
    "### create list of regressors\n",
    "keep_predictors = [\n",
    "            'woe_num_credit_accounts_open',\n",
    "            'woe_age',\n",
    "            'woe_debt_to_income',\n",
    "            'woe_credit_utilization_ratio',\n",
    "            'woe_length_of_last_job_mos',\n",
    "            'woe_credit_history_mos',\n",
    "            'woe_credit_score',\n",
    "            'woe_scheduled_payments_per_month'\n",
    "    ]\n",
    "\n",
    "### create partition column, if not already in dataset\n",
    "if create_new_partition == 'yes':\n",
    "    dm_inputdf = shuffle(dm_inputdf)\n",
    "    dm_inputdf.reset_index(inplace=True, drop=True)\n",
    "    validate_rows = round(len(dm_inputdf)*dm_partition_validate_perc)\n",
    "    train_rows = round(len(dm_inputdf)*dm_partition_train_perc) + validate_rows\n",
    "    test_rows = len(dm_inputdf)-train_rows\n",
    "    dm_inputdf.loc[0:validate_rows,dm_partitionvar] = dm_partition_validate_val\n",
    "    dm_inputdf.loc[validate_rows:train_rows,dm_partitionvar] = dm_partition_train_val\n",
    "    dm_inputdf.loc[train_rows:,dm_partitionvar] = dm_partition_test_val\n",
    "\n",
    "### create list of model variables\n",
    "dm_input = list(dm_inputdf.columns.values)\n",
    "macro_vars = (dm_dec_target + ' ' + dm_partitionvar + ' ' + dm_key).split()\n",
    "rejected_predictors = [i for i in dm_input if i not in keep_predictors]\n",
    "rejected_vars = rejected_predictors # + macro_vars (include macro_vars if rejected_predictors are explicitly listed - not contra keep_predictors)\n",
    "for i in rejected_vars:\n",
    "    dm_input.remove(i)\n",
    "print(dm_input)\n",
    "\n",
    "### create train, test, validate datasets using existing partition column\n",
    "dm_traindf = dm_inputdf[dm_inputdf[dm_partitionvar] == dm_partition_train_val]\n",
    "X_train = dm_traindf.loc[:, dm_input]\n",
    "y_train = dm_traindf[dm_dec_target]\n",
    "dm_testdf = dm_inputdf.loc[(dm_inputdf[dm_partitionvar] == dm_partition_test_val)]\n",
    "X_test = dm_testdf.loc[:, dm_input]\n",
    "y_test = dm_testdf[dm_dec_target]\n",
    "dm_validdf = dm_inputdf.loc[(dm_inputdf[dm_partitionvar] == dm_partition_validate_val)]\n",
    "X_valid = dm_validdf.loc[:, dm_input]\n",
    "y_valid = dm_validdf[dm_dec_target]"
   ]
  },
  {
   "cell_type": "code",
   "execution_count": null,
   "metadata": {},
   "outputs": [],
   "source": [
    "from sasviya.ml.linear_model import LogisticRegression\n",
    "\n",
    "### estimate & fit model\n",
    "dm_model = LogisticRegression(\n",
    "        tol=1e-8,\n",
    "        fit_intercept=True,\n",
    "        solver=\"newrap\",\n",
    "        selection=None,\n",
    "        verbose=0,\n",
    "        max_iter=None,\n",
    "        max_time=None\n",
    "        )\n",
    "dm_model.fit(X_train, y_train)"
   ]
  },
  {
   "cell_type": "code",
   "execution_count": null,
   "metadata": {},
   "outputs": [],
   "source": [
    "dm_model.describe()"
   ]
  },
  {
   "cell_type": "code",
   "execution_count": null,
   "metadata": {},
   "outputs": [],
   "source": [
    "dm_model.score(X_test, y_test)"
   ]
  },
  {
   "cell_type": "code",
   "execution_count": null,
   "metadata": {},
   "outputs": [],
   "source": [
    "dm_model.predict_proba(X_test)"
   ]
  },
  {
   "cell_type": "code",
   "execution_count": null,
   "metadata": {},
   "outputs": [],
   "source": [
    "fullX = dm_inputdf.loc[:, dm_input]\n",
    "fully = dm_inputdf[dm_dec_target]\n",
    "_PRED_ = dm_model.predict_proba(fullX)"
   ]
  },
  {
   "cell_type": "code",
   "execution_count": null,
   "metadata": {},
   "outputs": [],
   "source": [
    "### print logit odds ratios\n",
    "import numpy as np\n",
    "predictions = dm_model.predict(fullX)\n",
    "cols = X_train.columns\n",
    "predictors = np.array(cols)\n",
    "orat = np.exp(dm_model.coef_, out=None)\n",
    "c1 = np.vstack([predictors,orat])\n",
    "c2 = np.transpose(c1)\n",
    "c = pd.DataFrame(c2, columns=['predictors', 'odds_ratio'])\n",
    "print('intercept:')\n",
    "print(dm_model.intercept_)\n",
    "print('odds_ratios:')\n",
    "print(c)"
   ]
  },
  {
   "cell_type": "code",
   "execution_count": null,
   "metadata": {},
   "outputs": [],
   "source": [
    "coeff = dm_model.coef_\n",
    "coeff = np.vstack([predictors,coeff])\n",
    "logodds = coeff[1]\n",
    "logodds"
   ]
  },
  {
   "cell_type": "code",
   "execution_count": null,
   "metadata": {},
   "outputs": [],
   "source": [
    "_XBETA_ = np.dot(fullX,logodds)\n",
    "print(_XBETA_)"
   ]
  },
  {
   "cell_type": "code",
   "execution_count": null,
   "metadata": {},
   "outputs": [],
   "source": [
    "target_score = 600\n",
    "target_odds = 30\n",
    "points_to_double_the_odds = 20\n",
    "factor = points_to_double_the_odds / np.log(2)\n",
    "offset = target_score - factor * np.log(target_odds)\n",
    "\n",
    "log_odds = _XBETA_\n",
    "prob_good_credit = _PRED_\n",
    "score = offset + (factor * log_odds)"
   ]
  },
  {
   "cell_type": "code",
   "execution_count": null,
   "metadata": {},
   "outputs": [],
   "source": [
    "import matplotlib.pyplot as plt\n",
    "from numpy.lib.histograms import histogram\n",
    "plt.hist(score, bins=50, label=\"Distribution of Score\")\n",
    "plt.title('Distribution of Scores')\n",
    "plt.xlabel('score')\n",
    "plt.ylabel('Percent')\n",
    "plt.show()"
   ]
  }
 ],
 "metadata": {
  "kernelspec": {
   "display_name": "base",
   "language": "python",
   "name": "python3"
  },
  "language_info": {
   "name": "python",
   "version": "3.8.8"
  }
 },
 "nbformat": 4,
 "nbformat_minor": 2
}
