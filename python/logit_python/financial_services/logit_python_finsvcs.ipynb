{
 "cells": [
  {
   "cell_type": "code",
   "execution_count": 1,
   "metadata": {},
   "outputs": [],
   "source": [
    "####################################################\n",
    "###  Train & Register Python Scikit Logit Model  ###\n",
    "####################################################\n",
    "\n",
    "###################\n",
    "### Credentials ###\n",
    "###################\n",
    "\n",
    "import os\n",
    "import sys\n",
    "from pathlib import Path\n",
    "\n",
    "sys.path.append('C:/Users/chparr/OneDrive - SAS/credentials')\n",
    "from credentials import hostname, session, port, protocol, wd, output_dir, git_dir, token_dir, token, token_refresh, token_pem"
   ]
  },
  {
   "cell_type": "code",
   "execution_count": 2,
   "metadata": {},
   "outputs": [
    {
     "name": "stdout",
     "output_type": "stream",
     "text": [
      "NOTE: Grid node action status report: 1 nodes, 9 total actions executed.\n",
      "[About]\n",
      "\n",
      " {'CAS': 'Cloud Analytic Services',\n",
      "  'CASCacheLocation': 'CAS Disk Cache',\n",
      "  'CASHostAccountRequired': 'OPTIONAL',\n",
      "  'Copyright': 'Copyright © 2014-2024 SAS Institute Inc. All Rights Reserved.',\n",
      "  'ServerTime': '2024-07-19T14:45:55Z',\n",
      "  'System': {'Hostname': 'controller.sas-cas-server-default.innovationlab.svc.cluster.local',\n",
      "   'Linux Distribution': 'Red Hat Enterprise Linux release 8.9 (Ootpa)',\n",
      "   'Model Number': 'x86_64',\n",
      "   'OS Family': 'LIN X64',\n",
      "   'OS Name': 'Linux',\n",
      "   'OS Release': '5.15.0-1064-azure',\n",
      "   'OS Version': '#73-Ubuntu SMP Tue Apr 30 14:24:24 UTC 2024'},\n",
      "  'Transferred': 'NO',\n",
      "  'Version': '4.00',\n",
      "  'VersionLong': 'V.04.00M0P05132024',\n",
      "  'Viya Release': '20240620.1718859738156',\n",
      "  'Viya Version': 'Stable 2024.05',\n",
      "  'license': {'expires': '21Sep2024:00:00:00',\n",
      "   'gracePeriod': 0,\n",
      "   'site': 'CIS SSEMONTHLY INNOVATION ENTERPRISE-RISK-MRM',\n",
      "   'siteNum': 70180938,\n",
      "   'warningPeriod': 15}}\n",
      "\n",
      "[nodestatus]\n",
      "\n",
      " Node Status\n",
      " \n",
      "                                                 name        role  uptime  running  stalled\n",
      " 0  controller.sas-cas-server-default.innovationla...  controller   1.859        0        0\n",
      "\n",
      "[server]\n",
      "\n",
      " Server Status\n",
      " \n",
      "    nodes  actions\n",
      " 0      1        9\n",
      "\n",
      "+ Elapsed: 0.000554s, sys: 0.000514s, mem: 0.304mb\n"
     ]
    }
   ],
   "source": [
    "#############################\n",
    "### Connect with SAS Viya ###\n",
    "#############################\n",
    "\n",
    "import swat\n",
    "\n",
    "access_token = open(token, \"r\").read()\n",
    "conn =  swat.CAS(hostname=hostname, username=None, password=access_token, ssl_ca_list=token_pem, protocol=protocol)\n",
    "print(conn.serverstatus())"
   ]
  },
  {
   "cell_type": "code",
   "execution_count": 3,
   "metadata": {},
   "outputs": [
    {
     "data": {
      "text/html": [
       "<div class=\"cas-results-key\"><b>&#167; TableInfo</b></div>\n",
       "<div class=\"cas-results-body\">\n",
       "<div>\n",
       "<style scoped>\n",
       "    .dataframe tbody tr th:only-of-type {\n",
       "        vertical-align: middle;\n",
       "    }\n",
       "\n",
       "    .dataframe tbody tr th {\n",
       "        vertical-align: top;\n",
       "    }\n",
       "\n",
       "    .dataframe thead th {\n",
       "        text-align: right;\n",
       "    }\n",
       "</style>\n",
       "<table border=\"1\" class=\"dataframe\">\n",
       "  <thead>\n",
       "    <tr style=\"text-align: right;\">\n",
       "      <th title=\"\"></th>\n",
       "      <th title=\"Name\">Name</th>\n",
       "      <th title=\"Rows\">Rows</th>\n",
       "      <th title=\"Columns\">Columns</th>\n",
       "      <th title=\"Indexed Columns\">IndexedColumns</th>\n",
       "      <th title=\"Encoding\">Encoding</th>\n",
       "      <th title=\"Created\">CreateTimeFormatted</th>\n",
       "      <th title=\"Last Modified\">ModTimeFormatted</th>\n",
       "      <th title=\"Last Accessed\">AccessTimeFormatted</th>\n",
       "      <th title=\"Character Set\">JavaCharSet</th>\n",
       "      <th title=\"CreateTime\">CreateTime</th>\n",
       "      <th title=\"View\">View</th>\n",
       "      <th title=\"MultiPart\">MultiPart</th>\n",
       "      <th title=\"Loaded Source\">SourceName</th>\n",
       "      <th title=\"Source Caslib\">SourceCaslib</th>\n",
       "      <th title=\"Compressed\">Compressed</th>\n",
       "      <th title=\"Table Creator\">Creator</th>\n",
       "      <th title=\"Last Table Modifier\">Modifier</th>\n",
       "      <th title=\"Source Modified\">SourceModTimeFormatted</th>\n",
       "      <th title=\"SourceModTime\">SourceModTime</th>\n",
       "      <th title=\"Table Redistribute Up Policy\">TableRedistUpPolicy</th>\n",
       "    </tr>\n",
       "  </thead>\n",
       "  <tbody>\n",
       "    <tr>\n",
       "      <td>0</td>\n",
       "      <td>FINANCIAL_SERVICES_PREP</td>\n",
       "      <td>15351</td>\n",
       "      <td>49</td>\n",
       "      <td>0</td>\n",
       "      <td>utf-8</td>\n",
       "      <td>2024-07-18T22:04:27+00:00</td>\n",
       "      <td>2024-07-18T22:04:27+00:00</td>\n",
       "      <td>2024-07-18T22:04:27+00:00</td>\n",
       "      <td>UTF8</td>\n",
       "      <td>2.036959e+09</td>\n",
       "      <td>0</td>\n",
       "      <td>0</td>\n",
       "      <td>FINANCIAL_SERVICES_PREP.sashdat</td>\n",
       "      <td>CASUSER(Chris.Parrish@sas.com)</td>\n",
       "      <td>0</td>\n",
       "      <td>Chris.Parrish@sas.com</td>\n",
       "      <td></td>\n",
       "      <td>2024-02-27T15:10:48+00:00</td>\n",
       "      <td>2.024666e+09</td>\n",
       "      <td>Not Specified</td>\n",
       "    </tr>\n",
       "  </tbody>\n",
       "</table>\n",
       "</div>\n",
       "</div>\n",
       "<div class=\"cas-output-area\"></div>\n",
       "<p class=\"cas-results-performance\"><small><span class=\"cas-elapsed\">elapsed 0.00456s</span> &#183; <span class=\"cas-sys\">sys 0.00243s</span> &#183; <span class=\"cas-memory\">mem 0.758MB</span></small></p>"
      ],
      "text/plain": [
       "[TableInfo]\n",
       "\n",
       "                       Name   Rows  Columns  IndexedColumns Encoding        CreateTimeFormatted           ModTimeFormatted        AccessTimeFormatted JavaCharSet    CreateTime       ModTime    AccessTime  Global  Repeated  View  MultiPart                       SourceName                    SourceCaslib  Compressed                Creator Modifier     SourceModTimeFormatted  SourceModTime TableRedistUpPolicy\n",
       " 0  FINANCIAL_SERVICES_PREP  15351       49               0    utf-8  2024-07-18T22:04:27+00:00  2024-07-18T22:04:27+00:00  2024-07-18T22:04:27+00:00        UTF8  2.036959e+09  2.036959e+09  2.036959e+09       1         0     0          0  FINANCIAL_SERVICES_PREP.sashdat  CASUSER(Chris.Parrish@sas.com)           0  Chris.Parrish@sas.com           2024-02-27T15:10:48+00:00   2.024666e+09       Not Specified\n",
       "\n",
       "+ Elapsed: 0.00456s, sys: 0.00243s, mem: 0.758mb"
      ]
     },
     "execution_count": 3,
     "metadata": {},
     "output_type": "execute_result"
    }
   ],
   "source": [
    "#############################\n",
    "### Identify Table in CAS ###\n",
    "#############################\n",
    "\n",
    "### caslib and table to use in modeling\n",
    "caslib = 'casuser'\n",
    "in_mem_tbl = 'FINANCIAL_SERVICES_PREP'\n",
    "\n",
    "### load table in-memory if not already exists in-memory\n",
    "if conn.table.tableExists(caslib=caslib, name=in_mem_tbl).exists<=0:\n",
    "    conn.table.loadTable(caslib=caslib, path=str(in_mem_tbl+str('.sashdat')), \n",
    "                         casout={'name':in_mem_tbl, 'caslib':caslib, 'promote':True})\n",
    "\n",
    "### show table to verify\n",
    "conn.table.tableInfo(caslib=caslib, wildIgnore=False, name=in_mem_tbl)"
   ]
  },
  {
   "cell_type": "code",
   "execution_count": 29,
   "metadata": {},
   "outputs": [
    {
     "name": "stdout",
     "output_type": "stream",
     "text": [
      "account_id                    float64\n",
      "event_indicator               float64\n",
      "gender                        float64\n",
      "ever_missed_obligation        float64\n",
      "at_current_job_1_year         float64\n",
      "smoker                        float64\n",
      "uses_direct_deposit           float64\n",
      "business_owner                float64\n",
      "homeowner                     float64\n",
      "num_dependents                float64\n",
      "years_at_residence            float64\n",
      "age                           float64\n",
      "debt_to_income                float64\n",
      "num_transactions              float64\n",
      "credit_history_mos            float64\n",
      "credit_score                  float64\n",
      "amount                        float64\n",
      "net_worth                     float64\n",
      "id_important_activity          object\n",
      "id_direct_contact              object\n",
      "id_current_fs_relationship     object\n",
      "job_in_education              float64\n",
      "job_in_energy                 float64\n",
      "job_in_media                  float64\n",
      "job_in_transport              float64\n",
      "job_in_hospitality            float64\n",
      "job_in_healthcare             float64\n",
      "job_in_manufacturing          float64\n",
      "job_in_financial              float64\n",
      "citizenship_us                float64\n",
      "citizenship_latam             float64\n",
      "citizenship_eu                float64\n",
      "citizenship_middle_east       float64\n",
      "citizenship_africa            float64\n",
      "citizenship_india             float64\n",
      "citizenship_china             float64\n",
      "citizenship_other             float64\n",
      "region_ca                     float64\n",
      "region_ny                     float64\n",
      "region_fl                     float64\n",
      "region_tx                     float64\n",
      "region_ne                     float64\n",
      "region_so                     float64\n",
      "region_mw                     float64\n",
      "region_we                     float64\n",
      "marital_status_single         float64\n",
      "marital_status_married        float64\n",
      "marital_status_divorced       float64\n",
      "analytic_partition            float64\n",
      "dtype: object\n"
     ]
    }
   ],
   "source": [
    "########################\n",
    "### Create Dataframe ###\n",
    "########################\n",
    "\n",
    "dm_inputdf =  conn.CASTable(in_mem_tbl, caslib=caslib).to_frame()\n",
    "\n",
    "### print columns for review of model parameters\n",
    "print(dm_inputdf.dtypes)"
   ]
  },
  {
   "cell_type": "code",
   "execution_count": 30,
   "metadata": {},
   "outputs": [
    {
     "name": "stdout",
     "output_type": "stream",
     "text": [
      "{'penalty': 'l2', 'dual': False, 'tol': 0.0001, 'fit_intercept': True, 'intercept_scaling': 1, 'class_weight': None, 'random_state': None, 'solver': 'newton-cg', 'max_iter': 100, 'multi_class': 'auto', 'verbose': 0, 'warm_start': False, 'n_jobs': None, 'l1_ratio': None}\n"
     ]
    }
   ],
   "source": [
    "########################\n",
    "### Model Parameters ###\n",
    "########################\n",
    "\n",
    "### import python libraries\n",
    "import numpy as np\n",
    "import pandas as pd\n",
    "from sklearn.utils import shuffle\n",
    "\n",
    "logit_params = {\n",
    "             'penalty': 'l2', \n",
    "             'dual': False, \n",
    "             'tol': 0.0001, \n",
    "             'fit_intercept': True, \n",
    "             'intercept_scaling': 1, \n",
    "             'class_weight': None, \n",
    "             'random_state': None, \n",
    "             'solver': 'newton-cg', \n",
    "             'max_iter': 100, \n",
    "             'multi_class': 'auto', \n",
    "             'verbose': 0, \n",
    "             'warm_start': False, \n",
    "             'n_jobs': None, \n",
    "             'l1_ratio': None\n",
    "             } \n",
    "print(logit_params)\n",
    "\n",
    "### model manager information\n",
    "metadata_output_dir = 'outputs'\n",
    "model_name = 'logit_python_finsvcs_demo'\n",
    "project_name = 'FIN SERVICES'\n",
    "description = 'Logistic Regression'\n",
    "model_type = 'logistic_regression'\n",
    "model_function = 'Classification'\n",
    "predict_syntax = 'predict_proba'\n",
    "\n",
    "### define macro variables for model\n",
    "dm_dec_target = 'event_indicator'\n",
    "dm_partitionvar = 'analytic_partition'\n",
    "create_new_partition = 'no' # 'yes', 'no'\n",
    "dm_key = 'account_id' \n",
    "dm_classtarget_level = ['0', '1']\n",
    "dm_partition_validate_val, dm_partition_train_val, dm_partition_test_val = [0, 1, 2]\n",
    "dm_partition_validate_perc, dm_partition_train_perc, dm_partition_test_perc = [0.3, 0.6, 0.1]\n",
    "\n",
    "### create list of regressors\n",
    "keep_predictors = [\n",
    "    'net_worth',\n",
    "    'credit_score',\n",
    "    'num_dependents',\n",
    "    'at_current_job_1_year',\n",
    "    'credit_history_mos',\n",
    "    'job_in_education',\n",
    "    'num_transactions',\n",
    "    'debt_to_income',\n",
    "    'amount',\n",
    "    'gender',\n",
    "    'age',\n",
    "    'job_in_hospitality'\n",
    "    ]\n",
    "#rejected_predictors = []\n",
    "\n",
    "### mlflow\n",
    "use_mlflow = 'no' # 'yes', 'no'\n",
    "mlflow_run_to_use = 0\n",
    "mlflow_class_labels =['TENSOR']\n",
    "mlflow_predict_syntax = 'predict'\n",
    "\n",
    "### var to consider in bias assessment\n",
    "bias_vars = ['gender']\n",
    "\n",
    "### var to consider in partial dependency\n",
    "pd_var1 = 'credit_score'\n",
    "pd_var2 = 'net_worth'\n",
    "\n",
    "### create partition column, if not already in dataset\n",
    "if create_new_partition == 'yes':\n",
    "    dm_inputdf = shuffle(dm_inputdf)\n",
    "    dm_inputdf.reset_index(inplace=True, drop=True)\n",
    "    validate_rows = round(len(dm_inputdf)*dm_partition_validate_perc)\n",
    "    train_rows = round(len(dm_inputdf)*dm_partition_train_perc) + validate_rows\n",
    "    test_rows = len(dm_inputdf)-train_rows\n",
    "    dm_inputdf.loc[0:validate_rows,dm_partitionvar] = dm_partition_validate_val\n",
    "    dm_inputdf.loc[validate_rows:train_rows,dm_partitionvar] = dm_partition_train_val\n",
    "    dm_inputdf.loc[train_rows:,dm_partitionvar] = dm_partition_test_val"
   ]
  },
  {
   "cell_type": "code",
   "execution_count": 31,
   "metadata": {},
   "outputs": [
    {
     "name": "stdout",
     "output_type": "stream",
     "text": [
      "['gender', 'at_current_job_1_year', 'num_dependents', 'age', 'debt_to_income', 'num_transactions', 'credit_history_mos', 'credit_score', 'amount', 'net_worth', 'job_in_education', 'job_in_hospitality']\n"
     ]
    }
   ],
   "source": [
    "##############################\n",
    "### Final Modeling Columns ###\n",
    "##############################\n",
    "\n",
    "### create list of model variables\n",
    "dm_input = list(dm_inputdf.columns.values)\n",
    "macro_vars = (dm_dec_target + ' ' + dm_partitionvar + ' ' + dm_key).split()\n",
    "rejected_predictors = [i for i in dm_input if i not in keep_predictors]\n",
    "rejected_vars = rejected_predictors # + macro_vars (include macro_vars if rejected_predictors are explicitly listed - not contra keep_predictors)\n",
    "for i in rejected_vars:\n",
    "    dm_input.remove(i)\n",
    "print(dm_input)\n",
    "\n",
    "### create prediction variables\n",
    "dm_predictionvar = [str('P_') + dm_dec_target + dm_classtarget_level[0], str('P_') + dm_dec_target + dm_classtarget_level[1]]\n",
    "dm_classtarget_intovar = str('I_') + dm_dec_target"
   ]
  },
  {
   "cell_type": "code",
   "execution_count": 32,
   "metadata": {},
   "outputs": [],
   "source": [
    "##################\n",
    "### Data Split ###\n",
    "##################\n",
    "\n",
    "### create train, test, validate datasets using existing partition column\n",
    "dm_traindf = dm_inputdf[dm_inputdf[dm_partitionvar] == dm_partition_train_val]\n",
    "X_train = dm_traindf.loc[:, dm_input]\n",
    "y_train = dm_traindf[dm_dec_target]\n",
    "dm_testdf = dm_inputdf.loc[(dm_inputdf[dm_partitionvar] == dm_partition_test_val)]\n",
    "X_test = dm_testdf.loc[:, dm_input]\n",
    "y_test = dm_testdf[dm_dec_target]\n",
    "dm_validdf = dm_inputdf.loc[(dm_inputdf[dm_partitionvar] == dm_partition_validate_val)]\n",
    "X_valid = dm_validdf.loc[:, dm_input]\n",
    "y_valid = dm_validdf[dm_dec_target]"
   ]
  },
  {
   "cell_type": "code",
   "execution_count": 33,
   "metadata": {},
   "outputs": [
    {
     "name": "stdout",
     "output_type": "stream",
     "text": [
      "Logistic Regression\n",
      "Logistic Regression\n",
      "model_parameters\n",
      "LogisticRegression(solver='newton-cg')\n",
      " \n",
      "model_performance\n",
      "score_full: 0.86593707250342\n",
      "score_train: 0.864292693518619\n",
      "score_test: 0.8651465798045602\n",
      "score_valid: 0.8694896851248642\n",
      "confusion_matrix:\n",
      "(tn, fp, fn, tp)\n",
      "(975, 95, 112, 353)\n",
      "classification_report:\n",
      "              precision    recall  f1-score   support\n",
      "\n",
      "         0.0       0.90      0.91      0.90      1070\n",
      "         1.0       0.79      0.76      0.77       465\n",
      "\n",
      "    accuracy                           0.87      1535\n",
      "   macro avg       0.84      0.84      0.84      1535\n",
      "weighted avg       0.86      0.87      0.86      1535\n",
      "\n",
      "intercept:\n",
      "[-0.15081969]\n",
      "odds_ratios:\n",
      "               predictors odds_ratio\n",
      "0                  gender   0.203525\n",
      "1   at_current_job_1_year   0.061578\n",
      "2          num_dependents   1.014168\n",
      "3                     age   1.293751\n",
      "4          debt_to_income   1.918857\n",
      "5        num_transactions   0.686583\n",
      "6      credit_history_mos   0.542766\n",
      "7            credit_score   0.634418\n",
      "8                  amount   0.529076\n",
      "9               net_worth   0.798287\n",
      "10       job_in_education   6.995784\n",
      "11     job_in_hospitality   0.872464\n"
     ]
    }
   ],
   "source": [
    "#####################\n",
    "### Training Code ###\n",
    "#####################\n",
    "\n",
    "from sklearn.linear_model import LogisticRegression\n",
    "from sklearn.metrics import classification_report, confusion_matrix\n",
    "\n",
    "### estimate & fit model\n",
    "dm_model = LogisticRegression(**logit_params)\n",
    "dm_model.fit(X_train, y_train)\n",
    "\n",
    "### score full data\n",
    "fullX = dm_inputdf.loc[:, dm_input]\n",
    "fully = dm_inputdf[dm_dec_target]\n",
    "#plot_roc_curve(dm_model, fullX, fully)\n",
    "dm_scoreddf_prob = pd.DataFrame(dm_model.predict_proba(fullX), columns=dm_predictionvar)\n",
    "dm_scoreddf_class = pd.DataFrame(dm_model.predict(fullX), columns=[dm_classtarget_intovar])\n",
    "columns_actual = bias_vars + [dm_dec_target]\n",
    "dm_scoreddf_bias = pd.DataFrame(dm_inputdf, columns=columns_actual)\n",
    "dm_scoreddf = pd.concat([dm_scoreddf_prob, dm_scoreddf_class], axis=1)\n",
    "scored = pd.concat([dm_scoreddf, dm_scoreddf_bias], axis=1)\n",
    "\n",
    "### create tables with predicted values\n",
    "trainProba = dm_model.predict_proba(X_train)\n",
    "trainProbaLabel = dm_model.predict(X_train)\n",
    "testProba = dm_model.predict_proba(X_test)\n",
    "testProbaLabel = dm_model.predict(X_test)\n",
    "validProba = dm_model.predict_proba(X_valid)\n",
    "validProbaLabel = dm_model.predict(X_valid)\n",
    "trainData = pd.concat([y_train.reset_index(drop=True), pd.Series(data=trainProbaLabel), pd.Series(data=trainProba[:,1])], axis=1)\n",
    "testData = pd.concat([y_test.reset_index(drop=True), pd.Series(data=testProbaLabel), pd.Series(data=testProba[:,1])], axis=1)\n",
    "validData = pd.concat([y_valid.reset_index(drop=True), pd.Series(data=validProbaLabel), pd.Series(data=validProba[:,1])], axis=1)\n",
    "trainData.columns = ['actual', 'predict', 'probability']\n",
    "testData.columns = ['actual', 'predict', 'probability']\n",
    "validData.columns = ['actual', 'predict', 'probability']\n",
    "\n",
    "### print model & results\n",
    "predictions = dm_model.predict(X_test)\n",
    "cols = X_train.columns\n",
    "predictors = np.array(cols)\n",
    "tn, fp, fn, tp = confusion_matrix(y_test, predictions).ravel()\n",
    "print(description)\n",
    "print(description)\n",
    "print('model_parameters')\n",
    "print(dm_model)\n",
    "print(' ')\n",
    "print('model_performance')\n",
    "print('score_full:', dm_model.score(fullX, fully))\n",
    "print('score_train:', dm_model.score(X_train, y_train))\n",
    "print('score_test:', dm_model.score(X_test, y_test))\n",
    "print('score_valid:', dm_model.score(X_valid, y_valid))\n",
    "print('confusion_matrix:')\n",
    "print('(tn, fp, fn, tp)')\n",
    "print((tn, fp, fn, tp))\n",
    "print('classification_report:')\n",
    "print(classification_report(y_test, predictions))\n",
    "\n",
    "### print logit odds ratios\n",
    "orat = np.exp(dm_model.coef_, out=None)\n",
    "c1 = np.vstack([predictors,orat])\n",
    "c2 = np.transpose(c1)\n",
    "c = pd.DataFrame(c2, columns=['predictors', 'odds_ratio'])\n",
    "print('intercept:')\n",
    "print(dm_model.intercept_)\n",
    "print('odds_ratios:')\n",
    "print(c)"
   ]
  },
  {
   "cell_type": "code",
   "execution_count": 35,
   "metadata": {},
   "outputs": [],
   "source": [
    "#######################################\n",
    "### Register Model in Model Manager ###\n",
    "## Ensure Model Does Not Exist in MM ##\n",
    "##### Using PZMM Zips Up Metadata #####\n",
    "#######################################\n",
    "\n",
    "from sasctl import Session\n",
    "import sasctl.pzmm as pzmm\n",
    "from sasctl.services import model_repository as modelRepo \n",
    "from sasctl.tasks import register_model\n",
    "import shutil\n",
    "import json\n",
    "\n",
    "input_df = X_train\n",
    "target_df = y_train\n",
    "predictors = np.array(X_train.columns)\n",
    "prediction_labels = ['EM_CLASSIFICATION', 'EM_EVENTPROBABILITY']\n",
    "target_event = dm_classtarget_level[1]\n",
    "target_level = 'BINARY'\n",
    "num_target_categories = len(dm_classtarget_level)\n",
    "predict_method = str('{}.')+str(predict_syntax)+str('({})')\n",
    "output_vars = pd.DataFrame(columns=prediction_labels, data=[['A', 0.5]])"
   ]
  },
  {
   "cell_type": "code",
   "execution_count": 36,
   "metadata": {},
   "outputs": [
    {
     "name": "stdout",
     "output_type": "stream",
     "text": [
      "C:/Users/chparr/OneDrive - SAS/git/sas_viya/python/logit_python/financial_services/logit_python_finsvcs.ipynb\n"
     ]
    },
    {
     "data": {
      "text/plain": [
       "WindowsPath('C:/Users/chparr/OneDrive - SAS/python/outputs/logit_python_finsvcs_demo')"
      ]
     },
     "execution_count": 36,
     "metadata": {},
     "output_type": "execute_result"
    }
   ],
   "source": [
    "### create directories for metadata\n",
    "output_path = Path(output_dir) / metadata_output_dir / model_name\n",
    "if output_path.exists() and output_path.is_dir():\n",
    "    shutil.rmtree(output_path)\n",
    "\n",
    "### create output path\n",
    "os.makedirs(output_path)\n",
    "\n",
    "### create python requirements file\n",
    "requirements = [\n",
    "    {\n",
    "        \"step\":\"import math, pickle, pandas as pd, numpy as np, settings\",\n",
    "        \"command\":\"pip3 install math==3.10.5 pickle==3.10.5 numpy==1.20.3 pandas==1.3.4 settings==0.2.2\"\n",
    "    }\n",
    "]\n",
    "requirementsObj = json.dumps(requirements, indent = 4)\n",
    "with open(str(output_path)+str('/requirements.json'), 'w') as outfile:\n",
    "    outfile.write(requirementsObj)\n",
    "    \n",
    "### copy .py script to output path\n",
    "### right click script and copy path (change to forward slash)\n",
    "src = str(git_dir) + str('/python/logit_python/financial_services/logit_python_finsvcs.ipynb')\n",
    "print(src)\n",
    "dst = output_path\n",
    "shutil.copy(src, dst)\n",
    "output_path"
   ]
  },
  {
   "cell_type": "code",
   "execution_count": 37,
   "metadata": {},
   "outputs": [
    {
     "name": "stdout",
     "output_type": "stream",
     "text": [
      "Model logit_python_finsvcs_demo was successfully pickled and saved to C:\\Users\\chparr\\OneDrive - SAS\\python\\outputs\\logit_python_finsvcs_demo\\logit_python_finsvcs_demo.pickle.\n",
      "inputVar.json was successfully written and saved to C:\\Users\\chparr\\OneDrive - SAS\\python\\outputs\\logit_python_finsvcs_demo\\inputVar.json\n",
      "outputVar.json was successfully written and saved to C:\\Users\\chparr\\OneDrive - SAS\\python\\outputs\\logit_python_finsvcs_demo\\outputVar.json\n",
      "fileMetadata.json was successfully written and saved to C:\\Users\\chparr\\OneDrive - SAS\\python\\outputs\\logit_python_finsvcs_demo\\fileMetadata.json\n",
      "ModelProperties.json was successfully written and saved to C:\\Users\\chparr\\OneDrive - SAS\\python\\outputs\\logit_python_finsvcs_demo\\ModelProperties.json\n"
     ]
    }
   ],
   "source": [
    "### create metadata\n",
    "pzmm.PickleModel.pickle_trained_model(trained_model=dm_model, model_prefix=model_name, pickle_path=output_path)\n",
    "pzmm.JSONFiles().write_var_json(input_data=input_df, is_input=True, json_path=output_path)\n",
    "pzmm.JSONFiles().write_var_json(input_data=output_vars, is_input=False, json_path=output_path)\n",
    "pzmm.JSONFiles().write_file_metadata_json(model_prefix=model_name, json_path=output_path)\n",
    "pzmm.JSONFiles().write_model_properties_json(\n",
    "    model_name=model_name, \n",
    "    target_variable=dm_dec_target,\n",
    "    target_values=dm_classtarget_level,\n",
    "    json_path=output_path,\n",
    "    model_desc=description,\n",
    "    model_algorithm=model_type,\n",
    "    model_function=model_function,\n",
    "    modeler=username,\n",
    "    train_table=in_mem_tbl,\n",
    "    properties=None)"
   ]
  },
  {
   "cell_type": "code",
   "execution_count": 38,
   "metadata": {},
   "outputs": [],
   "source": [
    "### create session in cas\n",
    "sess = Session(hostname=session, token=access_token, client_secret='access_token')"
   ]
  },
  {
   "cell_type": "code",
   "execution_count": 39,
   "metadata": {},
   "outputs": [
    {
     "name": "stdout",
     "output_type": "stream",
     "text": [
      "dmcas_fitstat.json was successfully written and saved to C:\\Users\\chparr\\OneDrive - SAS\\python\\outputs\\logit_python_finsvcs_demo\\dmcas_fitstat.json\n",
      "dmcas_roc.json was successfully written and saved to C:\\Users\\chparr\\OneDrive - SAS\\python\\outputs\\logit_python_finsvcs_demo\\dmcas_roc.json\n",
      "dmcas_lift.json was successfully written and saved to C:\\Users\\chparr\\OneDrive - SAS\\python\\outputs\\logit_python_finsvcs_demo\\dmcas_lift.json\n"
     ]
    }
   ],
   "source": [
    "pzmm.JSONFiles().calculate_model_statistics(\n",
    "    target_value=int(dm_classtarget_level[1]), \n",
    "    prob_value=0.11, \n",
    "    train_data=trainData, \n",
    "    test_data=testData, \n",
    "    validate_data=validData, \n",
    "    json_path=output_path)"
   ]
  },
  {
   "cell_type": "code",
   "execution_count": 40,
   "metadata": {},
   "outputs": [
    {
     "name": "stderr",
     "output_type": "stream",
     "text": [
      "C:\\Users\\chparr\\AppData\\Local\\Temp\\ipykernel_32316\\1403221455.py:1: ExperimentalWarning: assess_model_bias is experimental and may be modified or removed without warning.\n",
      "  pzmm.JSONFiles().assess_model_bias(\n"
     ]
    },
    {
     "name": "stdout",
     "output_type": "stream",
     "text": [
      "maxDifferences.json was successfully written and saved to C:\\Users\\chparr\\OneDrive - SAS\\python\\outputs\\logit_python_finsvcs_demo\\maxDifferences.json\n",
      "groupMetrics.json was successfully written and saved to C:\\Users\\chparr\\OneDrive - SAS\\python\\outputs\\logit_python_finsvcs_demo\\groupMetrics.json\n"
     ]
    },
    {
     "name": "stderr",
     "output_type": "stream",
     "text": [
      "C:\\Users\\chparr\\AppData\\Roaming\\Python\\Python311\\site-packages\\sasctl\\pzmm\\write_json_files.py:920: ExperimentalWarning: bias_dataframes_to_json is experimental and may be modified or removed without warning.\n",
      "  json_files = cls.bias_dataframes_to_json(\n"
     ]
    }
   ],
   "source": [
    "pzmm.JSONFiles().assess_model_bias(\n",
    "    score_table=scored, \n",
    "    sensitive_values=bias_vars, \n",
    "    actual_values=dm_dec_target,\n",
    "    pred_values=None,\n",
    "    prob_values=dm_predictionvar,\n",
    "    levels=dm_classtarget_level,\n",
    "    cutoff=0.5,\n",
    "    json_path=output_path)"
   ]
  },
  {
   "cell_type": "code",
   "execution_count": 41,
   "metadata": {},
   "outputs": [
    {
     "name": "stderr",
     "output_type": "stream",
     "text": [
      "C:\\Users\\chparr\\AppData\\Roaming\\Python\\Python311\\site-packages\\sasctl\\pzmm\\write_score_code.py:1500: UserWarning: Due to the ambiguity of the provided metrics and prediction return types, the score code assumes that a classification and the target event probability should be returned.\n",
      "  warn(\n"
     ]
    },
    {
     "name": "stdout",
     "output_type": "stream",
     "text": [
      "Model score code was written successfully to C:\\Users\\chparr\\OneDrive - SAS\\python\\outputs\\logit_python_finsvcs_demo\\score_logit_python_finsvcs_demo.py and uploaded to SAS Model Manager.\n",
      "All model files were zipped to C:\\Users\\chparr\\OneDrive - SAS\\python\\outputs\\logit_python_finsvcs_demo.\n",
      "Model was successfully imported into SAS Model Manager as logit_python_finsvcs_demo with the following UUID: eb160f23-e20e-47dc-8734-d007750ad860.\n"
     ]
    },
    {
     "data": {
      "text/plain": [
       "(<class 'sasctl.core.RestObj'>(headers={'Date': 'Mon, 22 Apr 2024 16:39:44 GMT', 'Content-Type': 'application/vnd.sas.collection+json; charset=utf-8', 'Transfer-Encoding': 'chunked', 'Connection': 'keep-alive', 'Cache-Control': 'no-cache, no-store, max-age=0, must-revalidate', 'Expires': '0', 'Pragma': 'no-cache', 'Sas-Service-Response-Flag': 'true', 'Vary': 'Origin', 'Strict-Transport-Security': 'max-age=63072000; includeSubDomains'}, data={'creationTimeStamp': '2024-04-22T16:39:41.794Z', 'createdBy': 'Chris.Parrish@sas.com', 'modifiedTimeStamp': '2024-04-22T16:39:44.656Z', 'modifiedBy': 'Chris.Parrish@sas.com', 'id': 'eb160f23-e20e-47dc-8734-d007750ad860', 'name': 'logit_python_finsvcs_demo', 'description': 'Logistic Regression', 'role': 'plain', 'scoreCodeType': 'python', 'algorithm': 'logistic_regression', 'function': 'Classification', 'modeler': 'CP', 'modelType': 'python', 'trainCodeType': 'Python', 'trainTable': 'FINANCIAL_SERVICES_PREP', 'eventProbVar': 'P_0', 'targetVariable': 'event_indicator', 'targetEvent': '0', 'targetLevel': 'binary', 'tool': 'Python 3', 'toolVersion': '3.11.9', 'version': 2, 'indirectFolderId': 'ba46ee7b-3ba2-43a4-9ca2-23f6ca0e30bb', 'repositoryId': '9cf42c7e-c47a-4859-831c-3d2b7ce972e3', 'projectId': '71ba6d56-a71b-4e70-8aa2-31a10f95d7c2', 'projectVersionId': '2ea210bf-56da-461d-8e5c-44ee2274a19f', 'immutable': False, 'folderRef': '/folders/folders/d67339ce-4daa-466a-b4c6-c9697f742cc8', 'location': '/Model Repositories/Public/FIN SERVICES/Version 1', 'modelVersionName': '1.0', 'projectName': 'FIN SERVICES', 'projectVersionName': 'Version 1', 'projectVersionNum': '1.0', 'files': [{'creationTimeStamp': '2024-04-22T16:39:42.762299Z', 'createdBy': 'anonymous', 'modifiedTimeStamp': '2024-04-22T16:39:42.7623Z', 'modifiedBy': 'anonymous', 'version': 2, 'id': '874b8cfe-db89-4844-91d7-132ce4b20597', 'name': 'ModelProperties.json', 'fileUri': '/files/files/04547aba-0802-4694-8c1a-90dc7d6c018e', 'modelId': 'eb160f23-e20e-47dc-8734-d007750ad860', 'links': [{'method': 'GET', 'rel': 'UP', 'href': '/modelRepository/models/eb160f23-e20e-47dc-8734-d007750ad860', 'uri': '/modelRepository/models/eb160f23-e20e-47dc-8734-d007750ad860', 'itemType': 'application/vnd.sas.models.model.content'}, {'method': 'GET', 'rel': 'self', 'href': '/modelRepository/models/eb160f23-e20e-47dc-8734-d007750ad860/contents/874b8cfe-db89-4844-91d7-132ce4b20597', 'uri': '/modelRepository/models/eb160f23-e20e-47dc-8734-d007750ad860/contents/874b8cfe-db89-4844-91d7-132ce4b20597', 'type': 'application/vnd.sas.models.model.content'}, {'method': 'GET', 'rel': 'content', 'uri': '/modelRepository/models/eb160f23-e20e-47dc-8734-d007750ad860/contents/874b8cfe-db89-4844-91d7-132ce4b20597/content', 'type': 'application/octet-stream'}, {'method': 'POST', 'rel': 'create', 'href': '/modelRepository/models/eb160f23-e20e-47dc-8734-d007750ad860/contents/874b8cfe-db89-4844-91d7-132ce4b20597', 'uri': '/modelRepository/models/eb160f23-e20e-47dc-8734-d007750ad860/contents/874b8cfe-db89-4844-91d7-132ce4b20597', 'type': 'multipart/form-data'}, {'method': 'PUT', 'rel': 'update', 'href': '/modelRepository/models/eb160f23-e20e-47dc-8734-d007750ad860/contents/874b8cfe-db89-4844-91d7-132ce4b20597', 'uri': '/modelRepository/models/eb160f23-e20e-47dc-8734-d007750ad860/contents/874b8cfe-db89-4844-91d7-132ce4b20597', 'type': 'application/vnd.sas.models.model.content'}, {'method': 'PUT', 'rel': 'updateContentMultipart', 'href': '/modelRepository/models/eb160f23-e20e-47dc-8734-d007750ad860/contents/874b8cfe-db89-4844-91d7-132ce4b20597', 'uri': '/modelRepository/models/eb160f23-e20e-47dc-8734-d007750ad860/contents/874b8cfe-db89-4844-91d7-132ce4b20597', 'type': 'application/vnd.sas.models.model.content'}, {'method': 'DELETE', 'rel': 'delete', 'href': '/modelRepository/models/eb160f23-e20e-47dc-8734-d007750ad860/contents/874b8cfe-db89-4844-91d7-132ce4b20597', 'uri': '/modelRepository/models/eb160f23-e20e-47dc-8734-d007750ad860/contents/874b8cfe-db89-4844-91d7-132ce4b20597'}]}, {'creationTimeStamp': '2024-04-22T16:39:42.871803Z', 'createdBy': 'anonymous', 'modifiedTimeStamp': '2024-04-22T16:39:42.871804Z', 'modifiedBy': 'anonymous', 'version': 2, 'id': '5e227912-3513-42b6-86b9-aed86d70f671', 'name': 'dmcas_fitstat.json', 'fileUri': '/files/files/14205de3-ec42-466f-a3d7-5d52d73f695a', 'modelId': 'eb160f23-e20e-47dc-8734-d007750ad860', 'links': [{'method': 'GET', 'rel': 'UP', 'href': '/modelRepository/models/eb160f23-e20e-47dc-8734-d007750ad860', 'uri': '/modelRepository/models/eb160f23-e20e-47dc-8734-d007750ad860', 'itemType': 'application/vnd.sas.models.model.content'}, {'method': 'GET', 'rel': 'self', 'href': '/modelRepository/models/eb160f23-e20e-47dc-8734-d007750ad860/contents/5e227912-3513-42b6-86b9-aed86d70f671', 'uri': '/modelRepository/models/eb160f23-e20e-47dc-8734-d007750ad860/contents/5e227912-3513-42b6-86b9-aed86d70f671', 'type': 'application/vnd.sas.models.model.content'}, {'method': 'GET', 'rel': 'content', 'uri': '/modelRepository/models/eb160f23-e20e-47dc-8734-d007750ad860/contents/5e227912-3513-42b6-86b9-aed86d70f671/content', 'type': 'application/octet-stream'}, {'method': 'POST', 'rel': 'create', 'href': '/modelRepository/models/eb160f23-e20e-47dc-8734-d007750ad860/contents/5e227912-3513-42b6-86b9-aed86d70f671', 'uri': '/modelRepository/models/eb160f23-e20e-47dc-8734-d007750ad860/contents/5e227912-3513-42b6-86b9-aed86d70f671', 'type': 'multipart/form-data'}, {'method': 'PUT', 'rel': 'update', 'href': '/modelRepository/models/eb160f23-e20e-47dc-8734-d007750ad860/contents/5e227912-3513-42b6-86b9-aed86d70f671', 'uri': '/modelRepository/models/eb160f23-e20e-47dc-8734-d007750ad860/contents/5e227912-3513-42b6-86b9-aed86d70f671', 'type': 'application/vnd.sas.models.model.content'}, {'method': 'PUT', 'rel': 'updateContentMultipart', 'href': '/modelRepository/models/eb160f23-e20e-47dc-8734-d007750ad860/contents/5e227912-3513-42b6-86b9-aed86d70f671', 'uri': '/modelRepository/models/eb160f23-e20e-47dc-8734-d007750ad860/contents/5e227912-3513-42b6-86b9-aed86d70f671', 'type': 'application/vnd.sas.models.model.content'}, {'method': 'DELETE', 'rel': 'delete', 'href': '/modelRepository/models/eb160f23-e20e-47dc-8734-d007750ad860/contents/5e227912-3513-42b6-86b9-aed86d70f671', 'uri': '/modelRepository/models/eb160f23-e20e-47dc-8734-d007750ad860/contents/5e227912-3513-42b6-86b9-aed86d70f671'}]}, {'creationTimeStamp': '2024-04-22T16:39:43.003736Z', 'createdBy': 'anonymous', 'modifiedTimeStamp': '2024-04-22T16:39:43.003737Z', 'modifiedBy': 'anonymous', 'version': 2, 'id': 'b63da5a7-5518-4996-8ca4-eccb3ef19cdb', 'name': 'dmcas_lift.json', 'fileUri': '/files/files/0b56a5af-e4d3-499b-bf22-a5ba0d0eb8c3', 'modelId': 'eb160f23-e20e-47dc-8734-d007750ad860', 'links': [{'method': 'GET', 'rel': 'UP', 'href': '/modelRepository/models/eb160f23-e20e-47dc-8734-d007750ad860', 'uri': '/modelRepository/models/eb160f23-e20e-47dc-8734-d007750ad860', 'itemType': 'application/vnd.sas.models.model.content'}, {'method': 'GET', 'rel': 'self', 'href': '/modelRepository/models/eb160f23-e20e-47dc-8734-d007750ad860/contents/b63da5a7-5518-4996-8ca4-eccb3ef19cdb', 'uri': '/modelRepository/models/eb160f23-e20e-47dc-8734-d007750ad860/contents/b63da5a7-5518-4996-8ca4-eccb3ef19cdb', 'type': 'application/vnd.sas.models.model.content'}, {'method': 'GET', 'rel': 'content', 'uri': '/modelRepository/models/eb160f23-e20e-47dc-8734-d007750ad860/contents/b63da5a7-5518-4996-8ca4-eccb3ef19cdb/content', 'type': 'application/octet-stream'}, {'method': 'POST', 'rel': 'create', 'href': '/modelRepository/models/eb160f23-e20e-47dc-8734-d007750ad860/contents/b63da5a7-5518-4996-8ca4-eccb3ef19cdb', 'uri': '/modelRepository/models/eb160f23-e20e-47dc-8734-d007750ad860/contents/b63da5a7-5518-4996-8ca4-eccb3ef19cdb', 'type': 'multipart/form-data'}, {'method': 'PUT', 'rel': 'update', 'href': '/modelRepository/models/eb160f23-e20e-47dc-8734-d007750ad860/contents/b63da5a7-5518-4996-8ca4-eccb3ef19cdb', 'uri': '/modelRepository/models/eb160f23-e20e-47dc-8734-d007750ad860/contents/b63da5a7-5518-4996-8ca4-eccb3ef19cdb', 'type': 'application/vnd.sas.models.model.content'}, {'method': 'PUT', 'rel': 'updateContentMultipart', 'href': '/modelRepository/models/eb160f23-e20e-47dc-8734-d007750ad860/contents/b63da5a7-5518-4996-8ca4-eccb3ef19cdb', 'uri': '/modelRepository/models/eb160f23-e20e-47dc-8734-d007750ad860/contents/b63da5a7-5518-4996-8ca4-eccb3ef19cdb', 'type': 'application/vnd.sas.models.model.content'}, {'method': 'DELETE', 'rel': 'delete', 'href': '/modelRepository/models/eb160f23-e20e-47dc-8734-d007750ad860/contents/b63da5a7-5518-4996-8ca4-eccb3ef19cdb', 'uri': '/modelRepository/models/eb160f23-e20e-47dc-8734-d007750ad860/contents/b63da5a7-5518-4996-8ca4-eccb3ef19cdb'}]}, {'creationTimeStamp': '2024-04-22T16:39:43.165225Z', 'createdBy': 'anonymous', 'modifiedTimeStamp': '2024-04-22T16:39:43.165226Z', 'modifiedBy': 'anonymous', 'version': 2, 'id': 'cae1781c-e270-469e-a5a3-ea7cf1baed5b', 'name': 'dmcas_roc.json', 'fileUri': '/files/files/49b864e7-82e3-474e-9ddc-91f1121a6e22', 'modelId': 'eb160f23-e20e-47dc-8734-d007750ad860', 'links': [{'method': 'GET', 'rel': 'UP', 'href': '/modelRepository/models/eb160f23-e20e-47dc-8734-d007750ad860', 'uri': '/modelRepository/models/eb160f23-e20e-47dc-8734-d007750ad860', 'itemType': 'application/vnd.sas.models.model.content'}, {'method': 'GET', 'rel': 'self', 'href': '/modelRepository/models/eb160f23-e20e-47dc-8734-d007750ad860/contents/cae1781c-e270-469e-a5a3-ea7cf1baed5b', 'uri': '/modelRepository/models/eb160f23-e20e-47dc-8734-d007750ad860/contents/cae1781c-e270-469e-a5a3-ea7cf1baed5b', 'type': 'application/vnd.sas.models.model.content'}, {'method': 'GET', 'rel': 'content', 'uri': '/modelRepository/models/eb160f23-e20e-47dc-8734-d007750ad860/contents/cae1781c-e270-469e-a5a3-ea7cf1baed5b/content', 'type': 'application/octet-stream'}, {'method': 'POST', 'rel': 'create', 'href': '/modelRepository/models/eb160f23-e20e-47dc-8734-d007750ad860/contents/cae1781c-e270-469e-a5a3-ea7cf1baed5b', 'uri': '/modelRepository/models/eb160f23-e20e-47dc-8734-d007750ad860/contents/cae1781c-e270-469e-a5a3-ea7cf1baed5b', 'type': 'multipart/form-data'}, {'method': 'PUT', 'rel': 'update', 'href': '/modelRepository/models/eb160f23-e20e-47dc-8734-d007750ad860/contents/cae1781c-e270-469e-a5a3-ea7cf1baed5b', 'uri': '/modelRepository/models/eb160f23-e20e-47dc-8734-d007750ad860/contents/cae1781c-e270-469e-a5a3-ea7cf1baed5b', 'type': 'application/vnd.sas.models.model.content'}, {'method': 'PUT', 'rel': 'updateContentMultipart', 'href': '/modelRepository/models/eb160f23-e20e-47dc-8734-d007750ad860/contents/cae1781c-e270-469e-a5a3-ea7cf1baed5b', 'uri': '/modelRepository/models/eb160f23-e20e-47dc-8734-d007750ad860/contents/cae1781c-e270-469e-a5a3-ea7cf1baed5b', 'type': 'application/vnd.sas.models.model.content'}, {'method': 'DELETE', 'rel': 'delete', 'href': '/modelRepository/models/eb160f23-e20e-47dc-8734-d007750ad860/contents/cae1781c-e270-469e-a5a3-ea7cf1baed5b', 'uri': '/modelRepository/models/eb160f23-e20e-47dc-8734-d007750ad860/contents/cae1781c-e270-469e-a5a3-ea7cf1baed5b'}]}, {'creationTimeStamp': '2024-04-22T16:39:43.279247Z', 'createdBy': 'anonymous', 'modifiedTimeStamp': '2024-04-22T16:39:43.279248Z', 'modifiedBy': 'anonymous', 'version': 2, 'id': '0903a0ad-0eaf-4ea1-98a5-826434b20ced', 'name': 'groupMetrics.json', 'fileUri': '/files/files/a7262675-5932-4f51-8e80-e30edd82c443', 'modelId': 'eb160f23-e20e-47dc-8734-d007750ad860', 'links': [{'method': 'GET', 'rel': 'UP', 'href': '/modelRepository/models/eb160f23-e20e-47dc-8734-d007750ad860', 'uri': '/modelRepository/models/eb160f23-e20e-47dc-8734-d007750ad860', 'itemType': 'application/vnd.sas.models.model.content'}, {'method': 'GET', 'rel': 'self', 'href': '/modelRepository/models/eb160f23-e20e-47dc-8734-d007750ad860/contents/0903a0ad-0eaf-4ea1-98a5-826434b20ced', 'uri': '/modelRepository/models/eb160f23-e20e-47dc-8734-d007750ad860/contents/0903a0ad-0eaf-4ea1-98a5-826434b20ced', 'type': 'application/vnd.sas.models.model.content'}, {'method': 'GET', 'rel': 'content', 'uri': '/modelRepository/models/eb160f23-e20e-47dc-8734-d007750ad860/contents/0903a0ad-0eaf-4ea1-98a5-826434b20ced/content', 'type': 'application/octet-stream'}, {'method': 'POST', 'rel': 'create', 'href': '/modelRepository/models/eb160f23-e20e-47dc-8734-d007750ad860/contents/0903a0ad-0eaf-4ea1-98a5-826434b20ced', 'uri': '/modelRepository/models/eb160f23-e20e-47dc-8734-d007750ad860/contents/0903a0ad-0eaf-4ea1-98a5-826434b20ced', 'type': 'multipart/form-data'}, {'method': 'PUT', 'rel': 'update', 'href': '/modelRepository/models/eb160f23-e20e-47dc-8734-d007750ad860/contents/0903a0ad-0eaf-4ea1-98a5-826434b20ced', 'uri': '/modelRepository/models/eb160f23-e20e-47dc-8734-d007750ad860/contents/0903a0ad-0eaf-4ea1-98a5-826434b20ced', 'type': 'application/vnd.sas.models.model.content'}, {'method': 'PUT', 'rel': 'updateContentMultipart', 'href': '/modelRepository/models/eb160f23-e20e-47dc-8734-d007750ad860/contents/0903a0ad-0eaf-4ea1-98a5-826434b20ced', 'uri': '/modelRepository/models/eb160f23-e20e-47dc-8734-d007750ad860/contents/0903a0ad-0eaf-4ea1-98a5-826434b20ced', 'type': 'application/vnd.sas.models.model.content'}, {'method': 'DELETE', 'rel': 'delete', 'href': '/modelRepository/models/eb160f23-e20e-47dc-8734-d007750ad860/contents/0903a0ad-0eaf-4ea1-98a5-826434b20ced', 'uri': '/modelRepository/models/eb160f23-e20e-47dc-8734-d007750ad860/contents/0903a0ad-0eaf-4ea1-98a5-826434b20ced'}]}, {'creationTimeStamp': '2024-04-22T16:39:43.75479Z', 'createdBy': 'anonymous', 'modifiedTimeStamp': '2024-04-22T16:39:43.75479Z', 'modifiedBy': 'anonymous', 'version': 2, 'id': '616fe677-5900-45bc-9f5e-7c892cd6a084', 'name': 'maxDifferences.json', 'fileUri': '/files/files/d637d411-14df-458e-9db2-12b220a2853e', 'modelId': 'eb160f23-e20e-47dc-8734-d007750ad860', 'links': [{'method': 'GET', 'rel': 'UP', 'href': '/modelRepository/models/eb160f23-e20e-47dc-8734-d007750ad860', 'uri': '/modelRepository/models/eb160f23-e20e-47dc-8734-d007750ad860', 'itemType': 'application/vnd.sas.models.model.content'}, {'method': 'GET', 'rel': 'self', 'href': '/modelRepository/models/eb160f23-e20e-47dc-8734-d007750ad860/contents/616fe677-5900-45bc-9f5e-7c892cd6a084', 'uri': '/modelRepository/models/eb160f23-e20e-47dc-8734-d007750ad860/contents/616fe677-5900-45bc-9f5e-7c892cd6a084', 'type': 'application/vnd.sas.models.model.content'}, {'method': 'GET', 'rel': 'content', 'uri': '/modelRepository/models/eb160f23-e20e-47dc-8734-d007750ad860/contents/616fe677-5900-45bc-9f5e-7c892cd6a084/content', 'type': 'application/octet-stream'}, {'method': 'POST', 'rel': 'create', 'href': '/modelRepository/models/eb160f23-e20e-47dc-8734-d007750ad860/contents/616fe677-5900-45bc-9f5e-7c892cd6a084', 'uri': '/modelRepository/models/eb160f23-e20e-47dc-8734-d007750ad860/contents/616fe677-5900-45bc-9f5e-7c892cd6a084', 'type': 'multipart/form-data'}, {'method': 'PUT', 'rel': 'update', 'href': '/modelRepository/models/eb160f23-e20e-47dc-8734-d007750ad860/contents/616fe677-5900-45bc-9f5e-7c892cd6a084', 'uri': '/modelRepository/models/eb160f23-e20e-47dc-8734-d007750ad860/contents/616fe677-5900-45bc-9f5e-7c892cd6a084', 'type': 'application/vnd.sas.models.model.content'}, {'method': 'PUT', 'rel': 'updateContentMultipart', 'href': '/modelRepository/models/eb160f23-e20e-47dc-8734-d007750ad860/contents/616fe677-5900-45bc-9f5e-7c892cd6a084', 'uri': '/modelRepository/models/eb160f23-e20e-47dc-8734-d007750ad860/contents/616fe677-5900-45bc-9f5e-7c892cd6a084', 'type': 'application/vnd.sas.models.model.content'}, {'method': 'DELETE', 'rel': 'delete', 'href': '/modelRepository/models/eb160f23-e20e-47dc-8734-d007750ad860/contents/616fe677-5900-45bc-9f5e-7c892cd6a084', 'uri': '/modelRepository/models/eb160f23-e20e-47dc-8734-d007750ad860/contents/616fe677-5900-45bc-9f5e-7c892cd6a084'}]}, {'creationTimeStamp': '2024-04-22T16:39:44.045581Z', 'createdBy': 'anonymous', 'modifiedTimeStamp': '2024-04-22T16:39:44.045581Z', 'modifiedBy': 'anonymous', 'version': 2, 'id': '5ce72519-3a8e-4d1e-8443-3a2c6ebf68ae', 'name': 'requirements.json', 'fileUri': '/files/files/8e805d95-81ae-44fc-ba71-8718c1b138c5', 'modelId': 'eb160f23-e20e-47dc-8734-d007750ad860', 'links': [{'method': 'GET', 'rel': 'UP', 'href': '/modelRepository/models/eb160f23-e20e-47dc-8734-d007750ad860', 'uri': '/modelRepository/models/eb160f23-e20e-47dc-8734-d007750ad860', 'itemType': 'application/vnd.sas.models.model.content'}, {'method': 'GET', 'rel': 'self', 'href': '/modelRepository/models/eb160f23-e20e-47dc-8734-d007750ad860/contents/5ce72519-3a8e-4d1e-8443-3a2c6ebf68ae', 'uri': '/modelRepository/models/eb160f23-e20e-47dc-8734-d007750ad860/contents/5ce72519-3a8e-4d1e-8443-3a2c6ebf68ae', 'type': 'application/vnd.sas.models.model.content'}, {'method': 'GET', 'rel': 'content', 'uri': '/modelRepository/models/eb160f23-e20e-47dc-8734-d007750ad860/contents/5ce72519-3a8e-4d1e-8443-3a2c6ebf68ae/content', 'type': 'application/octet-stream'}, {'method': 'POST', 'rel': 'create', 'href': '/modelRepository/models/eb160f23-e20e-47dc-8734-d007750ad860/contents/5ce72519-3a8e-4d1e-8443-3a2c6ebf68ae', 'uri': '/modelRepository/models/eb160f23-e20e-47dc-8734-d007750ad860/contents/5ce72519-3a8e-4d1e-8443-3a2c6ebf68ae', 'type': 'multipart/form-data'}, {'method': 'PUT', 'rel': 'update', 'href': '/modelRepository/models/eb160f23-e20e-47dc-8734-d007750ad860/contents/5ce72519-3a8e-4d1e-8443-3a2c6ebf68ae', 'uri': '/modelRepository/models/eb160f23-e20e-47dc-8734-d007750ad860/contents/5ce72519-3a8e-4d1e-8443-3a2c6ebf68ae', 'type': 'application/vnd.sas.models.model.content'}, {'method': 'PUT', 'rel': 'updateContentMultipart', 'href': '/modelRepository/models/eb160f23-e20e-47dc-8734-d007750ad860/contents/5ce72519-3a8e-4d1e-8443-3a2c6ebf68ae', 'uri': '/modelRepository/models/eb160f23-e20e-47dc-8734-d007750ad860/contents/5ce72519-3a8e-4d1e-8443-3a2c6ebf68ae', 'type': 'application/vnd.sas.models.model.content'}, {'method': 'DELETE', 'rel': 'delete', 'href': '/modelRepository/models/eb160f23-e20e-47dc-8734-d007750ad860/contents/5ce72519-3a8e-4d1e-8443-3a2c6ebf68ae', 'uri': '/modelRepository/models/eb160f23-e20e-47dc-8734-d007750ad860/contents/5ce72519-3a8e-4d1e-8443-3a2c6ebf68ae'}]}, {'creationTimeStamp': '2024-04-22T16:39:43.514019Z', 'createdBy': 'anonymous', 'modifiedTimeStamp': '2024-04-22T16:39:44.200729Z', 'modifiedBy': 'Chris.Parrish@sas.com', 'version': 2, 'id': '7542e9e8-d29a-425d-8495-86b75efd7eba', 'name': 'inputVar.json', 'role': 'inputVariables', 'fileUri': '/files/files/d52ac330-f52e-40ca-b5f7-f7f63112f342', 'modelId': 'eb160f23-e20e-47dc-8734-d007750ad860', 'links': [{'method': 'GET', 'rel': 'UP', 'href': '/modelRepository/models/eb160f23-e20e-47dc-8734-d007750ad860', 'uri': '/modelRepository/models/eb160f23-e20e-47dc-8734-d007750ad860', 'itemType': 'application/vnd.sas.models.model.content'}, {'method': 'GET', 'rel': 'self', 'href': '/modelRepository/models/eb160f23-e20e-47dc-8734-d007750ad860/contents/7542e9e8-d29a-425d-8495-86b75efd7eba', 'uri': '/modelRepository/models/eb160f23-e20e-47dc-8734-d007750ad860/contents/7542e9e8-d29a-425d-8495-86b75efd7eba', 'type': 'application/vnd.sas.models.model.content'}, {'method': 'GET', 'rel': 'content', 'uri': '/modelRepository/models/eb160f23-e20e-47dc-8734-d007750ad860/contents/7542e9e8-d29a-425d-8495-86b75efd7eba/content', 'type': 'application/octet-stream'}, {'method': 'POST', 'rel': 'create', 'href': '/modelRepository/models/eb160f23-e20e-47dc-8734-d007750ad860/contents/7542e9e8-d29a-425d-8495-86b75efd7eba', 'uri': '/modelRepository/models/eb160f23-e20e-47dc-8734-d007750ad860/contents/7542e9e8-d29a-425d-8495-86b75efd7eba', 'type': 'multipart/form-data'}, {'method': 'PUT', 'rel': 'update', 'href': '/modelRepository/models/eb160f23-e20e-47dc-8734-d007750ad860/contents/7542e9e8-d29a-425d-8495-86b75efd7eba', 'uri': '/modelRepository/models/eb160f23-e20e-47dc-8734-d007750ad860/contents/7542e9e8-d29a-425d-8495-86b75efd7eba', 'type': 'application/vnd.sas.models.model.content'}, {'method': 'PUT', 'rel': 'updateContentMultipart', 'href': '/modelRepository/models/eb160f23-e20e-47dc-8734-d007750ad860/contents/7542e9e8-d29a-425d-8495-86b75efd7eba', 'uri': '/modelRepository/models/eb160f23-e20e-47dc-8734-d007750ad860/contents/7542e9e8-d29a-425d-8495-86b75efd7eba', 'type': 'application/vnd.sas.models.model.content'}, {'method': 'DELETE', 'rel': 'delete', 'href': '/modelRepository/models/eb160f23-e20e-47dc-8734-d007750ad860/contents/7542e9e8-d29a-425d-8495-86b75efd7eba', 'uri': '/modelRepository/models/eb160f23-e20e-47dc-8734-d007750ad860/contents/7542e9e8-d29a-425d-8495-86b75efd7eba'}]}, {'creationTimeStamp': '2024-04-22T16:39:43.635013Z', 'createdBy': 'anonymous', 'modifiedTimeStamp': '2024-04-22T16:39:44.204115Z', 'modifiedBy': 'Chris.Parrish@sas.com', 'version': 2, 'id': '35862d04-71ab-4a58-bd09-d432be92a305', 'name': 'logit_python_finsvcs_demo.pickle', 'role': 'scoreResource', 'fileUri': '/files/files/84c53bfa-7f01-4e82-9b3c-a6771fe5efdc', 'modelId': 'eb160f23-e20e-47dc-8734-d007750ad860', 'links': [{'method': 'GET', 'rel': 'UP', 'href': '/modelRepository/models/eb160f23-e20e-47dc-8734-d007750ad860', 'uri': '/modelRepository/models/eb160f23-e20e-47dc-8734-d007750ad860', 'itemType': 'application/vnd.sas.models.model.content'}, {'method': 'GET', 'rel': 'self', 'href': '/modelRepository/models/eb160f23-e20e-47dc-8734-d007750ad860/contents/35862d04-71ab-4a58-bd09-d432be92a305', 'uri': '/modelRepository/models/eb160f23-e20e-47dc-8734-d007750ad860/contents/35862d04-71ab-4a58-bd09-d432be92a305', 'type': 'application/vnd.sas.models.model.content'}, {'method': 'GET', 'rel': 'content', 'uri': '/modelRepository/models/eb160f23-e20e-47dc-8734-d007750ad860/contents/35862d04-71ab-4a58-bd09-d432be92a305/content', 'type': 'application/octet-stream'}, {'method': 'POST', 'rel': 'create', 'href': '/modelRepository/models/eb160f23-e20e-47dc-8734-d007750ad860/contents/35862d04-71ab-4a58-bd09-d432be92a305', 'uri': '/modelRepository/models/eb160f23-e20e-47dc-8734-d007750ad860/contents/35862d04-71ab-4a58-bd09-d432be92a305', 'type': 'multipart/form-data'}, {'method': 'PUT', 'rel': 'update', 'href': '/modelRepository/models/eb160f23-e20e-47dc-8734-d007750ad860/contents/35862d04-71ab-4a58-bd09-d432be92a305', 'uri': '/modelRepository/models/eb160f23-e20e-47dc-8734-d007750ad860/contents/35862d04-71ab-4a58-bd09-d432be92a305', 'type': 'application/vnd.sas.models.model.content'}, {'method': 'PUT', 'rel': 'updateContentMultipart', 'href': '/modelRepository/models/eb160f23-e20e-47dc-8734-d007750ad860/contents/35862d04-71ab-4a58-bd09-d432be92a305', 'uri': '/modelRepository/models/eb160f23-e20e-47dc-8734-d007750ad860/contents/35862d04-71ab-4a58-bd09-d432be92a305', 'type': 'application/vnd.sas.models.model.content'}, {'method': 'DELETE', 'rel': 'delete', 'href': '/modelRepository/models/eb160f23-e20e-47dc-8734-d007750ad860/contents/35862d04-71ab-4a58-bd09-d432be92a305', 'uri': '/modelRepository/models/eb160f23-e20e-47dc-8734-d007750ad860/contents/35862d04-71ab-4a58-bd09-d432be92a305'}]}, {'creationTimeStamp': '2024-04-22T16:39:43.93418Z', 'createdBy': 'anonymous', 'modifiedTimeStamp': '2024-04-22T16:39:44.206773Z', 'modifiedBy': 'Chris.Parrish@sas.com', 'version': 2, 'id': '4de9aa42-f3d8-44c6-b459-2d71224cf019', 'name': 'outputVar.json', 'role': 'outputVariables', 'fileUri': '/files/files/aa9db308-ebbd-493f-a21c-a45546f15071', 'modelId': 'eb160f23-e20e-47dc-8734-d007750ad860', 'links': [{'method': 'GET', 'rel': 'UP', 'href': '/modelRepository/models/eb160f23-e20e-47dc-8734-d007750ad860', 'uri': '/modelRepository/models/eb160f23-e20e-47dc-8734-d007750ad860', 'itemType': 'application/vnd.sas.models.model.content'}, {'method': 'GET', 'rel': 'self', 'href': '/modelRepository/models/eb160f23-e20e-47dc-8734-d007750ad860/contents/4de9aa42-f3d8-44c6-b459-2d71224cf019', 'uri': '/modelRepository/models/eb160f23-e20e-47dc-8734-d007750ad860/contents/4de9aa42-f3d8-44c6-b459-2d71224cf019', 'type': 'application/vnd.sas.models.model.content'}, {'method': 'GET', 'rel': 'content', 'uri': '/modelRepository/models/eb160f23-e20e-47dc-8734-d007750ad860/contents/4de9aa42-f3d8-44c6-b459-2d71224cf019/content', 'type': 'application/octet-stream'}, {'method': 'POST', 'rel': 'create', 'href': '/modelRepository/models/eb160f23-e20e-47dc-8734-d007750ad860/contents/4de9aa42-f3d8-44c6-b459-2d71224cf019', 'uri': '/modelRepository/models/eb160f23-e20e-47dc-8734-d007750ad860/contents/4de9aa42-f3d8-44c6-b459-2d71224cf019', 'type': 'multipart/form-data'}, {'method': 'PUT', 'rel': 'update', 'href': '/modelRepository/models/eb160f23-e20e-47dc-8734-d007750ad860/contents/4de9aa42-f3d8-44c6-b459-2d71224cf019', 'uri': '/modelRepository/models/eb160f23-e20e-47dc-8734-d007750ad860/contents/4de9aa42-f3d8-44c6-b459-2d71224cf019', 'type': 'application/vnd.sas.models.model.content'}, {'method': 'PUT', 'rel': 'updateContentMultipart', 'href': '/modelRepository/models/eb160f23-e20e-47dc-8734-d007750ad860/contents/4de9aa42-f3d8-44c6-b459-2d71224cf019', 'uri': '/modelRepository/models/eb160f23-e20e-47dc-8734-d007750ad860/contents/4de9aa42-f3d8-44c6-b459-2d71224cf019', 'type': 'application/vnd.sas.models.model.content'}, {'method': 'DELETE', 'rel': 'delete', 'href': '/modelRepository/models/eb160f23-e20e-47dc-8734-d007750ad860/contents/4de9aa42-f3d8-44c6-b459-2d71224cf019', 'uri': '/modelRepository/models/eb160f23-e20e-47dc-8734-d007750ad860/contents/4de9aa42-f3d8-44c6-b459-2d71224cf019'}]}, {'creationTimeStamp': '2024-04-22T16:39:44.160187Z', 'createdBy': 'anonymous', 'modifiedTimeStamp': '2024-04-22T16:39:44.209867Z', 'modifiedBy': 'Chris.Parrish@sas.com', 'version': 2, 'id': 'cf947948-30b2-415a-b19a-37be43bc4377', 'name': 'score_logit_python_finsvcs_demo.py', 'role': 'score', 'fileUri': '/files/files/f8b11e6e-8d22-4f95-82a0-925d1a870a5e', 'modelId': 'eb160f23-e20e-47dc-8734-d007750ad860', 'links': [{'method': 'GET', 'rel': 'UP', 'href': '/modelRepository/models/eb160f23-e20e-47dc-8734-d007750ad860', 'uri': '/modelRepository/models/eb160f23-e20e-47dc-8734-d007750ad860', 'itemType': 'application/vnd.sas.models.model.content'}, {'method': 'GET', 'rel': 'self', 'href': '/modelRepository/models/eb160f23-e20e-47dc-8734-d007750ad860/contents/cf947948-30b2-415a-b19a-37be43bc4377', 'uri': '/modelRepository/models/eb160f23-e20e-47dc-8734-d007750ad860/contents/cf947948-30b2-415a-b19a-37be43bc4377', 'type': 'application/vnd.sas.models.model.content'}, {'method': 'GET', 'rel': 'content', 'uri': '/modelRepository/models/eb160f23-e20e-47dc-8734-d007750ad860/contents/cf947948-30b2-415a-b19a-37be43bc4377/content', 'type': 'application/octet-stream'}, {'method': 'POST', 'rel': 'create', 'href': '/modelRepository/models/eb160f23-e20e-47dc-8734-d007750ad860/contents/cf947948-30b2-415a-b19a-37be43bc4377', 'uri': '/modelRepository/models/eb160f23-e20e-47dc-8734-d007750ad860/contents/cf947948-30b2-415a-b19a-37be43bc4377', 'type': 'multipart/form-data'}, {'method': 'PUT', 'rel': 'update', 'href': '/modelRepository/models/eb160f23-e20e-47dc-8734-d007750ad860/contents/cf947948-30b2-415a-b19a-37be43bc4377', 'uri': '/modelRepository/models/eb160f23-e20e-47dc-8734-d007750ad860/contents/cf947948-30b2-415a-b19a-37be43bc4377', 'type': 'application/vnd.sas.models.model.content'}, {'method': 'PUT', 'rel': 'updateContentMultipart', 'href': '/modelRepository/models/eb160f23-e20e-47dc-8734-d007750ad860/contents/cf947948-30b2-415a-b19a-37be43bc4377', 'uri': '/modelRepository/models/eb160f23-e20e-47dc-8734-d007750ad860/contents/cf947948-30b2-415a-b19a-37be43bc4377', 'type': 'application/vnd.sas.models.model.content'}, {'method': 'DELETE', 'rel': 'delete', 'href': '/modelRepository/models/eb160f23-e20e-47dc-8734-d007750ad860/contents/cf947948-30b2-415a-b19a-37be43bc4377', 'uri': '/modelRepository/models/eb160f23-e20e-47dc-8734-d007750ad860/contents/cf947948-30b2-415a-b19a-37be43bc4377'}]}, {'creationTimeStamp': '2024-04-22T16:39:44.290136Z', 'createdBy': 'anonymous', 'modifiedTimeStamp': '2024-04-22T16:39:44.290136Z', 'modifiedBy': 'anonymous', 'version': 2, 'id': 'd76f0d67-834b-42b5-be4a-90e882e5592b', 'name': 'fileMetadata.json', 'fileUri': '/files/files/49d7d269-ada7-4a11-a9cc-75bd73453752', 'modelId': 'eb160f23-e20e-47dc-8734-d007750ad860', 'links': [{'method': 'GET', 'rel': 'UP', 'href': '/modelRepository/models/eb160f23-e20e-47dc-8734-d007750ad860', 'uri': '/modelRepository/models/eb160f23-e20e-47dc-8734-d007750ad860', 'itemType': 'application/vnd.sas.models.model.content'}, {'method': 'GET', 'rel': 'self', 'href': '/modelRepository/models/eb160f23-e20e-47dc-8734-d007750ad860/contents/d76f0d67-834b-42b5-be4a-90e882e5592b', 'uri': '/modelRepository/models/eb160f23-e20e-47dc-8734-d007750ad860/contents/d76f0d67-834b-42b5-be4a-90e882e5592b', 'type': 'application/vnd.sas.models.model.content'}, {'method': 'GET', 'rel': 'content', 'uri': '/modelRepository/models/eb160f23-e20e-47dc-8734-d007750ad860/contents/d76f0d67-834b-42b5-be4a-90e882e5592b/content', 'type': 'application/octet-stream'}, {'method': 'POST', 'rel': 'create', 'href': '/modelRepository/models/eb160f23-e20e-47dc-8734-d007750ad860/contents/d76f0d67-834b-42b5-be4a-90e882e5592b', 'uri': '/modelRepository/models/eb160f23-e20e-47dc-8734-d007750ad860/contents/d76f0d67-834b-42b5-be4a-90e882e5592b', 'type': 'multipart/form-data'}, {'method': 'PUT', 'rel': 'update', 'href': '/modelRepository/models/eb160f23-e20e-47dc-8734-d007750ad860/contents/d76f0d67-834b-42b5-be4a-90e882e5592b', 'uri': '/modelRepository/models/eb160f23-e20e-47dc-8734-d007750ad860/contents/d76f0d67-834b-42b5-be4a-90e882e5592b', 'type': 'application/vnd.sas.models.model.content'}, {'method': 'PUT', 'rel': 'updateContentMultipart', 'href': '/modelRepository/models/eb160f23-e20e-47dc-8734-d007750ad860/contents/d76f0d67-834b-42b5-be4a-90e882e5592b', 'uri': '/modelRepository/models/eb160f23-e20e-47dc-8734-d007750ad860/contents/d76f0d67-834b-42b5-be4a-90e882e5592b', 'type': 'application/vnd.sas.models.model.content'}, {'method': 'DELETE', 'rel': 'delete', 'href': '/modelRepository/models/eb160f23-e20e-47dc-8734-d007750ad860/contents/d76f0d67-834b-42b5-be4a-90e882e5592b', 'uri': '/modelRepository/models/eb160f23-e20e-47dc-8734-d007750ad860/contents/d76f0d67-834b-42b5-be4a-90e882e5592b'}]}], 'inputVariables': [{'creationTimeStamp': '2024-04-22T16:39:43.300263Z', 'createdBy': 'anonymous', 'modifiedTimeStamp': '2024-04-22T16:39:43.300264Z', 'modifiedBy': 'anonymous', 'name': 'gender', 'description': '', 'role': 'input', 'type': 'decimal', 'level': 'interval', 'format': '', 'aggregation': '', 'length': 8, 'id': '6299e396-7408-4fca-b256-9806fc7384e6', 'holderId': 'eb160f23-e20e-47dc-8734-d007750ad860', 'links': [{'method': 'GET', 'rel': 'up', 'href': '/modelRepository/models/eb160f23-e20e-47dc-8734-d007750ad860/variables/6299e396-7408-4fca-b256-9806fc7384e6', 'uri': '/modelRepository/models/eb160f23-e20e-47dc-8734-d007750ad860/variables', 'type': 'application/vnd.sas.collection'}, {'method': 'GET', 'rel': 'self', 'href': '/modelRepository/models/eb160f23-e20e-47dc-8734-d007750ad860/variables/6299e396-7408-4fca-b256-9806fc7384e6', 'uri': '/modelRepository/models/eb160f23-e20e-47dc-8734-d007750ad860/variables/6299e396-7408-4fca-b256-9806fc7384e6', 'type': 'application/vnd.sas.models.model.variable'}, {'method': 'PUT', 'rel': 'update', 'href': '/modelRepository/models/eb160f23-e20e-47dc-8734-d007750ad860/variables/6299e396-7408-4fca-b256-9806fc7384e6', 'uri': '/modelRepository/models/eb160f23-e20e-47dc-8734-d007750ad860/variables/6299e396-7408-4fca-b256-9806fc7384e6', 'type': 'application/vnd.sas.models.model.variable'}, {'method': 'DELETE', 'rel': 'delete', 'href': '/modelRepository/models/eb160f23-e20e-47dc-8734-d007750ad860/variables/6299e396-7408-4fca-b256-9806fc7384e6', 'uri': '/modelRepository/models/eb160f23-e20e-47dc-8734-d007750ad860/variables/6299e396-7408-4fca-b256-9806fc7384e6', 'type': 'application/vnd.sas.models.model.variable'}]}, {'creationTimeStamp': '2024-04-22T16:39:43.306863Z', 'createdBy': 'anonymous', 'modifiedTimeStamp': '2024-04-22T16:39:43.306863Z', 'modifiedBy': 'anonymous', 'name': 'at_current_job_1_year', 'description': '', 'role': 'input', 'type': 'decimal', 'level': 'interval', 'format': '', 'aggregation': '', 'length': 8, 'id': '4e3da273-76bf-48f9-9689-972eceb6f730', 'holderId': 'eb160f23-e20e-47dc-8734-d007750ad860', 'links': [{'method': 'GET', 'rel': 'up', 'href': '/modelRepository/models/eb160f23-e20e-47dc-8734-d007750ad860/variables/4e3da273-76bf-48f9-9689-972eceb6f730', 'uri': '/modelRepository/models/eb160f23-e20e-47dc-8734-d007750ad860/variables', 'type': 'application/vnd.sas.collection'}, {'method': 'GET', 'rel': 'self', 'href': '/modelRepository/models/eb160f23-e20e-47dc-8734-d007750ad860/variables/4e3da273-76bf-48f9-9689-972eceb6f730', 'uri': '/modelRepository/models/eb160f23-e20e-47dc-8734-d007750ad860/variables/4e3da273-76bf-48f9-9689-972eceb6f730', 'type': 'application/vnd.sas.models.model.variable'}, {'method': 'PUT', 'rel': 'update', 'href': '/modelRepository/models/eb160f23-e20e-47dc-8734-d007750ad860/variables/4e3da273-76bf-48f9-9689-972eceb6f730', 'uri': '/modelRepository/models/eb160f23-e20e-47dc-8734-d007750ad860/variables/4e3da273-76bf-48f9-9689-972eceb6f730', 'type': 'application/vnd.sas.models.model.variable'}, {'method': 'DELETE', 'rel': 'delete', 'href': '/modelRepository/models/eb160f23-e20e-47dc-8734-d007750ad860/variables/4e3da273-76bf-48f9-9689-972eceb6f730', 'uri': '/modelRepository/models/eb160f23-e20e-47dc-8734-d007750ad860/variables/4e3da273-76bf-48f9-9689-972eceb6f730', 'type': 'application/vnd.sas.models.model.variable'}]}, {'creationTimeStamp': '2024-04-22T16:39:43.31368Z', 'createdBy': 'anonymous', 'modifiedTimeStamp': '2024-04-22T16:39:43.31368Z', 'modifiedBy': 'anonymous', 'name': 'num_dependents', 'description': '', 'role': 'input', 'type': 'decimal', 'level': 'interval', 'format': '', 'aggregation': '', 'length': 8, 'id': 'c25a8a9d-b3ed-4830-a022-0b90919e2466', 'holderId': 'eb160f23-e20e-47dc-8734-d007750ad860', 'links': [{'method': 'GET', 'rel': 'up', 'href': '/modelRepository/models/eb160f23-e20e-47dc-8734-d007750ad860/variables/c25a8a9d-b3ed-4830-a022-0b90919e2466', 'uri': '/modelRepository/models/eb160f23-e20e-47dc-8734-d007750ad860/variables', 'type': 'application/vnd.sas.collection'}, {'method': 'GET', 'rel': 'self', 'href': '/modelRepository/models/eb160f23-e20e-47dc-8734-d007750ad860/variables/c25a8a9d-b3ed-4830-a022-0b90919e2466', 'uri': '/modelRepository/models/eb160f23-e20e-47dc-8734-d007750ad860/variables/c25a8a9d-b3ed-4830-a022-0b90919e2466', 'type': 'application/vnd.sas.models.model.variable'}, {'method': 'PUT', 'rel': 'update', 'href': '/modelRepository/models/eb160f23-e20e-47dc-8734-d007750ad860/variables/c25a8a9d-b3ed-4830-a022-0b90919e2466', 'uri': '/modelRepository/models/eb160f23-e20e-47dc-8734-d007750ad860/variables/c25a8a9d-b3ed-4830-a022-0b90919e2466', 'type': 'application/vnd.sas.models.model.variable'}, {'method': 'DELETE', 'rel': 'delete', 'href': '/modelRepository/models/eb160f23-e20e-47dc-8734-d007750ad860/variables/c25a8a9d-b3ed-4830-a022-0b90919e2466', 'uri': '/modelRepository/models/eb160f23-e20e-47dc-8734-d007750ad860/variables/c25a8a9d-b3ed-4830-a022-0b90919e2466', 'type': 'application/vnd.sas.models.model.variable'}]}, {'creationTimeStamp': '2024-04-22T16:39:43.322223Z', 'createdBy': 'anonymous', 'modifiedTimeStamp': '2024-04-22T16:39:43.322223Z', 'modifiedBy': 'anonymous', 'name': 'age', 'description': '', 'role': 'input', 'type': 'decimal', 'level': 'interval', 'format': '', 'aggregation': '', 'length': 8, 'id': '8d5d2863-c058-44a3-9f01-27825a3ed097', 'holderId': 'eb160f23-e20e-47dc-8734-d007750ad860', 'links': [{'method': 'GET', 'rel': 'up', 'href': '/modelRepository/models/eb160f23-e20e-47dc-8734-d007750ad860/variables/8d5d2863-c058-44a3-9f01-27825a3ed097', 'uri': '/modelRepository/models/eb160f23-e20e-47dc-8734-d007750ad860/variables', 'type': 'application/vnd.sas.collection'}, {'method': 'GET', 'rel': 'self', 'href': '/modelRepository/models/eb160f23-e20e-47dc-8734-d007750ad860/variables/8d5d2863-c058-44a3-9f01-27825a3ed097', 'uri': '/modelRepository/models/eb160f23-e20e-47dc-8734-d007750ad860/variables/8d5d2863-c058-44a3-9f01-27825a3ed097', 'type': 'application/vnd.sas.models.model.variable'}, {'method': 'PUT', 'rel': 'update', 'href': '/modelRepository/models/eb160f23-e20e-47dc-8734-d007750ad860/variables/8d5d2863-c058-44a3-9f01-27825a3ed097', 'uri': '/modelRepository/models/eb160f23-e20e-47dc-8734-d007750ad860/variables/8d5d2863-c058-44a3-9f01-27825a3ed097', 'type': 'application/vnd.sas.models.model.variable'}, {'method': 'DELETE', 'rel': 'delete', 'href': '/modelRepository/models/eb160f23-e20e-47dc-8734-d007750ad860/variables/8d5d2863-c058-44a3-9f01-27825a3ed097', 'uri': '/modelRepository/models/eb160f23-e20e-47dc-8734-d007750ad860/variables/8d5d2863-c058-44a3-9f01-27825a3ed097', 'type': 'application/vnd.sas.models.model.variable'}]}, {'creationTimeStamp': '2024-04-22T16:39:43.330515Z', 'createdBy': 'anonymous', 'modifiedTimeStamp': '2024-04-22T16:39:43.330516Z', 'modifiedBy': 'anonymous', 'name': 'debt_to_income', 'description': '', 'role': 'input', 'type': 'decimal', 'level': 'interval', 'format': '', 'aggregation': '', 'length': 8, 'id': '46f1d7f8-4bd0-48ff-a16e-f7c56f0a2a1e', 'holderId': 'eb160f23-e20e-47dc-8734-d007750ad860', 'links': [{'method': 'GET', 'rel': 'up', 'href': '/modelRepository/models/eb160f23-e20e-47dc-8734-d007750ad860/variables/46f1d7f8-4bd0-48ff-a16e-f7c56f0a2a1e', 'uri': '/modelRepository/models/eb160f23-e20e-47dc-8734-d007750ad860/variables', 'type': 'application/vnd.sas.collection'}, {'method': 'GET', 'rel': 'self', 'href': '/modelRepository/models/eb160f23-e20e-47dc-8734-d007750ad860/variables/46f1d7f8-4bd0-48ff-a16e-f7c56f0a2a1e', 'uri': '/modelRepository/models/eb160f23-e20e-47dc-8734-d007750ad860/variables/46f1d7f8-4bd0-48ff-a16e-f7c56f0a2a1e', 'type': 'application/vnd.sas.models.model.variable'}, {'method': 'PUT', 'rel': 'update', 'href': '/modelRepository/models/eb160f23-e20e-47dc-8734-d007750ad860/variables/46f1d7f8-4bd0-48ff-a16e-f7c56f0a2a1e', 'uri': '/modelRepository/models/eb160f23-e20e-47dc-8734-d007750ad860/variables/46f1d7f8-4bd0-48ff-a16e-f7c56f0a2a1e', 'type': 'application/vnd.sas.models.model.variable'}, {'method': 'DELETE', 'rel': 'delete', 'href': '/modelRepository/models/eb160f23-e20e-47dc-8734-d007750ad860/variables/46f1d7f8-4bd0-48ff-a16e-f7c56f0a2a1e', 'uri': '/modelRepository/models/eb160f23-e20e-47dc-8734-d007750ad860/variables/46f1d7f8-4bd0-48ff-a16e-f7c56f0a2a1e', 'type': 'application/vnd.sas.models.model.variable'}]}, {'creationTimeStamp': '2024-04-22T16:39:43.33658Z', 'createdBy': 'anonymous', 'modifiedTimeStamp': '2024-04-22T16:39:43.336581Z', 'modifiedBy': 'anonymous', 'name': 'num_transactions', 'description': '', 'role': 'input', 'type': 'decimal', 'level': 'interval', 'format': '', 'aggregation': '', 'length': 8, 'id': '517d77d0-73bf-46ae-bfb6-b108bbf5a488', 'holderId': 'eb160f23-e20e-47dc-8734-d007750ad860', 'links': [{'method': 'GET', 'rel': 'up', 'href': '/modelRepository/models/eb160f23-e20e-47dc-8734-d007750ad860/variables/517d77d0-73bf-46ae-bfb6-b108bbf5a488', 'uri': '/modelRepository/models/eb160f23-e20e-47dc-8734-d007750ad860/variables', 'type': 'application/vnd.sas.collection'}, {'method': 'GET', 'rel': 'self', 'href': '/modelRepository/models/eb160f23-e20e-47dc-8734-d007750ad860/variables/517d77d0-73bf-46ae-bfb6-b108bbf5a488', 'uri': '/modelRepository/models/eb160f23-e20e-47dc-8734-d007750ad860/variables/517d77d0-73bf-46ae-bfb6-b108bbf5a488', 'type': 'application/vnd.sas.models.model.variable'}, {'method': 'PUT', 'rel': 'update', 'href': '/modelRepository/models/eb160f23-e20e-47dc-8734-d007750ad860/variables/517d77d0-73bf-46ae-bfb6-b108bbf5a488', 'uri': '/modelRepository/models/eb160f23-e20e-47dc-8734-d007750ad860/variables/517d77d0-73bf-46ae-bfb6-b108bbf5a488', 'type': 'application/vnd.sas.models.model.variable'}, {'method': 'DELETE', 'rel': 'delete', 'href': '/modelRepository/models/eb160f23-e20e-47dc-8734-d007750ad860/variables/517d77d0-73bf-46ae-bfb6-b108bbf5a488', 'uri': '/modelRepository/models/eb160f23-e20e-47dc-8734-d007750ad860/variables/517d77d0-73bf-46ae-bfb6-b108bbf5a488', 'type': 'application/vnd.sas.models.model.variable'}]}, {'creationTimeStamp': '2024-04-22T16:39:43.342257Z', 'createdBy': 'anonymous', 'modifiedTimeStamp': '2024-04-22T16:39:43.342258Z', 'modifiedBy': 'anonymous', 'name': 'credit_history_mos', 'description': '', 'role': 'input', 'type': 'decimal', 'level': 'interval', 'format': '', 'aggregation': '', 'length': 8, 'id': 'e79ba736-e92c-463f-a3c9-0147b19792e4', 'holderId': 'eb160f23-e20e-47dc-8734-d007750ad860', 'links': [{'method': 'GET', 'rel': 'up', 'href': '/modelRepository/models/eb160f23-e20e-47dc-8734-d007750ad860/variables/e79ba736-e92c-463f-a3c9-0147b19792e4', 'uri': '/modelRepository/models/eb160f23-e20e-47dc-8734-d007750ad860/variables', 'type': 'application/vnd.sas.collection'}, {'method': 'GET', 'rel': 'self', 'href': '/modelRepository/models/eb160f23-e20e-47dc-8734-d007750ad860/variables/e79ba736-e92c-463f-a3c9-0147b19792e4', 'uri': '/modelRepository/models/eb160f23-e20e-47dc-8734-d007750ad860/variables/e79ba736-e92c-463f-a3c9-0147b19792e4', 'type': 'application/vnd.sas.models.model.variable'}, {'method': 'PUT', 'rel': 'update', 'href': '/modelRepository/models/eb160f23-e20e-47dc-8734-d007750ad860/variables/e79ba736-e92c-463f-a3c9-0147b19792e4', 'uri': '/modelRepository/models/eb160f23-e20e-47dc-8734-d007750ad860/variables/e79ba736-e92c-463f-a3c9-0147b19792e4', 'type': 'application/vnd.sas.models.model.variable'}, {'method': 'DELETE', 'rel': 'delete', 'href': '/modelRepository/models/eb160f23-e20e-47dc-8734-d007750ad860/variables/e79ba736-e92c-463f-a3c9-0147b19792e4', 'uri': '/modelRepository/models/eb160f23-e20e-47dc-8734-d007750ad860/variables/e79ba736-e92c-463f-a3c9-0147b19792e4', 'type': 'application/vnd.sas.models.model.variable'}]}, {'creationTimeStamp': '2024-04-22T16:39:43.345268Z', 'createdBy': 'anonymous', 'modifiedTimeStamp': '2024-04-22T16:39:43.345268Z', 'modifiedBy': 'anonymous', 'name': 'credit_score', 'description': '', 'role': 'input', 'type': 'decimal', 'level': 'interval', 'format': '', 'aggregation': '', 'length': 8, 'id': '36dacea9-7258-47e8-bb99-b9a6b231526d', 'holderId': 'eb160f23-e20e-47dc-8734-d007750ad860', 'links': [{'method': 'GET', 'rel': 'up', 'href': '/modelRepository/models/eb160f23-e20e-47dc-8734-d007750ad860/variables/36dacea9-7258-47e8-bb99-b9a6b231526d', 'uri': '/modelRepository/models/eb160f23-e20e-47dc-8734-d007750ad860/variables', 'type': 'application/vnd.sas.collection'}, {'method': 'GET', 'rel': 'self', 'href': '/modelRepository/models/eb160f23-e20e-47dc-8734-d007750ad860/variables/36dacea9-7258-47e8-bb99-b9a6b231526d', 'uri': '/modelRepository/models/eb160f23-e20e-47dc-8734-d007750ad860/variables/36dacea9-7258-47e8-bb99-b9a6b231526d', 'type': 'application/vnd.sas.models.model.variable'}, {'method': 'PUT', 'rel': 'update', 'href': '/modelRepository/models/eb160f23-e20e-47dc-8734-d007750ad860/variables/36dacea9-7258-47e8-bb99-b9a6b231526d', 'uri': '/modelRepository/models/eb160f23-e20e-47dc-8734-d007750ad860/variables/36dacea9-7258-47e8-bb99-b9a6b231526d', 'type': 'application/vnd.sas.models.model.variable'}, {'method': 'DELETE', 'rel': 'delete', 'href': '/modelRepository/models/eb160f23-e20e-47dc-8734-d007750ad860/variables/36dacea9-7258-47e8-bb99-b9a6b231526d', 'uri': '/modelRepository/models/eb160f23-e20e-47dc-8734-d007750ad860/variables/36dacea9-7258-47e8-bb99-b9a6b231526d', 'type': 'application/vnd.sas.models.model.variable'}]}, {'creationTimeStamp': '2024-04-22T16:39:43.351196Z', 'createdBy': 'anonymous', 'modifiedTimeStamp': '2024-04-22T16:39:43.351197Z', 'modifiedBy': 'anonymous', 'name': 'amount', 'description': '', 'role': 'input', 'type': 'decimal', 'level': 'interval', 'format': '', 'aggregation': '', 'length': 8, 'id': '81125022-37ab-4152-b6cd-6325ddafdd5a', 'holderId': 'eb160f23-e20e-47dc-8734-d007750ad860', 'links': [{'method': 'GET', 'rel': 'up', 'href': '/modelRepository/models/eb160f23-e20e-47dc-8734-d007750ad860/variables/81125022-37ab-4152-b6cd-6325ddafdd5a', 'uri': '/modelRepository/models/eb160f23-e20e-47dc-8734-d007750ad860/variables', 'type': 'application/vnd.sas.collection'}, {'method': 'GET', 'rel': 'self', 'href': '/modelRepository/models/eb160f23-e20e-47dc-8734-d007750ad860/variables/81125022-37ab-4152-b6cd-6325ddafdd5a', 'uri': '/modelRepository/models/eb160f23-e20e-47dc-8734-d007750ad860/variables/81125022-37ab-4152-b6cd-6325ddafdd5a', 'type': 'application/vnd.sas.models.model.variable'}, {'method': 'PUT', 'rel': 'update', 'href': '/modelRepository/models/eb160f23-e20e-47dc-8734-d007750ad860/variables/81125022-37ab-4152-b6cd-6325ddafdd5a', 'uri': '/modelRepository/models/eb160f23-e20e-47dc-8734-d007750ad860/variables/81125022-37ab-4152-b6cd-6325ddafdd5a', 'type': 'application/vnd.sas.models.model.variable'}, {'method': 'DELETE', 'rel': 'delete', 'href': '/modelRepository/models/eb160f23-e20e-47dc-8734-d007750ad860/variables/81125022-37ab-4152-b6cd-6325ddafdd5a', 'uri': '/modelRepository/models/eb160f23-e20e-47dc-8734-d007750ad860/variables/81125022-37ab-4152-b6cd-6325ddafdd5a', 'type': 'application/vnd.sas.models.model.variable'}]}, {'creationTimeStamp': '2024-04-22T16:39:43.358466Z', 'createdBy': 'anonymous', 'modifiedTimeStamp': '2024-04-22T16:39:43.358467Z', 'modifiedBy': 'anonymous', 'name': 'net_worth', 'description': '', 'role': 'input', 'type': 'decimal', 'level': 'interval', 'format': '', 'aggregation': '', 'length': 8, 'id': '15c28d9d-3619-4089-860a-586a2ac0c9b2', 'holderId': 'eb160f23-e20e-47dc-8734-d007750ad860', 'links': [{'method': 'GET', 'rel': 'up', 'href': '/modelRepository/models/eb160f23-e20e-47dc-8734-d007750ad860/variables/15c28d9d-3619-4089-860a-586a2ac0c9b2', 'uri': '/modelRepository/models/eb160f23-e20e-47dc-8734-d007750ad860/variables', 'type': 'application/vnd.sas.collection'}, {'method': 'GET', 'rel': 'self', 'href': '/modelRepository/models/eb160f23-e20e-47dc-8734-d007750ad860/variables/15c28d9d-3619-4089-860a-586a2ac0c9b2', 'uri': '/modelRepository/models/eb160f23-e20e-47dc-8734-d007750ad860/variables/15c28d9d-3619-4089-860a-586a2ac0c9b2', 'type': 'application/vnd.sas.models.model.variable'}, {'method': 'PUT', 'rel': 'update', 'href': '/modelRepository/models/eb160f23-e20e-47dc-8734-d007750ad860/variables/15c28d9d-3619-4089-860a-586a2ac0c9b2', 'uri': '/modelRepository/models/eb160f23-e20e-47dc-8734-d007750ad860/variables/15c28d9d-3619-4089-860a-586a2ac0c9b2', 'type': 'application/vnd.sas.models.model.variable'}, {'method': 'DELETE', 'rel': 'delete', 'href': '/modelRepository/models/eb160f23-e20e-47dc-8734-d007750ad860/variables/15c28d9d-3619-4089-860a-586a2ac0c9b2', 'uri': '/modelRepository/models/eb160f23-e20e-47dc-8734-d007750ad860/variables/15c28d9d-3619-4089-860a-586a2ac0c9b2', 'type': 'application/vnd.sas.models.model.variable'}]}, {'creationTimeStamp': '2024-04-22T16:39:43.361749Z', 'createdBy': 'anonymous', 'modifiedTimeStamp': '2024-04-22T16:39:43.361749Z', 'modifiedBy': 'anonymous', 'name': 'job_in_education', 'description': '', 'role': 'input', 'type': 'decimal', 'level': 'interval', 'format': '', 'aggregation': '', 'length': 8, 'id': 'd82f4048-686c-4060-bfe9-3b09fa764ef3', 'holderId': 'eb160f23-e20e-47dc-8734-d007750ad860', 'links': [{'method': 'GET', 'rel': 'up', 'href': '/modelRepository/models/eb160f23-e20e-47dc-8734-d007750ad860/variables/d82f4048-686c-4060-bfe9-3b09fa764ef3', 'uri': '/modelRepository/models/eb160f23-e20e-47dc-8734-d007750ad860/variables', 'type': 'application/vnd.sas.collection'}, {'method': 'GET', 'rel': 'self', 'href': '/modelRepository/models/eb160f23-e20e-47dc-8734-d007750ad860/variables/d82f4048-686c-4060-bfe9-3b09fa764ef3', 'uri': '/modelRepository/models/eb160f23-e20e-47dc-8734-d007750ad860/variables/d82f4048-686c-4060-bfe9-3b09fa764ef3', 'type': 'application/vnd.sas.models.model.variable'}, {'method': 'PUT', 'rel': 'update', 'href': '/modelRepository/models/eb160f23-e20e-47dc-8734-d007750ad860/variables/d82f4048-686c-4060-bfe9-3b09fa764ef3', 'uri': '/modelRepository/models/eb160f23-e20e-47dc-8734-d007750ad860/variables/d82f4048-686c-4060-bfe9-3b09fa764ef3', 'type': 'application/vnd.sas.models.model.variable'}, {'method': 'DELETE', 'rel': 'delete', 'href': '/modelRepository/models/eb160f23-e20e-47dc-8734-d007750ad860/variables/d82f4048-686c-4060-bfe9-3b09fa764ef3', 'uri': '/modelRepository/models/eb160f23-e20e-47dc-8734-d007750ad860/variables/d82f4048-686c-4060-bfe9-3b09fa764ef3', 'type': 'application/vnd.sas.models.model.variable'}]}, {'creationTimeStamp': '2024-04-22T16:39:43.364667Z', 'createdBy': 'anonymous', 'modifiedTimeStamp': '2024-04-22T16:39:43.364667Z', 'modifiedBy': 'anonymous', 'name': 'job_in_hospitality', 'description': '', 'role': 'input', 'type': 'decimal', 'level': 'interval', 'format': '', 'aggregation': '', 'length': 8, 'id': '6d69477b-0dfa-4a6a-b269-4d576342e5ac', 'holderId': 'eb160f23-e20e-47dc-8734-d007750ad860', 'links': [{'method': 'GET', 'rel': 'up', 'href': '/modelRepository/models/eb160f23-e20e-47dc-8734-d007750ad860/variables/6d69477b-0dfa-4a6a-b269-4d576342e5ac', 'uri': '/modelRepository/models/eb160f23-e20e-47dc-8734-d007750ad860/variables', 'type': 'application/vnd.sas.collection'}, {'method': 'GET', 'rel': 'self', 'href': '/modelRepository/models/eb160f23-e20e-47dc-8734-d007750ad860/variables/6d69477b-0dfa-4a6a-b269-4d576342e5ac', 'uri': '/modelRepository/models/eb160f23-e20e-47dc-8734-d007750ad860/variables/6d69477b-0dfa-4a6a-b269-4d576342e5ac', 'type': 'application/vnd.sas.models.model.variable'}, {'method': 'PUT', 'rel': 'update', 'href': '/modelRepository/models/eb160f23-e20e-47dc-8734-d007750ad860/variables/6d69477b-0dfa-4a6a-b269-4d576342e5ac', 'uri': '/modelRepository/models/eb160f23-e20e-47dc-8734-d007750ad860/variables/6d69477b-0dfa-4a6a-b269-4d576342e5ac', 'type': 'application/vnd.sas.models.model.variable'}, {'method': 'DELETE', 'rel': 'delete', 'href': '/modelRepository/models/eb160f23-e20e-47dc-8734-d007750ad860/variables/6d69477b-0dfa-4a6a-b269-4d576342e5ac', 'uri': '/modelRepository/models/eb160f23-e20e-47dc-8734-d007750ad860/variables/6d69477b-0dfa-4a6a-b269-4d576342e5ac', 'type': 'application/vnd.sas.models.model.variable'}]}], 'outputVariables': [{'creationTimeStamp': '2024-04-22T16:39:43.774155Z', 'createdBy': 'anonymous', 'modifiedTimeStamp': '2024-04-22T16:39:43.774155Z', 'modifiedBy': 'anonymous', 'name': 'EM_CLASSIFICATION', 'description': '', 'role': 'output', 'type': 'string', 'level': 'nominal', 'format': '', 'aggregation': '', 'length': 1, 'id': 'ccf627d9-a427-4640-a6cf-2aaef7b19423', 'holderId': 'eb160f23-e20e-47dc-8734-d007750ad860', 'links': [{'method': 'GET', 'rel': 'up', 'href': '/modelRepository/models/eb160f23-e20e-47dc-8734-d007750ad860/variables/ccf627d9-a427-4640-a6cf-2aaef7b19423', 'uri': '/modelRepository/models/eb160f23-e20e-47dc-8734-d007750ad860/variables', 'type': 'application/vnd.sas.collection'}, {'method': 'GET', 'rel': 'self', 'href': '/modelRepository/models/eb160f23-e20e-47dc-8734-d007750ad860/variables/ccf627d9-a427-4640-a6cf-2aaef7b19423', 'uri': '/modelRepository/models/eb160f23-e20e-47dc-8734-d007750ad860/variables/ccf627d9-a427-4640-a6cf-2aaef7b19423', 'type': 'application/vnd.sas.models.model.variable'}, {'method': 'PUT', 'rel': 'update', 'href': '/modelRepository/models/eb160f23-e20e-47dc-8734-d007750ad860/variables/ccf627d9-a427-4640-a6cf-2aaef7b19423', 'uri': '/modelRepository/models/eb160f23-e20e-47dc-8734-d007750ad860/variables/ccf627d9-a427-4640-a6cf-2aaef7b19423', 'type': 'application/vnd.sas.models.model.variable'}, {'method': 'DELETE', 'rel': 'delete', 'href': '/modelRepository/models/eb160f23-e20e-47dc-8734-d007750ad860/variables/ccf627d9-a427-4640-a6cf-2aaef7b19423', 'uri': '/modelRepository/models/eb160f23-e20e-47dc-8734-d007750ad860/variables/ccf627d9-a427-4640-a6cf-2aaef7b19423', 'type': 'application/vnd.sas.models.model.variable'}]}, {'creationTimeStamp': '2024-04-22T16:39:43.777617Z', 'createdBy': 'anonymous', 'modifiedTimeStamp': '2024-04-22T16:39:43.777617Z', 'modifiedBy': 'anonymous', 'name': 'EM_EVENTPROBABILITY', 'description': '', 'role': 'output', 'type': 'decimal', 'level': 'interval', 'format': '', 'aggregation': '', 'length': 8, 'id': '6952afe1-b7bd-420f-9d76-37d6dec74ea3', 'holderId': 'eb160f23-e20e-47dc-8734-d007750ad860', 'links': [{'method': 'GET', 'rel': 'up', 'href': '/modelRepository/models/eb160f23-e20e-47dc-8734-d007750ad860/variables/6952afe1-b7bd-420f-9d76-37d6dec74ea3', 'uri': '/modelRepository/models/eb160f23-e20e-47dc-8734-d007750ad860/variables', 'type': 'application/vnd.sas.collection'}, {'method': 'GET', 'rel': 'self', 'href': '/modelRepository/models/eb160f23-e20e-47dc-8734-d007750ad860/variables/6952afe1-b7bd-420f-9d76-37d6dec74ea3', 'uri': '/modelRepository/models/eb160f23-e20e-47dc-8734-d007750ad860/variables/6952afe1-b7bd-420f-9d76-37d6dec74ea3', 'type': 'application/vnd.sas.models.model.variable'}, {'method': 'PUT', 'rel': 'update', 'href': '/modelRepository/models/eb160f23-e20e-47dc-8734-d007750ad860/variables/6952afe1-b7bd-420f-9d76-37d6dec74ea3', 'uri': '/modelRepository/models/eb160f23-e20e-47dc-8734-d007750ad860/variables/6952afe1-b7bd-420f-9d76-37d6dec74ea3', 'type': 'application/vnd.sas.models.model.variable'}, {'method': 'DELETE', 'rel': 'delete', 'href': '/modelRepository/models/eb160f23-e20e-47dc-8734-d007750ad860/variables/6952afe1-b7bd-420f-9d76-37d6dec74ea3', 'uri': '/modelRepository/models/eb160f23-e20e-47dc-8734-d007750ad860/variables/6952afe1-b7bd-420f-9d76-37d6dec74ea3', 'type': 'application/vnd.sas.models.model.variable'}]}], 'modelVersions': [], 'modelLocks': None, 'globalTags': ['Modelling', 'Membership', 'Finance', 'mortgage', 'Cancellation', 'CI360', 'country.spain', 'Open-Source', 'HMEQ', 'default', 'Python', 'Propensity', 'uituyryuyu', 'hhhhhhh', 'SASNordicDemo', 'Churn', 'Sales', 'homeequity', 'python', 'sas', 'r', 'hello', 'world', 'Tag1', 'Tag2', 'HuggingFace', 'T5', 'LLM'], 'links': [{'method': 'GET', 'rel': 'up', 'href': '/modelRepository/models', 'uri': '/modelRepository/models', 'type': 'application/vnd.sas.models.model'}, {'method': 'GET', 'rel': 'self', 'href': '/modelRepository/models/eb160f23-e20e-47dc-8734-d007750ad860', 'uri': '/modelRepository/models/eb160f23-e20e-47dc-8734-d007750ad860', 'type': 'application/vnd.sas.models.model'}, {'method': 'PUT', 'rel': 'update', 'href': '/modelRepository/models/eb160f23-e20e-47dc-8734-d007750ad860', 'uri': '/modelRepository/models/eb160f23-e20e-47dc-8734-d007750ad860', 'type': 'application/vnd.sas.models.model', 'responseItemType': 'application/vnd.sas.models.model'}, {'method': 'DELETE', 'rel': 'delete', 'href': '/modelRepository/models/eb160f23-e20e-47dc-8734-d007750ad860', 'uri': '/modelRepository/models/eb160f23-e20e-47dc-8734-d007750ad860'}, {'method': 'GET', 'rel': 'scoreCode', 'href': '/modelRepository/models/eb160f23-e20e-47dc-8734-d007750ad860/code', 'uri': '/modelRepository/models/eb160f23-e20e-47dc-8734-d007750ad860/code', 'type': 'text/plain'}, {'method': 'GET', 'rel': 'contents', 'href': '/modelRepository/models/eb160f23-e20e-47dc-8734-d007750ad860/contents', 'uri': '/modelRepository/models/eb160f23-e20e-47dc-8734-d007750ad860/contents', 'type': 'application/vnd.sas.collection', 'itemType': 'application/vnd.sas.models.model.content'}, {'method': 'GET', 'rel': 'modelVersions', 'href': '/modelRepository/models/eb160f23-e20e-47dc-8734-d007750ad860/modelVersions', 'uri': '/modelRepository/models/eb160f23-e20e-47dc-8734-d007750ad860/modelVersions', 'type': 'application/vnd.sas.collection', 'responseItemType': 'application/vnd.sas.models.model.version'}, {'method': 'POST', 'rel': 'addModelVersion', 'href': '/modelRepository/models/eb160f23-e20e-47dc-8734-d007750ad860/modelVersions', 'uri': '/modelRepository/models/eb160f23-e20e-47dc-8734-d007750ad860/modelVersions', 'type': 'application/vnd.sas.models.model.version'}, {'method': 'GET', 'rel': 'variables', 'href': '/modelRepository/models/eb160f23-e20e-47dc-8734-d007750ad860/variables', 'uri': '/modelRepository/models/eb160f23-e20e-47dc-8734-d007750ad860/variables', 'type': 'application/vnd.sas.collection', 'itemType': 'application/vnd.sas.models.model.variable'}]}),\n",
       " WindowsPath('C:/Users/chparr/OneDrive - SAS/python/outputs/logit_python_finsvcs_demo'))"
      ]
     },
     "execution_count": 41,
     "metadata": {},
     "output_type": "execute_result"
    }
   ],
   "source": [
    "### import to model manager\n",
    "pzmm.ImportModel().import_model(\n",
    "    model_files=output_path, \n",
    "    model_prefix=model_name, \n",
    "    project=project_name, \n",
    "    input_data=input_df,\n",
    "    predict_method=[dm_model.predict_proba, [int, int]],\n",
    "    score_metrics=prediction_labels,\n",
    "    pickle_type='pickle',\n",
    "    project_version='latest',\n",
    "    missing_values=False,\n",
    "    overwrite_model=False,\n",
    "    mlflow_details=None,\n",
    "    predict_threshold=None,\n",
    "    target_values=dm_classtarget_level,\n",
    "    overwrite_project_properties=False,\n",
    "    target_index=1,\n",
    "    model_file_name=model_name + str('.pickle'))"
   ]
  }
 ],
 "metadata": {
  "kernelspec": {
   "display_name": "base",
   "language": "python",
   "name": "python3"
  },
  "language_info": {
   "codemirror_mode": {
    "name": "ipython",
    "version": 3
   },
   "file_extension": ".py",
   "mimetype": "text/x-python",
   "name": "python",
   "nbconvert_exporter": "python",
   "pygments_lexer": "ipython3",
   "version": "3.11.9"
  }
 },
 "nbformat": 4,
 "nbformat_minor": 2
}
