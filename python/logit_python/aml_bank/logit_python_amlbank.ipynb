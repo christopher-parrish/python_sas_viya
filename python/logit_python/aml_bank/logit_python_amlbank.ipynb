{
 "cells": [
  {
   "cell_type": "code",
   "execution_count": 2,
   "metadata": {},
   "outputs": [],
   "source": [
    "####################################################\n",
    "###  Train & Register Python Scikit Logit Model  ###\n",
    "####################################################\n",
    "\n",
    "###################\n",
    "### Credentials ###\n",
    "###################\n",
    "\n",
    "import os\n",
    "import sys\n",
    "from pathlib import Path\n",
    "\n",
    "sys.path.append('C:/Users/chparr/OneDrive - SAS/credentials')\n",
    "from credentials import hostname, session, port, protocol, wd, output_dir, git_dir, token_dir, token, token_refresh, token_pem, username"
   ]
  },
  {
   "cell_type": "code",
   "execution_count": 3,
   "metadata": {},
   "outputs": [
    {
     "name": "stdout",
     "output_type": "stream",
     "text": [
      "NOTE: Grid node action status report: 1 nodes, 9 total actions executed.\n",
      "[About]\n",
      "\n",
      " {'CAS': 'Cloud Analytic Services',\n",
      "  'CASCacheLocation': 'CAS Disk Cache',\n",
      "  'CASHostAccountRequired': 'OPTIONAL',\n",
      "  'Copyright': 'Copyright © 2014-2024 SAS Institute Inc. All Rights Reserved.',\n",
      "  'ServerTime': '2024-06-07T19:14:58Z',\n",
      "  'System': {'Hostname': 'controller.sas-cas-server-default.innovationlab.svc.cluster.local',\n",
      "   'Linux Distribution': 'Red Hat Enterprise Linux release 8.9 (Ootpa)',\n",
      "   'Model Number': 'x86_64',\n",
      "   'OS Family': 'LIN X64',\n",
      "   'OS Name': 'Linux',\n",
      "   'OS Release': '5.15.0-1042-azure',\n",
      "   'OS Version': '#49-Ubuntu SMP Tue Jul 11 17:28:46 UTC 2023'},\n",
      "  'Transferred': 'NO',\n",
      "  'Version': '4.00',\n",
      "  'VersionLong': 'V.04.00M0P04152024',\n",
      "  'Viya Release': '20240420.1713587951902',\n",
      "  'Viya Version': 'Stable 2024.04',\n",
      "  'license': {'expires': '06Sep2024:00:00:00',\n",
      "   'gracePeriod': 0,\n",
      "   'site': 'CIS SSEMONTHLY INNOVATION ENTERPRISE-RISK-MRM',\n",
      "   'siteNum': 70180938,\n",
      "   'warningPeriod': 32}}\n",
      "\n",
      "[nodestatus]\n",
      "\n",
      " Node Status\n",
      " \n",
      "                                                 name        role  uptime  running  stalled\n",
      " 0  controller.sas-cas-server-default.innovationla...  controller     3.0        0        0\n",
      "\n",
      "[server]\n",
      "\n",
      " Server Status\n",
      " \n",
      "    nodes  actions\n",
      " 0      1        9\n",
      "\n",
      "+ Elapsed: 0.000507s, user: 0.000352s, sys: 0.000121s, mem: 0.304mb\n"
     ]
    }
   ],
   "source": [
    "#############################\n",
    "### Connect with SAS Viya ###\n",
    "#############################\n",
    "\n",
    "import swat\n",
    "\n",
    "access_token = open(token, \"r\").read()\n",
    "conn =  swat.CAS(hostname=hostname, username=None, password=access_token, ssl_ca_list=token_pem, protocol=protocol)\n",
    "print(conn.serverstatus())"
   ]
  },
  {
   "cell_type": "code",
   "execution_count": 4,
   "metadata": {},
   "outputs": [
    {
     "data": {
      "text/html": [
       "<div class=\"cas-results-key\"><b>&#167; TableInfo</b></div>\n",
       "<div class=\"cas-results-body\">\n",
       "<div>\n",
       "<style scoped>\n",
       "    .dataframe tbody tr th:only-of-type {\n",
       "        vertical-align: middle;\n",
       "    }\n",
       "\n",
       "    .dataframe tbody tr th {\n",
       "        vertical-align: top;\n",
       "    }\n",
       "\n",
       "    .dataframe thead th {\n",
       "        text-align: right;\n",
       "    }\n",
       "</style>\n",
       "<table border=\"1\" class=\"dataframe\">\n",
       "  <thead>\n",
       "    <tr style=\"text-align: right;\">\n",
       "      <th title=\"\"></th>\n",
       "      <th title=\"Name\">Name</th>\n",
       "      <th title=\"Rows\">Rows</th>\n",
       "      <th title=\"Columns\">Columns</th>\n",
       "      <th title=\"Indexed Columns\">IndexedColumns</th>\n",
       "      <th title=\"Encoding\">Encoding</th>\n",
       "      <th title=\"Created\">CreateTimeFormatted</th>\n",
       "      <th title=\"Last Modified\">ModTimeFormatted</th>\n",
       "      <th title=\"Last Accessed\">AccessTimeFormatted</th>\n",
       "      <th title=\"Character Set\">JavaCharSet</th>\n",
       "      <th title=\"CreateTime\">CreateTime</th>\n",
       "      <th title=\"View\">View</th>\n",
       "      <th title=\"MultiPart\">MultiPart</th>\n",
       "      <th title=\"Loaded Source\">SourceName</th>\n",
       "      <th title=\"Source Caslib\">SourceCaslib</th>\n",
       "      <th title=\"Compressed\">Compressed</th>\n",
       "      <th title=\"Table Creator\">Creator</th>\n",
       "      <th title=\"Last Table Modifier\">Modifier</th>\n",
       "      <th title=\"Source Modified\">SourceModTimeFormatted</th>\n",
       "      <th title=\"SourceModTime\">SourceModTime</th>\n",
       "      <th title=\"Table Redistribute Up Policy\">TableRedistUpPolicy</th>\n",
       "    </tr>\n",
       "  </thead>\n",
       "  <tbody>\n",
       "    <tr>\n",
       "      <td>0</td>\n",
       "      <td>AML_BANK_PREP</td>\n",
       "      <td>14302</td>\n",
       "      <td>27</td>\n",
       "      <td>0</td>\n",
       "      <td>utf-8</td>\n",
       "      <td>2024-04-30T14:36:02+00:00</td>\n",
       "      <td>2024-04-30T14:36:02+00:00</td>\n",
       "      <td>2024-05-23T23:01:18+00:00</td>\n",
       "      <td>UTF8</td>\n",
       "      <td>2.030107e+09</td>\n",
       "      <td>0</td>\n",
       "      <td>0</td>\n",
       "      <td>AML_BANK_PREP.sashdat</td>\n",
       "      <td>CASUSER(Chris.Parrish@sas.com)</td>\n",
       "      <td>0</td>\n",
       "      <td>Chris.Parrish@sas.com</td>\n",
       "      <td></td>\n",
       "      <td>2024-04-16T21:17:04+00:00</td>\n",
       "      <td>2.028921e+09</td>\n",
       "      <td>Not Specified</td>\n",
       "    </tr>\n",
       "  </tbody>\n",
       "</table>\n",
       "</div>\n",
       "</div>\n",
       "<div class=\"cas-output-area\"></div>\n",
       "<p class=\"cas-results-performance\"><small><span class=\"cas-elapsed\">elapsed 0.00838s</span> &#183; <span class=\"cas-user\">user 0.00291s</span> &#183; <span class=\"cas-sys\">sys 0.00115s</span> &#183; <span class=\"cas-memory\">mem 0.781MB</span></small></p>"
      ],
      "text/plain": [
       "[TableInfo]\n",
       "\n",
       "             Name   Rows  Columns  IndexedColumns Encoding        CreateTimeFormatted           ModTimeFormatted        AccessTimeFormatted JavaCharSet    CreateTime       ModTime    AccessTime  Global  Repeated  View  MultiPart             SourceName                    SourceCaslib  Compressed                Creator Modifier     SourceModTimeFormatted  SourceModTime TableRedistUpPolicy\n",
       " 0  AML_BANK_PREP  14302       27               0    utf-8  2024-04-30T14:36:02+00:00  2024-04-30T14:36:02+00:00  2024-05-23T23:01:18+00:00        UTF8  2.030107e+09  2.030107e+09  2.032124e+09       1         0     0          0  AML_BANK_PREP.sashdat  CASUSER(Chris.Parrish@sas.com)           0  Chris.Parrish@sas.com           2024-04-16T21:17:04+00:00   2.028921e+09       Not Specified\n",
       "\n",
       "+ Elapsed: 0.00838s, user: 0.00291s, sys: 0.00115s, mem: 0.781mb"
      ]
     },
     "execution_count": 4,
     "metadata": {},
     "output_type": "execute_result"
    }
   ],
   "source": [
    "#############################\n",
    "### Identify Table in CAS ###\n",
    "#############################\n",
    "\n",
    "### caslib and table to use in modeling\n",
    "caslib = 'casuser'\n",
    "in_mem_tbl = 'AML_BANK_PREP'\n",
    "\n",
    "### load table in-memory if not already exists in-memory\n",
    "if conn.table.tableExists(caslib=caslib, name=in_mem_tbl).exists<=0:\n",
    "    conn.table.loadTable(caslib=caslib, path=str(in_mem_tbl+str('.sashdat')), \n",
    "                         casout={'name':in_mem_tbl, 'caslib':caslib, 'promote':True})\n",
    "\n",
    "### show table to verify\n",
    "conn.table.tableInfo(caslib=caslib, wildIgnore=False, name=in_mem_tbl)"
   ]
  },
  {
   "cell_type": "code",
   "execution_count": 4,
   "metadata": {},
   "outputs": [
    {
     "name": "stdout",
     "output_type": "stream",
     "text": [
      "account_id                     float64\n",
      "num_transactions               float64\n",
      "credit_score                   float64\n",
      "marital_status_single          float64\n",
      "marital_status_married         float64\n",
      "marital_status_divorced        float64\n",
      "analytic_partition             float64\n",
      "ml_indicator                   float64\n",
      "checking_only_indicator        float64\n",
      "prior_ctr_indicator            float64\n",
      "address_change_2x_indicator    float64\n",
      "cross_border_trx_indicator     float64\n",
      "in_person_contact_indicator    float64\n",
      "linkedin_indicator             float64\n",
      "atm_deposit_indicator          float64\n",
      "trx_10ksum_indicator           float64\n",
      "common_merchant_indicator      float64\n",
      "direct_deposit_indicator       float64\n",
      "citizenship_country_risk       float64\n",
      "occupation_risk                float64\n",
      "num_acctbal_chgs_gt2000        float64\n",
      "distance_to_employer           float64\n",
      "distance_to_bank               float64\n",
      "income                         float64\n",
      "primary_transfer_cash          float64\n",
      "primary_transfer_check         float64\n",
      "primary_transfer_wire          float64\n",
      "dtype: object\n"
     ]
    }
   ],
   "source": [
    "########################\n",
    "### Create Dataframe ###\n",
    "########################\n",
    "\n",
    "dm_inputdf =  conn.CASTable(in_mem_tbl, caslib=caslib).to_frame()\n",
    "\n",
    "### print columns for review of model parameters\n",
    "print(dm_inputdf.dtypes)"
   ]
  },
  {
   "cell_type": "code",
   "execution_count": 5,
   "metadata": {},
   "outputs": [
    {
     "name": "stdout",
     "output_type": "stream",
     "text": [
      "{'penalty': 'l2', 'dual': False, 'tol': 0.0001, 'fit_intercept': True, 'intercept_scaling': 1, 'class_weight': None, 'random_state': None, 'solver': 'newton-cg', 'max_iter': 100, 'multi_class': 'auto', 'verbose': 0, 'warm_start': False, 'n_jobs': None, 'l1_ratio': None}\n"
     ]
    }
   ],
   "source": [
    "########################\n",
    "### Model Parameters ###\n",
    "########################\n",
    "\n",
    "### import python libraries\n",
    "import numpy as np\n",
    "import pandas as pd\n",
    "from sklearn.utils import shuffle\n",
    "\n",
    "logit_params = {\n",
    "             'penalty': 'l2', \n",
    "             'dual': False, \n",
    "             'tol': 0.0001, \n",
    "             'fit_intercept': True, \n",
    "             'intercept_scaling': 1, \n",
    "             'class_weight': None, \n",
    "             'random_state': None, \n",
    "             'solver': 'newton-cg', \n",
    "             'max_iter': 100, \n",
    "             'multi_class': 'auto', \n",
    "             'verbose': 0, \n",
    "             'warm_start': False, \n",
    "             'n_jobs': None, \n",
    "             'l1_ratio': None\n",
    "             } \n",
    "print(logit_params)\n",
    "\n",
    "### model manager information\n",
    "metadata_output_dir = 'outputs'\n",
    "model_name = 'logit_python_amlbank'\n",
    "project_name = 'Anti-Money Laundering'\n",
    "description = 'Logistic Regression'\n",
    "model_type = 'logistic_regression'\n",
    "model_function = 'Classification'\n",
    "predict_syntax = 'predict_proba'\n",
    "\n",
    "### define macro variables for model\n",
    "dm_dec_target = 'ml_indicator'\n",
    "dm_partitionvar = 'analytic_partition'\n",
    "create_new_partition = 'no' # 'yes', 'no'\n",
    "dm_key = 'account_id' \n",
    "dm_classtarget_level = ['0', '1']\n",
    "dm_partition_validate_val, dm_partition_train_val, dm_partition_test_val = [0, 1, 2]\n",
    "dm_partition_validate_perc, dm_partition_train_perc, dm_partition_test_perc = [0.3, 0.6, 0.1]\n",
    "\n",
    "### create list of regressors\n",
    "keep_predictors = [\n",
    "    'marital_status_single',\n",
    "    'checking_only_indicator',\n",
    "    'prior_ctr_indicator',\n",
    "    'address_change_2x_indicator',\n",
    "    'cross_border_trx_indicator',\n",
    "    'in_person_contact_indicator',\n",
    "    'linkedin_indicator',\n",
    "    'citizenship_country_risk',\n",
    "    'distance_to_employer',\n",
    "    'distance_to_bank'\n",
    "    ]\n",
    "#rejected_predictors = []\n",
    "\n",
    "### mlflow\n",
    "use_mlflow = 'no' # 'yes', 'no'\n",
    "mlflow_run_to_use = 0\n",
    "mlflow_class_labels =['TENSOR']\n",
    "mlflow_predict_syntax = 'predict'\n",
    "\n",
    "### var to consider in bias assessment\n",
    "bias_vars = ['marital_status_single']\n",
    "\n",
    "### var to consider in partial dependency\n",
    "pd_var1 = 'distance_to_employer'\n",
    "pd_var2 = 'distance_to_bank'\n",
    "\n",
    "### create partition column, if not already in dataset\n",
    "if create_new_partition == 'yes':\n",
    "    dm_inputdf = shuffle(dm_inputdf)\n",
    "    dm_inputdf.reset_index(inplace=True, drop=True)\n",
    "    validate_rows = round(len(dm_inputdf)*dm_partition_validate_perc)\n",
    "    train_rows = round(len(dm_inputdf)*dm_partition_train_perc) + validate_rows\n",
    "    test_rows = len(dm_inputdf)-train_rows\n",
    "    dm_inputdf.loc[0:validate_rows,dm_partitionvar] = dm_partition_validate_val\n",
    "    dm_inputdf.loc[validate_rows:train_rows,dm_partitionvar] = dm_partition_train_val\n",
    "    dm_inputdf.loc[train_rows:,dm_partitionvar] = dm_partition_test_val"
   ]
  },
  {
   "cell_type": "code",
   "execution_count": 6,
   "metadata": {},
   "outputs": [
    {
     "name": "stdout",
     "output_type": "stream",
     "text": [
      "['marital_status_single', 'checking_only_indicator', 'prior_ctr_indicator', 'address_change_2x_indicator', 'cross_border_trx_indicator', 'in_person_contact_indicator', 'linkedin_indicator', 'citizenship_country_risk', 'distance_to_employer', 'distance_to_bank']\n"
     ]
    }
   ],
   "source": [
    "##############################\n",
    "### Final Modeling Columns ###\n",
    "##############################\n",
    "\n",
    "### create list of model variables\n",
    "dm_input = list(dm_inputdf.columns.values)\n",
    "macro_vars = (dm_dec_target + ' ' + dm_partitionvar + ' ' + dm_key).split()\n",
    "rejected_predictors = [i for i in dm_input if i not in keep_predictors]\n",
    "rejected_vars = rejected_predictors # + macro_vars (include macro_vars if rejected_predictors are explicitly listed - not contra keep_predictors)\n",
    "for i in rejected_vars:\n",
    "    dm_input.remove(i)\n",
    "print(dm_input)\n",
    "\n",
    "### create prediction variables\n",
    "dm_predictionvar = [str('P_') + dm_dec_target + dm_classtarget_level[0], str('P_') + dm_dec_target + dm_classtarget_level[1]]\n",
    "dm_classtarget_intovar = str('I_') + dm_dec_target"
   ]
  },
  {
   "cell_type": "code",
   "execution_count": 7,
   "metadata": {},
   "outputs": [],
   "source": [
    "##################\n",
    "### Data Split ###\n",
    "##################\n",
    "\n",
    "### create train, test, validate datasets using existing partition column\n",
    "dm_traindf = dm_inputdf[dm_inputdf[dm_partitionvar] == dm_partition_train_val]\n",
    "X_train = dm_traindf.loc[:, dm_input]\n",
    "y_train = dm_traindf[dm_dec_target]\n",
    "dm_testdf = dm_inputdf.loc[(dm_inputdf[dm_partitionvar] == dm_partition_test_val)]\n",
    "X_test = dm_testdf.loc[:, dm_input]\n",
    "y_test = dm_testdf[dm_dec_target]\n",
    "dm_validdf = dm_inputdf.loc[(dm_inputdf[dm_partitionvar] == dm_partition_validate_val)]\n",
    "X_valid = dm_validdf.loc[:, dm_input]\n",
    "y_valid = dm_validdf[dm_dec_target]"
   ]
  },
  {
   "cell_type": "code",
   "execution_count": 8,
   "metadata": {},
   "outputs": [
    {
     "name": "stdout",
     "output_type": "stream",
     "text": [
      "Logistic Regression\n",
      "Logistic Regression\n",
      "model_parameters\n",
      "LogisticRegression(solver='newton-cg')\n",
      " \n",
      "model_performance\n",
      "score_full: 0.9649699342749266\n",
      "score_train: 0.9660878685467894\n",
      "score_test: 0.9615384615384616\n",
      "score_valid: 0.9638778839431368\n",
      "confusion_matrix:\n",
      "(tn, fp, fn, tp)\n",
      "(1345, 15, 40, 30)\n",
      "classification_report:\n",
      "              precision    recall  f1-score   support\n",
      "\n",
      "         0.0       0.97      0.99      0.98      1360\n",
      "         1.0       0.67      0.43      0.52        70\n",
      "\n",
      "    accuracy                           0.96      1430\n",
      "   macro avg       0.82      0.71      0.75      1430\n",
      "weighted avg       0.96      0.96      0.96      1430\n",
      "\n",
      "intercept:\n",
      "[-6.40166319]\n",
      "odds_ratios:\n",
      "                    predictors odds_ratio\n",
      "0        marital_status_single   9.517659\n",
      "1      checking_only_indicator   3.631675\n",
      "2          prior_ctr_indicator   2.963293\n",
      "3  address_change_2x_indicator   5.393762\n",
      "4   cross_border_trx_indicator    5.10149\n",
      "5  in_person_contact_indicator   0.140815\n",
      "6           linkedin_indicator   0.128849\n",
      "7     citizenship_country_risk   1.527085\n",
      "8         distance_to_employer   1.065156\n",
      "9             distance_to_bank   1.011003\n"
     ]
    }
   ],
   "source": [
    "#####################\n",
    "### Training Code ###\n",
    "#####################\n",
    "\n",
    "from sklearn.linear_model import LogisticRegression\n",
    "from sklearn.metrics import classification_report, confusion_matrix\n",
    "\n",
    "### estimate & fit model\n",
    "dm_model = LogisticRegression(**logit_params)\n",
    "dm_model.fit(X_train, y_train)\n",
    "\n",
    "### score full data\n",
    "fullX = dm_inputdf.loc[:, dm_input]\n",
    "fully = dm_inputdf[dm_dec_target]\n",
    "#plot_roc_curve(dm_model, fullX, fully)\n",
    "dm_scoreddf_prob = pd.DataFrame(dm_model.predict_proba(fullX), columns=dm_predictionvar)\n",
    "dm_scoreddf_class = pd.DataFrame(dm_model.predict(fullX), columns=[dm_classtarget_intovar])\n",
    "columns_actual = bias_vars + [dm_dec_target]\n",
    "dm_scoreddf_bias = pd.DataFrame(dm_inputdf, columns=columns_actual)\n",
    "dm_scoreddf = pd.concat([dm_scoreddf_prob, dm_scoreddf_class], axis=1)\n",
    "scored = pd.concat([dm_scoreddf, dm_scoreddf_bias], axis=1)\n",
    "\n",
    "### create tables with predicted values\n",
    "trainProba = dm_model.predict_proba(X_train)\n",
    "trainProbaLabel = dm_model.predict(X_train)\n",
    "testProba = dm_model.predict_proba(X_test)\n",
    "testProbaLabel = dm_model.predict(X_test)\n",
    "validProba = dm_model.predict_proba(X_valid)\n",
    "validProbaLabel = dm_model.predict(X_valid)\n",
    "trainData = pd.concat([y_train.reset_index(drop=True), pd.Series(data=trainProbaLabel), pd.Series(data=trainProba[:,1])], axis=1)\n",
    "testData = pd.concat([y_test.reset_index(drop=True), pd.Series(data=testProbaLabel), pd.Series(data=testProba[:,1])], axis=1)\n",
    "validData = pd.concat([y_valid.reset_index(drop=True), pd.Series(data=validProbaLabel), pd.Series(data=validProba[:,1])], axis=1)\n",
    "trainData.columns = ['actual', 'predict', 'probability']\n",
    "testData.columns = ['actual', 'predict', 'probability']\n",
    "validData.columns = ['actual', 'predict', 'probability']\n",
    "\n",
    "### print model & results\n",
    "predictions = dm_model.predict(X_test)\n",
    "cols = X_train.columns\n",
    "predictors = np.array(cols)\n",
    "tn, fp, fn, tp = confusion_matrix(y_test, predictions).ravel()\n",
    "print(description)\n",
    "print(description)\n",
    "print('model_parameters')\n",
    "print(dm_model)\n",
    "print(' ')\n",
    "print('model_performance')\n",
    "print('score_full:', dm_model.score(fullX, fully))\n",
    "print('score_train:', dm_model.score(X_train, y_train))\n",
    "print('score_test:', dm_model.score(X_test, y_test))\n",
    "print('score_valid:', dm_model.score(X_valid, y_valid))\n",
    "print('confusion_matrix:')\n",
    "print('(tn, fp, fn, tp)')\n",
    "print((tn, fp, fn, tp))\n",
    "print('classification_report:')\n",
    "print(classification_report(y_test, predictions))\n",
    "\n",
    "### print logit odds ratios\n",
    "orat = np.exp(dm_model.coef_, out=None)\n",
    "c1 = np.vstack([predictors,orat])\n",
    "c2 = np.transpose(c1)\n",
    "c = pd.DataFrame(c2, columns=['predictors', 'odds_ratio'])\n",
    "print('intercept:')\n",
    "print(dm_model.intercept_)\n",
    "print('odds_ratios:')\n",
    "print(c)"
   ]
  },
  {
   "cell_type": "code",
   "execution_count": 9,
   "metadata": {},
   "outputs": [],
   "source": [
    "#######################################\n",
    "### Register Model in Model Manager ###\n",
    "## Ensure Model Does Not Exist in MM ##\n",
    "##### Using PZMM Zips Up Metadata #####\n",
    "#######################################\n",
    "\n",
    "from sasctl import Session\n",
    "import sasctl.pzmm as pzmm\n",
    "from sasctl.services import model_repository as modelRepo \n",
    "from sasctl.tasks import register_model\n",
    "import shutil\n",
    "import json\n",
    "\n",
    "input_df = X_train\n",
    "target_df = y_train\n",
    "predictors = np.array(X_train.columns)\n",
    "prediction_labels = ['EM_CLASSIFICATION', 'EM_EVENTPROBABILITY']\n",
    "target_event = dm_classtarget_level[1]\n",
    "target_level = 'BINARY'\n",
    "num_target_categories = len(dm_classtarget_level)\n",
    "predict_method = str('{}.')+str(predict_syntax)+str('({})')\n",
    "output_vars = pd.DataFrame(columns=prediction_labels, data=[['A', 0.5]])"
   ]
  },
  {
   "cell_type": "code",
   "execution_count": 10,
   "metadata": {},
   "outputs": [
    {
     "name": "stdout",
     "output_type": "stream",
     "text": [
      "C:/Users/chparr/OneDrive - SAS/git/sas_viya/python/logit_python/aml_bank/logit_python_amlbank.ipynb\n"
     ]
    },
    {
     "data": {
      "text/plain": [
       "WindowsPath('C:/Users/chparr/OneDrive - SAS/python/outputs/logit_python_amlbank')"
      ]
     },
     "execution_count": 10,
     "metadata": {},
     "output_type": "execute_result"
    }
   ],
   "source": [
    "### create directories for metadata\n",
    "output_path = Path(output_dir) / metadata_output_dir / model_name\n",
    "if output_path.exists() and output_path.is_dir():\n",
    "    shutil.rmtree(output_path)\n",
    "\n",
    "### create output path\n",
    "os.makedirs(output_path)\n",
    "\n",
    "### create python requirements file\n",
    "requirements = [\n",
    "    {\n",
    "        \"step\":\"import math, pickle, pandas as pd, numpy as np, settings\",\n",
    "        \"command\":\"pip3 install math==3.10.5 pickle==3.10.5 numpy==1.20.3 pandas==1.3.4 settings==0.2.2\"\n",
    "    }\n",
    "]\n",
    "requirementsObj = json.dumps(requirements, indent = 4)\n",
    "with open(str(output_path)+str('/requirements.json'), 'w') as outfile:\n",
    "    outfile.write(requirementsObj)\n",
    "    \n",
    "### copy .py script to output path\n",
    "### right click script and copy path (change to forward slash)\n",
    "src = str(git_dir) + str('/python/logit_python/aml_bank/logit_python_amlbank.ipynb')\n",
    "print(src)\n",
    "dst = output_path\n",
    "shutil.copy(src, dst)\n",
    "output_path"
   ]
  },
  {
   "cell_type": "code",
   "execution_count": 11,
   "metadata": {},
   "outputs": [
    {
     "name": "stdout",
     "output_type": "stream",
     "text": [
      "Model logit_python_amlbank was successfully pickled and saved to C:\\Users\\chparr\\OneDrive - SAS\\python\\outputs\\logit_python_amlbank\\logit_python_amlbank.pickle.\n",
      "inputVar.json was successfully written and saved to C:\\Users\\chparr\\OneDrive - SAS\\python\\outputs\\logit_python_amlbank\\inputVar.json\n",
      "outputVar.json was successfully written and saved to C:\\Users\\chparr\\OneDrive - SAS\\python\\outputs\\logit_python_amlbank\\outputVar.json\n",
      "fileMetadata.json was successfully written and saved to C:\\Users\\chparr\\OneDrive - SAS\\python\\outputs\\logit_python_amlbank\\fileMetadata.json\n",
      "ModelProperties.json was successfully written and saved to C:\\Users\\chparr\\OneDrive - SAS\\python\\outputs\\logit_python_amlbank\\ModelProperties.json\n"
     ]
    }
   ],
   "source": [
    "### create metadata\n",
    "pzmm.PickleModel.pickle_trained_model(trained_model=dm_model, model_prefix=model_name, pickle_path=output_path)\n",
    "pzmm.JSONFiles().write_var_json(input_data=input_df, is_input=True, json_path=output_path)\n",
    "pzmm.JSONFiles().write_var_json(input_data=output_vars, is_input=False, json_path=output_path)\n",
    "pzmm.JSONFiles().write_file_metadata_json(model_prefix=model_name, json_path=output_path)\n",
    "pzmm.JSONFiles().write_model_properties_json(\n",
    "    model_name=model_name, \n",
    "    target_variable=dm_dec_target,\n",
    "    target_values=dm_classtarget_level,\n",
    "    json_path=output_path,\n",
    "    model_desc=description,\n",
    "    model_algorithm=model_type,\n",
    "    model_function=model_function,\n",
    "    modeler=username,\n",
    "    train_table=in_mem_tbl,\n",
    "    properties=None)"
   ]
  },
  {
   "cell_type": "code",
   "execution_count": 12,
   "metadata": {},
   "outputs": [],
   "source": [
    "### create session in cas\n",
    "sess = Session(hostname=session, token=access_token, client_secret='access_token')"
   ]
  },
  {
   "cell_type": "code",
   "execution_count": 13,
   "metadata": {},
   "outputs": [
    {
     "name": "stdout",
     "output_type": "stream",
     "text": [
      "dmcas_fitstat.json was successfully written and saved to C:\\Users\\chparr\\OneDrive - SAS\\python\\outputs\\logit_python_amlbank\\dmcas_fitstat.json\n",
      "dmcas_roc.json was successfully written and saved to C:\\Users\\chparr\\OneDrive - SAS\\python\\outputs\\logit_python_amlbank\\dmcas_roc.json\n",
      "dmcas_lift.json was successfully written and saved to C:\\Users\\chparr\\OneDrive - SAS\\python\\outputs\\logit_python_amlbank\\dmcas_lift.json\n"
     ]
    }
   ],
   "source": [
    "pzmm.JSONFiles().calculate_model_statistics(\n",
    "    target_value=int(dm_classtarget_level[1]), \n",
    "    prob_value=0.11, \n",
    "    train_data=trainData, \n",
    "    test_data=testData, \n",
    "    validate_data=validData, \n",
    "    json_path=output_path)"
   ]
  },
  {
   "cell_type": "code",
   "execution_count": 14,
   "metadata": {},
   "outputs": [
    {
     "name": "stderr",
     "output_type": "stream",
     "text": [
      "C:\\Users\\chparr\\AppData\\Local\\Temp\\ipykernel_33132\\1403221455.py:1: ExperimentalWarning: assess_model_bias is experimental and may be modified or removed without warning.\n",
      "  pzmm.JSONFiles().assess_model_bias(\n"
     ]
    },
    {
     "name": "stdout",
     "output_type": "stream",
     "text": [
      "maxDifferences.json was successfully written and saved to C:\\Users\\chparr\\OneDrive - SAS\\python\\outputs\\logit_python_amlbank\\maxDifferences.json\n",
      "groupMetrics.json was successfully written and saved to C:\\Users\\chparr\\OneDrive - SAS\\python\\outputs\\logit_python_amlbank\\groupMetrics.json\n"
     ]
    },
    {
     "name": "stderr",
     "output_type": "stream",
     "text": [
      "C:\\Users\\chparr\\AppData\\Roaming\\Python\\Python311\\site-packages\\sasctl\\pzmm\\write_json_files.py:920: ExperimentalWarning: bias_dataframes_to_json is experimental and may be modified or removed without warning.\n",
      "  json_files = cls.bias_dataframes_to_json(\n"
     ]
    }
   ],
   "source": [
    "pzmm.JSONFiles().assess_model_bias(\n",
    "    score_table=scored, \n",
    "    sensitive_values=bias_vars, \n",
    "    actual_values=dm_dec_target,\n",
    "    pred_values=None,\n",
    "    prob_values=dm_predictionvar,\n",
    "    levels=dm_classtarget_level,\n",
    "    cutoff=0.5,\n",
    "    json_path=output_path)"
   ]
  },
  {
   "cell_type": "code",
   "execution_count": 15,
   "metadata": {},
   "outputs": [
    {
     "name": "stderr",
     "output_type": "stream",
     "text": [
      "C:\\Users\\chparr\\AppData\\Roaming\\Python\\Python311\\site-packages\\sasctl\\pzmm\\write_score_code.py:1500: UserWarning: Due to the ambiguity of the provided metrics and prediction return types, the score code assumes that a classification and the target event probability should be returned.\n",
      "  warn(\n"
     ]
    },
    {
     "name": "stdout",
     "output_type": "stream",
     "text": [
      "Model score code was written successfully to C:\\Users\\chparr\\OneDrive - SAS\\python\\outputs\\logit_python_amlbank\\score_logit_python_amlbank.py and uploaded to SAS Model Manager.\n",
      "All model files were zipped to C:\\Users\\chparr\\OneDrive - SAS\\python\\outputs\\logit_python_amlbank.\n"
     ]
    },
    {
     "name": "stderr",
     "output_type": "stream",
     "text": [
      "C:\\Users\\chparr\\AppData\\Roaming\\Python\\Python311\\site-packages\\sasctl\\tasks.py:238: UserWarning: This model's properties are different from the project's. If you want to run a performance definition with this model, the project's properties may need to be updated.\n",
      "  warn(\n"
     ]
    },
    {
     "name": "stdout",
     "output_type": "stream",
     "text": [
      "Model was successfully imported into SAS Model Manager as logit_python_amlbank with the following UUID: d3d9ba5c-5134-40e4-b47d-e2217aa2adeb.\n"
     ]
    },
    {
     "data": {
      "text/plain": [
       "(<class 'sasctl.core.RestObj'>(headers={'Date': 'Fri, 03 May 2024 18:07:20 GMT', 'Content-Type': 'application/vnd.sas.collection+json; charset=utf-8', 'Transfer-Encoding': 'chunked', 'Connection': 'keep-alive', 'Cache-Control': 'no-cache, no-store, max-age=0, must-revalidate', 'Content-Security-Policy': \"default-src 'self'; object-src 'none'; frame-ancestors 'self'; form-action 'self';\", 'Expires': '0', 'Pragma': 'no-cache', 'Sas-Service-Response-Flag': 'true', 'Vary': 'Origin', 'X-Content-Type-Options': 'nosniff', 'X-Xss-Protection': '1; mode=block', 'Strict-Transport-Security': 'max-age=63072000; includeSubDomains'}, data={'creationTimeStamp': '2024-05-03T18:07:19.200Z', 'createdBy': 'Chris.Parrish@sas.com', 'modifiedTimeStamp': '2024-05-03T18:07:20.358Z', 'modifiedBy': 'Chris.Parrish@sas.com', 'id': 'd3d9ba5c-5134-40e4-b47d-e2217aa2adeb', 'name': 'logit_python_amlbank', 'description': 'Logistic Regression', 'role': 'plain', 'scoreCodeType': 'python', 'algorithm': 'logistic_regression', 'function': 'Classification', 'modeler': 'CP', 'modelType': 'python', 'trainCodeType': 'Python', 'trainTable': 'AML_BANK_PREP', 'eventProbVar': 'P_0', 'targetVariable': 'ml_indicator', 'targetEvent': '0', 'targetLevel': 'binary', 'tool': 'Python 3', 'toolVersion': '3.11.9', 'version': 2, 'indirectFolderId': 'a57cea16-aeaf-4ac8-b38a-ad0129f8e0ce', 'repositoryId': 'f8c1b7c4-14dd-41bf-a00f-73650cb55a00', 'projectId': '75557b57-7e6f-45b6-b60f-4cc7895f79d8', 'projectVersionId': '8555f4bf-b17d-4313-97f6-646efb23261f', 'immutable': False, 'folderRef': '/folders/folders/46446c74-ef93-4c7d-be6c-f374cd9081b2', 'location': '/Model Repositories/DMRepository/Anti-Money Laundering/Version 1', 'modelVersionName': '1.0', 'projectName': 'Anti-Money Laundering', 'projectVersionName': 'Version 1', 'projectVersionNum': '1.0', 'files': [{'creationTimeStamp': '2024-05-03T18:07:19.515367Z', 'createdBy': 'anonymous', 'modifiedTimeStamp': '2024-05-03T18:07:19.515367Z', 'modifiedBy': 'anonymous', 'version': 2, 'id': '3ddd32b5-54f0-447b-9a42-9168eb734268', 'name': 'ModelProperties.json', 'fileUri': '/files/files/4fdb6f7e-671b-4de1-a2d1-6abf343df932', 'modelId': 'd3d9ba5c-5134-40e4-b47d-e2217aa2adeb', 'links': [{'method': 'GET', 'rel': 'UP', 'href': '/modelRepository/models/d3d9ba5c-5134-40e4-b47d-e2217aa2adeb', 'uri': '/modelRepository/models/d3d9ba5c-5134-40e4-b47d-e2217aa2adeb', 'itemType': 'application/vnd.sas.models.model.content'}, {'method': 'GET', 'rel': 'self', 'href': '/modelRepository/models/d3d9ba5c-5134-40e4-b47d-e2217aa2adeb/contents/3ddd32b5-54f0-447b-9a42-9168eb734268', 'uri': '/modelRepository/models/d3d9ba5c-5134-40e4-b47d-e2217aa2adeb/contents/3ddd32b5-54f0-447b-9a42-9168eb734268', 'type': 'application/vnd.sas.models.model.content'}, {'method': 'GET', 'rel': 'content', 'uri': '/modelRepository/models/d3d9ba5c-5134-40e4-b47d-e2217aa2adeb/contents/3ddd32b5-54f0-447b-9a42-9168eb734268/content', 'type': 'application/octet-stream'}, {'method': 'POST', 'rel': 'create', 'href': '/modelRepository/models/d3d9ba5c-5134-40e4-b47d-e2217aa2adeb/contents/3ddd32b5-54f0-447b-9a42-9168eb734268', 'uri': '/modelRepository/models/d3d9ba5c-5134-40e4-b47d-e2217aa2adeb/contents/3ddd32b5-54f0-447b-9a42-9168eb734268', 'type': 'multipart/form-data'}, {'method': 'PUT', 'rel': 'update', 'href': '/modelRepository/models/d3d9ba5c-5134-40e4-b47d-e2217aa2adeb/contents/3ddd32b5-54f0-447b-9a42-9168eb734268', 'uri': '/modelRepository/models/d3d9ba5c-5134-40e4-b47d-e2217aa2adeb/contents/3ddd32b5-54f0-447b-9a42-9168eb734268', 'type': 'application/vnd.sas.models.model.content'}, {'method': 'PUT', 'rel': 'updateContentMultipart', 'href': '/modelRepository/models/d3d9ba5c-5134-40e4-b47d-e2217aa2adeb/contents/3ddd32b5-54f0-447b-9a42-9168eb734268', 'uri': '/modelRepository/models/d3d9ba5c-5134-40e4-b47d-e2217aa2adeb/contents/3ddd32b5-54f0-447b-9a42-9168eb734268', 'type': 'application/vnd.sas.models.model.content'}, {'method': 'DELETE', 'rel': 'delete', 'href': '/modelRepository/models/d3d9ba5c-5134-40e4-b47d-e2217aa2adeb/contents/3ddd32b5-54f0-447b-9a42-9168eb734268', 'uri': '/modelRepository/models/d3d9ba5c-5134-40e4-b47d-e2217aa2adeb/contents/3ddd32b5-54f0-447b-9a42-9168eb734268'}]}, {'creationTimeStamp': '2024-05-03T18:07:19.576794Z', 'createdBy': 'anonymous', 'modifiedTimeStamp': '2024-05-03T18:07:19.576795Z', 'modifiedBy': 'anonymous', 'version': 2, 'id': 'b4f784b2-005e-475a-9b67-86bb1741f9c3', 'name': 'dmcas_fitstat.json', 'fileUri': '/files/files/5db7089a-3e43-442f-9b15-a4220af00ce1', 'modelId': 'd3d9ba5c-5134-40e4-b47d-e2217aa2adeb', 'links': [{'method': 'GET', 'rel': 'UP', 'href': '/modelRepository/models/d3d9ba5c-5134-40e4-b47d-e2217aa2adeb', 'uri': '/modelRepository/models/d3d9ba5c-5134-40e4-b47d-e2217aa2adeb', 'itemType': 'application/vnd.sas.models.model.content'}, {'method': 'GET', 'rel': 'self', 'href': '/modelRepository/models/d3d9ba5c-5134-40e4-b47d-e2217aa2adeb/contents/b4f784b2-005e-475a-9b67-86bb1741f9c3', 'uri': '/modelRepository/models/d3d9ba5c-5134-40e4-b47d-e2217aa2adeb/contents/b4f784b2-005e-475a-9b67-86bb1741f9c3', 'type': 'application/vnd.sas.models.model.content'}, {'method': 'GET', 'rel': 'content', 'uri': '/modelRepository/models/d3d9ba5c-5134-40e4-b47d-e2217aa2adeb/contents/b4f784b2-005e-475a-9b67-86bb1741f9c3/content', 'type': 'application/octet-stream'}, {'method': 'POST', 'rel': 'create', 'href': '/modelRepository/models/d3d9ba5c-5134-40e4-b47d-e2217aa2adeb/contents/b4f784b2-005e-475a-9b67-86bb1741f9c3', 'uri': '/modelRepository/models/d3d9ba5c-5134-40e4-b47d-e2217aa2adeb/contents/b4f784b2-005e-475a-9b67-86bb1741f9c3', 'type': 'multipart/form-data'}, {'method': 'PUT', 'rel': 'update', 'href': '/modelRepository/models/d3d9ba5c-5134-40e4-b47d-e2217aa2adeb/contents/b4f784b2-005e-475a-9b67-86bb1741f9c3', 'uri': '/modelRepository/models/d3d9ba5c-5134-40e4-b47d-e2217aa2adeb/contents/b4f784b2-005e-475a-9b67-86bb1741f9c3', 'type': 'application/vnd.sas.models.model.content'}, {'method': 'PUT', 'rel': 'updateContentMultipart', 'href': '/modelRepository/models/d3d9ba5c-5134-40e4-b47d-e2217aa2adeb/contents/b4f784b2-005e-475a-9b67-86bb1741f9c3', 'uri': '/modelRepository/models/d3d9ba5c-5134-40e4-b47d-e2217aa2adeb/contents/b4f784b2-005e-475a-9b67-86bb1741f9c3', 'type': 'application/vnd.sas.models.model.content'}, {'method': 'DELETE', 'rel': 'delete', 'href': '/modelRepository/models/d3d9ba5c-5134-40e4-b47d-e2217aa2adeb/contents/b4f784b2-005e-475a-9b67-86bb1741f9c3', 'uri': '/modelRepository/models/d3d9ba5c-5134-40e4-b47d-e2217aa2adeb/contents/b4f784b2-005e-475a-9b67-86bb1741f9c3'}]}, {'creationTimeStamp': '2024-05-03T18:07:19.661178Z', 'createdBy': 'anonymous', 'modifiedTimeStamp': '2024-05-03T18:07:19.661178Z', 'modifiedBy': 'anonymous', 'version': 2, 'id': '901ecc43-9385-4221-8a81-56278d174e7d', 'name': 'dmcas_lift.json', 'fileUri': '/files/files/144bc306-c0b8-4c68-8c1c-eb7eb25fab5a', 'modelId': 'd3d9ba5c-5134-40e4-b47d-e2217aa2adeb', 'links': [{'method': 'GET', 'rel': 'UP', 'href': '/modelRepository/models/d3d9ba5c-5134-40e4-b47d-e2217aa2adeb', 'uri': '/modelRepository/models/d3d9ba5c-5134-40e4-b47d-e2217aa2adeb', 'itemType': 'application/vnd.sas.models.model.content'}, {'method': 'GET', 'rel': 'self', 'href': '/modelRepository/models/d3d9ba5c-5134-40e4-b47d-e2217aa2adeb/contents/901ecc43-9385-4221-8a81-56278d174e7d', 'uri': '/modelRepository/models/d3d9ba5c-5134-40e4-b47d-e2217aa2adeb/contents/901ecc43-9385-4221-8a81-56278d174e7d', 'type': 'application/vnd.sas.models.model.content'}, {'method': 'GET', 'rel': 'content', 'uri': '/modelRepository/models/d3d9ba5c-5134-40e4-b47d-e2217aa2adeb/contents/901ecc43-9385-4221-8a81-56278d174e7d/content', 'type': 'application/octet-stream'}, {'method': 'POST', 'rel': 'create', 'href': '/modelRepository/models/d3d9ba5c-5134-40e4-b47d-e2217aa2adeb/contents/901ecc43-9385-4221-8a81-56278d174e7d', 'uri': '/modelRepository/models/d3d9ba5c-5134-40e4-b47d-e2217aa2adeb/contents/901ecc43-9385-4221-8a81-56278d174e7d', 'type': 'multipart/form-data'}, {'method': 'PUT', 'rel': 'update', 'href': '/modelRepository/models/d3d9ba5c-5134-40e4-b47d-e2217aa2adeb/contents/901ecc43-9385-4221-8a81-56278d174e7d', 'uri': '/modelRepository/models/d3d9ba5c-5134-40e4-b47d-e2217aa2adeb/contents/901ecc43-9385-4221-8a81-56278d174e7d', 'type': 'application/vnd.sas.models.model.content'}, {'method': 'PUT', 'rel': 'updateContentMultipart', 'href': '/modelRepository/models/d3d9ba5c-5134-40e4-b47d-e2217aa2adeb/contents/901ecc43-9385-4221-8a81-56278d174e7d', 'uri': '/modelRepository/models/d3d9ba5c-5134-40e4-b47d-e2217aa2adeb/contents/901ecc43-9385-4221-8a81-56278d174e7d', 'type': 'application/vnd.sas.models.model.content'}, {'method': 'DELETE', 'rel': 'delete', 'href': '/modelRepository/models/d3d9ba5c-5134-40e4-b47d-e2217aa2adeb/contents/901ecc43-9385-4221-8a81-56278d174e7d', 'uri': '/modelRepository/models/d3d9ba5c-5134-40e4-b47d-e2217aa2adeb/contents/901ecc43-9385-4221-8a81-56278d174e7d'}]}, {'creationTimeStamp': '2024-05-03T18:07:19.763678Z', 'createdBy': 'anonymous', 'modifiedTimeStamp': '2024-05-03T18:07:19.763679Z', 'modifiedBy': 'anonymous', 'version': 2, 'id': '15d890b7-85ab-43c8-afb7-c8bf7f6b15b8', 'name': 'dmcas_roc.json', 'fileUri': '/files/files/33da67d5-20ab-4545-b4bf-9ecd040e7ffe', 'modelId': 'd3d9ba5c-5134-40e4-b47d-e2217aa2adeb', 'links': [{'method': 'GET', 'rel': 'UP', 'href': '/modelRepository/models/d3d9ba5c-5134-40e4-b47d-e2217aa2adeb', 'uri': '/modelRepository/models/d3d9ba5c-5134-40e4-b47d-e2217aa2adeb', 'itemType': 'application/vnd.sas.models.model.content'}, {'method': 'GET', 'rel': 'self', 'href': '/modelRepository/models/d3d9ba5c-5134-40e4-b47d-e2217aa2adeb/contents/15d890b7-85ab-43c8-afb7-c8bf7f6b15b8', 'uri': '/modelRepository/models/d3d9ba5c-5134-40e4-b47d-e2217aa2adeb/contents/15d890b7-85ab-43c8-afb7-c8bf7f6b15b8', 'type': 'application/vnd.sas.models.model.content'}, {'method': 'GET', 'rel': 'content', 'uri': '/modelRepository/models/d3d9ba5c-5134-40e4-b47d-e2217aa2adeb/contents/15d890b7-85ab-43c8-afb7-c8bf7f6b15b8/content', 'type': 'application/octet-stream'}, {'method': 'POST', 'rel': 'create', 'href': '/modelRepository/models/d3d9ba5c-5134-40e4-b47d-e2217aa2adeb/contents/15d890b7-85ab-43c8-afb7-c8bf7f6b15b8', 'uri': '/modelRepository/models/d3d9ba5c-5134-40e4-b47d-e2217aa2adeb/contents/15d890b7-85ab-43c8-afb7-c8bf7f6b15b8', 'type': 'multipart/form-data'}, {'method': 'PUT', 'rel': 'update', 'href': '/modelRepository/models/d3d9ba5c-5134-40e4-b47d-e2217aa2adeb/contents/15d890b7-85ab-43c8-afb7-c8bf7f6b15b8', 'uri': '/modelRepository/models/d3d9ba5c-5134-40e4-b47d-e2217aa2adeb/contents/15d890b7-85ab-43c8-afb7-c8bf7f6b15b8', 'type': 'application/vnd.sas.models.model.content'}, {'method': 'PUT', 'rel': 'updateContentMultipart', 'href': '/modelRepository/models/d3d9ba5c-5134-40e4-b47d-e2217aa2adeb/contents/15d890b7-85ab-43c8-afb7-c8bf7f6b15b8', 'uri': '/modelRepository/models/d3d9ba5c-5134-40e4-b47d-e2217aa2adeb/contents/15d890b7-85ab-43c8-afb7-c8bf7f6b15b8', 'type': 'application/vnd.sas.models.model.content'}, {'method': 'DELETE', 'rel': 'delete', 'href': '/modelRepository/models/d3d9ba5c-5134-40e4-b47d-e2217aa2adeb/contents/15d890b7-85ab-43c8-afb7-c8bf7f6b15b8', 'uri': '/modelRepository/models/d3d9ba5c-5134-40e4-b47d-e2217aa2adeb/contents/15d890b7-85ab-43c8-afb7-c8bf7f6b15b8'}]}, {'creationTimeStamp': '2024-05-03T18:07:19.823093Z', 'createdBy': 'anonymous', 'modifiedTimeStamp': '2024-05-03T18:07:19.823094Z', 'modifiedBy': 'anonymous', 'version': 2, 'id': '3b7c5bf2-974a-4ccd-97cc-02063458b039', 'name': 'groupMetrics.json', 'fileUri': '/files/files/434abacd-941c-4a9f-ac57-e442542d914d', 'modelId': 'd3d9ba5c-5134-40e4-b47d-e2217aa2adeb', 'links': [{'method': 'GET', 'rel': 'UP', 'href': '/modelRepository/models/d3d9ba5c-5134-40e4-b47d-e2217aa2adeb', 'uri': '/modelRepository/models/d3d9ba5c-5134-40e4-b47d-e2217aa2adeb', 'itemType': 'application/vnd.sas.models.model.content'}, {'method': 'GET', 'rel': 'self', 'href': '/modelRepository/models/d3d9ba5c-5134-40e4-b47d-e2217aa2adeb/contents/3b7c5bf2-974a-4ccd-97cc-02063458b039', 'uri': '/modelRepository/models/d3d9ba5c-5134-40e4-b47d-e2217aa2adeb/contents/3b7c5bf2-974a-4ccd-97cc-02063458b039', 'type': 'application/vnd.sas.models.model.content'}, {'method': 'GET', 'rel': 'content', 'uri': '/modelRepository/models/d3d9ba5c-5134-40e4-b47d-e2217aa2adeb/contents/3b7c5bf2-974a-4ccd-97cc-02063458b039/content', 'type': 'application/octet-stream'}, {'method': 'POST', 'rel': 'create', 'href': '/modelRepository/models/d3d9ba5c-5134-40e4-b47d-e2217aa2adeb/contents/3b7c5bf2-974a-4ccd-97cc-02063458b039', 'uri': '/modelRepository/models/d3d9ba5c-5134-40e4-b47d-e2217aa2adeb/contents/3b7c5bf2-974a-4ccd-97cc-02063458b039', 'type': 'multipart/form-data'}, {'method': 'PUT', 'rel': 'update', 'href': '/modelRepository/models/d3d9ba5c-5134-40e4-b47d-e2217aa2adeb/contents/3b7c5bf2-974a-4ccd-97cc-02063458b039', 'uri': '/modelRepository/models/d3d9ba5c-5134-40e4-b47d-e2217aa2adeb/contents/3b7c5bf2-974a-4ccd-97cc-02063458b039', 'type': 'application/vnd.sas.models.model.content'}, {'method': 'PUT', 'rel': 'updateContentMultipart', 'href': '/modelRepository/models/d3d9ba5c-5134-40e4-b47d-e2217aa2adeb/contents/3b7c5bf2-974a-4ccd-97cc-02063458b039', 'uri': '/modelRepository/models/d3d9ba5c-5134-40e4-b47d-e2217aa2adeb/contents/3b7c5bf2-974a-4ccd-97cc-02063458b039', 'type': 'application/vnd.sas.models.model.content'}, {'method': 'DELETE', 'rel': 'delete', 'href': '/modelRepository/models/d3d9ba5c-5134-40e4-b47d-e2217aa2adeb/contents/3b7c5bf2-974a-4ccd-97cc-02063458b039', 'uri': '/modelRepository/models/d3d9ba5c-5134-40e4-b47d-e2217aa2adeb/contents/3b7c5bf2-974a-4ccd-97cc-02063458b039'}]}, {'creationTimeStamp': '2024-05-03T18:07:20.014934Z', 'createdBy': 'anonymous', 'modifiedTimeStamp': '2024-05-03T18:07:20.014934Z', 'modifiedBy': 'anonymous', 'version': 2, 'id': '626e3010-141b-4a02-ab66-45c8262b45ef', 'name': 'maxDifferences.json', 'fileUri': '/files/files/5a4fae24-0fec-4669-9c81-89c462acbe13', 'modelId': 'd3d9ba5c-5134-40e4-b47d-e2217aa2adeb', 'links': [{'method': 'GET', 'rel': 'UP', 'href': '/modelRepository/models/d3d9ba5c-5134-40e4-b47d-e2217aa2adeb', 'uri': '/modelRepository/models/d3d9ba5c-5134-40e4-b47d-e2217aa2adeb', 'itemType': 'application/vnd.sas.models.model.content'}, {'method': 'GET', 'rel': 'self', 'href': '/modelRepository/models/d3d9ba5c-5134-40e4-b47d-e2217aa2adeb/contents/626e3010-141b-4a02-ab66-45c8262b45ef', 'uri': '/modelRepository/models/d3d9ba5c-5134-40e4-b47d-e2217aa2adeb/contents/626e3010-141b-4a02-ab66-45c8262b45ef', 'type': 'application/vnd.sas.models.model.content'}, {'method': 'GET', 'rel': 'content', 'uri': '/modelRepository/models/d3d9ba5c-5134-40e4-b47d-e2217aa2adeb/contents/626e3010-141b-4a02-ab66-45c8262b45ef/content', 'type': 'application/octet-stream'}, {'method': 'POST', 'rel': 'create', 'href': '/modelRepository/models/d3d9ba5c-5134-40e4-b47d-e2217aa2adeb/contents/626e3010-141b-4a02-ab66-45c8262b45ef', 'uri': '/modelRepository/models/d3d9ba5c-5134-40e4-b47d-e2217aa2adeb/contents/626e3010-141b-4a02-ab66-45c8262b45ef', 'type': 'multipart/form-data'}, {'method': 'PUT', 'rel': 'update', 'href': '/modelRepository/models/d3d9ba5c-5134-40e4-b47d-e2217aa2adeb/contents/626e3010-141b-4a02-ab66-45c8262b45ef', 'uri': '/modelRepository/models/d3d9ba5c-5134-40e4-b47d-e2217aa2adeb/contents/626e3010-141b-4a02-ab66-45c8262b45ef', 'type': 'application/vnd.sas.models.model.content'}, {'method': 'PUT', 'rel': 'updateContentMultipart', 'href': '/modelRepository/models/d3d9ba5c-5134-40e4-b47d-e2217aa2adeb/contents/626e3010-141b-4a02-ab66-45c8262b45ef', 'uri': '/modelRepository/models/d3d9ba5c-5134-40e4-b47d-e2217aa2adeb/contents/626e3010-141b-4a02-ab66-45c8262b45ef', 'type': 'application/vnd.sas.models.model.content'}, {'method': 'DELETE', 'rel': 'delete', 'href': '/modelRepository/models/d3d9ba5c-5134-40e4-b47d-e2217aa2adeb/contents/626e3010-141b-4a02-ab66-45c8262b45ef', 'uri': '/modelRepository/models/d3d9ba5c-5134-40e4-b47d-e2217aa2adeb/contents/626e3010-141b-4a02-ab66-45c8262b45ef'}]}, {'creationTimeStamp': '2024-05-03T18:07:20.134782Z', 'createdBy': 'anonymous', 'modifiedTimeStamp': '2024-05-03T18:07:20.134783Z', 'modifiedBy': 'anonymous', 'version': 2, 'id': 'b59d7717-325e-49a7-a7c4-72cbb6762ce9', 'name': 'requirements.json', 'fileUri': '/files/files/12d60756-fb2d-4a34-9b74-7d2234fba721', 'modelId': 'd3d9ba5c-5134-40e4-b47d-e2217aa2adeb', 'links': [{'method': 'GET', 'rel': 'UP', 'href': '/modelRepository/models/d3d9ba5c-5134-40e4-b47d-e2217aa2adeb', 'uri': '/modelRepository/models/d3d9ba5c-5134-40e4-b47d-e2217aa2adeb', 'itemType': 'application/vnd.sas.models.model.content'}, {'method': 'GET', 'rel': 'self', 'href': '/modelRepository/models/d3d9ba5c-5134-40e4-b47d-e2217aa2adeb/contents/b59d7717-325e-49a7-a7c4-72cbb6762ce9', 'uri': '/modelRepository/models/d3d9ba5c-5134-40e4-b47d-e2217aa2adeb/contents/b59d7717-325e-49a7-a7c4-72cbb6762ce9', 'type': 'application/vnd.sas.models.model.content'}, {'method': 'GET', 'rel': 'content', 'uri': '/modelRepository/models/d3d9ba5c-5134-40e4-b47d-e2217aa2adeb/contents/b59d7717-325e-49a7-a7c4-72cbb6762ce9/content', 'type': 'application/octet-stream'}, {'method': 'POST', 'rel': 'create', 'href': '/modelRepository/models/d3d9ba5c-5134-40e4-b47d-e2217aa2adeb/contents/b59d7717-325e-49a7-a7c4-72cbb6762ce9', 'uri': '/modelRepository/models/d3d9ba5c-5134-40e4-b47d-e2217aa2adeb/contents/b59d7717-325e-49a7-a7c4-72cbb6762ce9', 'type': 'multipart/form-data'}, {'method': 'PUT', 'rel': 'update', 'href': '/modelRepository/models/d3d9ba5c-5134-40e4-b47d-e2217aa2adeb/contents/b59d7717-325e-49a7-a7c4-72cbb6762ce9', 'uri': '/modelRepository/models/d3d9ba5c-5134-40e4-b47d-e2217aa2adeb/contents/b59d7717-325e-49a7-a7c4-72cbb6762ce9', 'type': 'application/vnd.sas.models.model.content'}, {'method': 'PUT', 'rel': 'updateContentMultipart', 'href': '/modelRepository/models/d3d9ba5c-5134-40e4-b47d-e2217aa2adeb/contents/b59d7717-325e-49a7-a7c4-72cbb6762ce9', 'uri': '/modelRepository/models/d3d9ba5c-5134-40e4-b47d-e2217aa2adeb/contents/b59d7717-325e-49a7-a7c4-72cbb6762ce9', 'type': 'application/vnd.sas.models.model.content'}, {'method': 'DELETE', 'rel': 'delete', 'href': '/modelRepository/models/d3d9ba5c-5134-40e4-b47d-e2217aa2adeb/contents/b59d7717-325e-49a7-a7c4-72cbb6762ce9', 'uri': '/modelRepository/models/d3d9ba5c-5134-40e4-b47d-e2217aa2adeb/contents/b59d7717-325e-49a7-a7c4-72cbb6762ce9'}]}, {'creationTimeStamp': '2024-05-03T18:07:19.909576Z', 'createdBy': 'anonymous', 'modifiedTimeStamp': '2024-05-03T18:07:20.2152Z', 'modifiedBy': 'Chris.Parrish@sas.com', 'version': 2, 'id': 'f67d5a77-8447-4013-8ea8-2e25efa9a506', 'name': 'inputVar.json', 'role': 'inputVariables', 'fileUri': '/files/files/02b45094-4463-465b-a467-2bef6ab6f7cb', 'modelId': 'd3d9ba5c-5134-40e4-b47d-e2217aa2adeb', 'links': [{'method': 'GET', 'rel': 'UP', 'href': '/modelRepository/models/d3d9ba5c-5134-40e4-b47d-e2217aa2adeb', 'uri': '/modelRepository/models/d3d9ba5c-5134-40e4-b47d-e2217aa2adeb', 'itemType': 'application/vnd.sas.models.model.content'}, {'method': 'GET', 'rel': 'self', 'href': '/modelRepository/models/d3d9ba5c-5134-40e4-b47d-e2217aa2adeb/contents/f67d5a77-8447-4013-8ea8-2e25efa9a506', 'uri': '/modelRepository/models/d3d9ba5c-5134-40e4-b47d-e2217aa2adeb/contents/f67d5a77-8447-4013-8ea8-2e25efa9a506', 'type': 'application/vnd.sas.models.model.content'}, {'method': 'GET', 'rel': 'content', 'uri': '/modelRepository/models/d3d9ba5c-5134-40e4-b47d-e2217aa2adeb/contents/f67d5a77-8447-4013-8ea8-2e25efa9a506/content', 'type': 'application/octet-stream'}, {'method': 'POST', 'rel': 'create', 'href': '/modelRepository/models/d3d9ba5c-5134-40e4-b47d-e2217aa2adeb/contents/f67d5a77-8447-4013-8ea8-2e25efa9a506', 'uri': '/modelRepository/models/d3d9ba5c-5134-40e4-b47d-e2217aa2adeb/contents/f67d5a77-8447-4013-8ea8-2e25efa9a506', 'type': 'multipart/form-data'}, {'method': 'PUT', 'rel': 'update', 'href': '/modelRepository/models/d3d9ba5c-5134-40e4-b47d-e2217aa2adeb/contents/f67d5a77-8447-4013-8ea8-2e25efa9a506', 'uri': '/modelRepository/models/d3d9ba5c-5134-40e4-b47d-e2217aa2adeb/contents/f67d5a77-8447-4013-8ea8-2e25efa9a506', 'type': 'application/vnd.sas.models.model.content'}, {'method': 'PUT', 'rel': 'updateContentMultipart', 'href': '/modelRepository/models/d3d9ba5c-5134-40e4-b47d-e2217aa2adeb/contents/f67d5a77-8447-4013-8ea8-2e25efa9a506', 'uri': '/modelRepository/models/d3d9ba5c-5134-40e4-b47d-e2217aa2adeb/contents/f67d5a77-8447-4013-8ea8-2e25efa9a506', 'type': 'application/vnd.sas.models.model.content'}, {'method': 'DELETE', 'rel': 'delete', 'href': '/modelRepository/models/d3d9ba5c-5134-40e4-b47d-e2217aa2adeb/contents/f67d5a77-8447-4013-8ea8-2e25efa9a506', 'uri': '/modelRepository/models/d3d9ba5c-5134-40e4-b47d-e2217aa2adeb/contents/f67d5a77-8447-4013-8ea8-2e25efa9a506'}]}, {'creationTimeStamp': '2024-05-03T18:07:19.958797Z', 'createdBy': 'anonymous', 'modifiedTimeStamp': '2024-05-03T18:07:20.220657Z', 'modifiedBy': 'Chris.Parrish@sas.com', 'version': 2, 'id': 'b630f2fe-f759-4e3f-8a53-f34f1251f086', 'name': 'logit_python_amlbank.pickle', 'role': 'scoreResource', 'fileUri': '/files/files/8728282e-3374-47a8-bf95-77f3cbbb80ea', 'modelId': 'd3d9ba5c-5134-40e4-b47d-e2217aa2adeb', 'links': [{'method': 'GET', 'rel': 'UP', 'href': '/modelRepository/models/d3d9ba5c-5134-40e4-b47d-e2217aa2adeb', 'uri': '/modelRepository/models/d3d9ba5c-5134-40e4-b47d-e2217aa2adeb', 'itemType': 'application/vnd.sas.models.model.content'}, {'method': 'GET', 'rel': 'self', 'href': '/modelRepository/models/d3d9ba5c-5134-40e4-b47d-e2217aa2adeb/contents/b630f2fe-f759-4e3f-8a53-f34f1251f086', 'uri': '/modelRepository/models/d3d9ba5c-5134-40e4-b47d-e2217aa2adeb/contents/b630f2fe-f759-4e3f-8a53-f34f1251f086', 'type': 'application/vnd.sas.models.model.content'}, {'method': 'GET', 'rel': 'content', 'uri': '/modelRepository/models/d3d9ba5c-5134-40e4-b47d-e2217aa2adeb/contents/b630f2fe-f759-4e3f-8a53-f34f1251f086/content', 'type': 'application/octet-stream'}, {'method': 'POST', 'rel': 'create', 'href': '/modelRepository/models/d3d9ba5c-5134-40e4-b47d-e2217aa2adeb/contents/b630f2fe-f759-4e3f-8a53-f34f1251f086', 'uri': '/modelRepository/models/d3d9ba5c-5134-40e4-b47d-e2217aa2adeb/contents/b630f2fe-f759-4e3f-8a53-f34f1251f086', 'type': 'multipart/form-data'}, {'method': 'PUT', 'rel': 'update', 'href': '/modelRepository/models/d3d9ba5c-5134-40e4-b47d-e2217aa2adeb/contents/b630f2fe-f759-4e3f-8a53-f34f1251f086', 'uri': '/modelRepository/models/d3d9ba5c-5134-40e4-b47d-e2217aa2adeb/contents/b630f2fe-f759-4e3f-8a53-f34f1251f086', 'type': 'application/vnd.sas.models.model.content'}, {'method': 'PUT', 'rel': 'updateContentMultipart', 'href': '/modelRepository/models/d3d9ba5c-5134-40e4-b47d-e2217aa2adeb/contents/b630f2fe-f759-4e3f-8a53-f34f1251f086', 'uri': '/modelRepository/models/d3d9ba5c-5134-40e4-b47d-e2217aa2adeb/contents/b630f2fe-f759-4e3f-8a53-f34f1251f086', 'type': 'application/vnd.sas.models.model.content'}, {'method': 'DELETE', 'rel': 'delete', 'href': '/modelRepository/models/d3d9ba5c-5134-40e4-b47d-e2217aa2adeb/contents/b630f2fe-f759-4e3f-8a53-f34f1251f086', 'uri': '/modelRepository/models/d3d9ba5c-5134-40e4-b47d-e2217aa2adeb/contents/b630f2fe-f759-4e3f-8a53-f34f1251f086'}]}, {'creationTimeStamp': '2024-05-03T18:07:20.069303Z', 'createdBy': 'anonymous', 'modifiedTimeStamp': '2024-05-03T18:07:20.22334Z', 'modifiedBy': 'Chris.Parrish@sas.com', 'version': 2, 'id': '4f406940-b5ca-4ffa-92be-d5308a55db4e', 'name': 'outputVar.json', 'role': 'outputVariables', 'fileUri': '/files/files/0df57cd0-b245-4ed8-b295-99261b513748', 'modelId': 'd3d9ba5c-5134-40e4-b47d-e2217aa2adeb', 'links': [{'method': 'GET', 'rel': 'UP', 'href': '/modelRepository/models/d3d9ba5c-5134-40e4-b47d-e2217aa2adeb', 'uri': '/modelRepository/models/d3d9ba5c-5134-40e4-b47d-e2217aa2adeb', 'itemType': 'application/vnd.sas.models.model.content'}, {'method': 'GET', 'rel': 'self', 'href': '/modelRepository/models/d3d9ba5c-5134-40e4-b47d-e2217aa2adeb/contents/4f406940-b5ca-4ffa-92be-d5308a55db4e', 'uri': '/modelRepository/models/d3d9ba5c-5134-40e4-b47d-e2217aa2adeb/contents/4f406940-b5ca-4ffa-92be-d5308a55db4e', 'type': 'application/vnd.sas.models.model.content'}, {'method': 'GET', 'rel': 'content', 'uri': '/modelRepository/models/d3d9ba5c-5134-40e4-b47d-e2217aa2adeb/contents/4f406940-b5ca-4ffa-92be-d5308a55db4e/content', 'type': 'application/octet-stream'}, {'method': 'POST', 'rel': 'create', 'href': '/modelRepository/models/d3d9ba5c-5134-40e4-b47d-e2217aa2adeb/contents/4f406940-b5ca-4ffa-92be-d5308a55db4e', 'uri': '/modelRepository/models/d3d9ba5c-5134-40e4-b47d-e2217aa2adeb/contents/4f406940-b5ca-4ffa-92be-d5308a55db4e', 'type': 'multipart/form-data'}, {'method': 'PUT', 'rel': 'update', 'href': '/modelRepository/models/d3d9ba5c-5134-40e4-b47d-e2217aa2adeb/contents/4f406940-b5ca-4ffa-92be-d5308a55db4e', 'uri': '/modelRepository/models/d3d9ba5c-5134-40e4-b47d-e2217aa2adeb/contents/4f406940-b5ca-4ffa-92be-d5308a55db4e', 'type': 'application/vnd.sas.models.model.content'}, {'method': 'PUT', 'rel': 'updateContentMultipart', 'href': '/modelRepository/models/d3d9ba5c-5134-40e4-b47d-e2217aa2adeb/contents/4f406940-b5ca-4ffa-92be-d5308a55db4e', 'uri': '/modelRepository/models/d3d9ba5c-5134-40e4-b47d-e2217aa2adeb/contents/4f406940-b5ca-4ffa-92be-d5308a55db4e', 'type': 'application/vnd.sas.models.model.content'}, {'method': 'DELETE', 'rel': 'delete', 'href': '/modelRepository/models/d3d9ba5c-5134-40e4-b47d-e2217aa2adeb/contents/4f406940-b5ca-4ffa-92be-d5308a55db4e', 'uri': '/modelRepository/models/d3d9ba5c-5134-40e4-b47d-e2217aa2adeb/contents/4f406940-b5ca-4ffa-92be-d5308a55db4e'}]}, {'creationTimeStamp': '2024-05-03T18:07:20.201718Z', 'createdBy': 'anonymous', 'modifiedTimeStamp': '2024-05-03T18:07:20.225789Z', 'modifiedBy': 'Chris.Parrish@sas.com', 'version': 2, 'id': '71bcb873-d09e-4202-849d-614a9810c0f1', 'name': 'score_logit_python_amlbank.py', 'role': 'score', 'fileUri': '/files/files/9c093b3a-e466-4af5-b52b-7ee1d004fee2', 'modelId': 'd3d9ba5c-5134-40e4-b47d-e2217aa2adeb', 'links': [{'method': 'GET', 'rel': 'UP', 'href': '/modelRepository/models/d3d9ba5c-5134-40e4-b47d-e2217aa2adeb', 'uri': '/modelRepository/models/d3d9ba5c-5134-40e4-b47d-e2217aa2adeb', 'itemType': 'application/vnd.sas.models.model.content'}, {'method': 'GET', 'rel': 'self', 'href': '/modelRepository/models/d3d9ba5c-5134-40e4-b47d-e2217aa2adeb/contents/71bcb873-d09e-4202-849d-614a9810c0f1', 'uri': '/modelRepository/models/d3d9ba5c-5134-40e4-b47d-e2217aa2adeb/contents/71bcb873-d09e-4202-849d-614a9810c0f1', 'type': 'application/vnd.sas.models.model.content'}, {'method': 'GET', 'rel': 'content', 'uri': '/modelRepository/models/d3d9ba5c-5134-40e4-b47d-e2217aa2adeb/contents/71bcb873-d09e-4202-849d-614a9810c0f1/content', 'type': 'application/octet-stream'}, {'method': 'POST', 'rel': 'create', 'href': '/modelRepository/models/d3d9ba5c-5134-40e4-b47d-e2217aa2adeb/contents/71bcb873-d09e-4202-849d-614a9810c0f1', 'uri': '/modelRepository/models/d3d9ba5c-5134-40e4-b47d-e2217aa2adeb/contents/71bcb873-d09e-4202-849d-614a9810c0f1', 'type': 'multipart/form-data'}, {'method': 'PUT', 'rel': 'update', 'href': '/modelRepository/models/d3d9ba5c-5134-40e4-b47d-e2217aa2adeb/contents/71bcb873-d09e-4202-849d-614a9810c0f1', 'uri': '/modelRepository/models/d3d9ba5c-5134-40e4-b47d-e2217aa2adeb/contents/71bcb873-d09e-4202-849d-614a9810c0f1', 'type': 'application/vnd.sas.models.model.content'}, {'method': 'PUT', 'rel': 'updateContentMultipart', 'href': '/modelRepository/models/d3d9ba5c-5134-40e4-b47d-e2217aa2adeb/contents/71bcb873-d09e-4202-849d-614a9810c0f1', 'uri': '/modelRepository/models/d3d9ba5c-5134-40e4-b47d-e2217aa2adeb/contents/71bcb873-d09e-4202-849d-614a9810c0f1', 'type': 'application/vnd.sas.models.model.content'}, {'method': 'DELETE', 'rel': 'delete', 'href': '/modelRepository/models/d3d9ba5c-5134-40e4-b47d-e2217aa2adeb/contents/71bcb873-d09e-4202-849d-614a9810c0f1', 'uri': '/modelRepository/models/d3d9ba5c-5134-40e4-b47d-e2217aa2adeb/contents/71bcb873-d09e-4202-849d-614a9810c0f1'}]}, {'creationTimeStamp': '2024-05-03T18:07:20.282731Z', 'createdBy': 'anonymous', 'modifiedTimeStamp': '2024-05-03T18:07:20.282731Z', 'modifiedBy': 'anonymous', 'version': 2, 'id': '12959cae-487a-4f76-86af-3ae312f42f29', 'name': 'fileMetadata.json', 'fileUri': '/files/files/e705df6f-f286-4f81-92dc-c163e4b380fa', 'modelId': 'd3d9ba5c-5134-40e4-b47d-e2217aa2adeb', 'links': [{'method': 'GET', 'rel': 'UP', 'href': '/modelRepository/models/d3d9ba5c-5134-40e4-b47d-e2217aa2adeb', 'uri': '/modelRepository/models/d3d9ba5c-5134-40e4-b47d-e2217aa2adeb', 'itemType': 'application/vnd.sas.models.model.content'}, {'method': 'GET', 'rel': 'self', 'href': '/modelRepository/models/d3d9ba5c-5134-40e4-b47d-e2217aa2adeb/contents/12959cae-487a-4f76-86af-3ae312f42f29', 'uri': '/modelRepository/models/d3d9ba5c-5134-40e4-b47d-e2217aa2adeb/contents/12959cae-487a-4f76-86af-3ae312f42f29', 'type': 'application/vnd.sas.models.model.content'}, {'method': 'GET', 'rel': 'content', 'uri': '/modelRepository/models/d3d9ba5c-5134-40e4-b47d-e2217aa2adeb/contents/12959cae-487a-4f76-86af-3ae312f42f29/content', 'type': 'application/octet-stream'}, {'method': 'POST', 'rel': 'create', 'href': '/modelRepository/models/d3d9ba5c-5134-40e4-b47d-e2217aa2adeb/contents/12959cae-487a-4f76-86af-3ae312f42f29', 'uri': '/modelRepository/models/d3d9ba5c-5134-40e4-b47d-e2217aa2adeb/contents/12959cae-487a-4f76-86af-3ae312f42f29', 'type': 'multipart/form-data'}, {'method': 'PUT', 'rel': 'update', 'href': '/modelRepository/models/d3d9ba5c-5134-40e4-b47d-e2217aa2adeb/contents/12959cae-487a-4f76-86af-3ae312f42f29', 'uri': '/modelRepository/models/d3d9ba5c-5134-40e4-b47d-e2217aa2adeb/contents/12959cae-487a-4f76-86af-3ae312f42f29', 'type': 'application/vnd.sas.models.model.content'}, {'method': 'PUT', 'rel': 'updateContentMultipart', 'href': '/modelRepository/models/d3d9ba5c-5134-40e4-b47d-e2217aa2adeb/contents/12959cae-487a-4f76-86af-3ae312f42f29', 'uri': '/modelRepository/models/d3d9ba5c-5134-40e4-b47d-e2217aa2adeb/contents/12959cae-487a-4f76-86af-3ae312f42f29', 'type': 'application/vnd.sas.models.model.content'}, {'method': 'DELETE', 'rel': 'delete', 'href': '/modelRepository/models/d3d9ba5c-5134-40e4-b47d-e2217aa2adeb/contents/12959cae-487a-4f76-86af-3ae312f42f29', 'uri': '/modelRepository/models/d3d9ba5c-5134-40e4-b47d-e2217aa2adeb/contents/12959cae-487a-4f76-86af-3ae312f42f29'}]}], 'inputVariables': [{'creationTimeStamp': '2024-05-03T18:07:19.829156Z', 'createdBy': 'anonymous', 'modifiedTimeStamp': '2024-05-03T18:07:19.829156Z', 'modifiedBy': 'anonymous', 'name': 'marital_status_single', 'description': '', 'role': 'input', 'type': 'decimal', 'level': 'interval', 'format': '', 'aggregation': '', 'length': 8, 'id': 'c4ede551-b9c2-4c60-b200-c82ac03c6548', 'holderId': 'd3d9ba5c-5134-40e4-b47d-e2217aa2adeb', 'links': [{'method': 'GET', 'rel': 'up', 'href': '/modelRepository/models/d3d9ba5c-5134-40e4-b47d-e2217aa2adeb/variables/c4ede551-b9c2-4c60-b200-c82ac03c6548', 'uri': '/modelRepository/models/d3d9ba5c-5134-40e4-b47d-e2217aa2adeb/variables', 'type': 'application/vnd.sas.collection'}, {'method': 'GET', 'rel': 'self', 'href': '/modelRepository/models/d3d9ba5c-5134-40e4-b47d-e2217aa2adeb/variables/c4ede551-b9c2-4c60-b200-c82ac03c6548', 'uri': '/modelRepository/models/d3d9ba5c-5134-40e4-b47d-e2217aa2adeb/variables/c4ede551-b9c2-4c60-b200-c82ac03c6548', 'type': 'application/vnd.sas.models.model.variable'}, {'method': 'PUT', 'rel': 'update', 'href': '/modelRepository/models/d3d9ba5c-5134-40e4-b47d-e2217aa2adeb/variables/c4ede551-b9c2-4c60-b200-c82ac03c6548', 'uri': '/modelRepository/models/d3d9ba5c-5134-40e4-b47d-e2217aa2adeb/variables/c4ede551-b9c2-4c60-b200-c82ac03c6548', 'type': 'application/vnd.sas.models.model.variable'}, {'method': 'DELETE', 'rel': 'delete', 'href': '/modelRepository/models/d3d9ba5c-5134-40e4-b47d-e2217aa2adeb/variables/c4ede551-b9c2-4c60-b200-c82ac03c6548', 'uri': '/modelRepository/models/d3d9ba5c-5134-40e4-b47d-e2217aa2adeb/variables/c4ede551-b9c2-4c60-b200-c82ac03c6548', 'type': 'application/vnd.sas.models.model.variable'}]}, {'creationTimeStamp': '2024-05-03T18:07:19.832413Z', 'createdBy': 'anonymous', 'modifiedTimeStamp': '2024-05-03T18:07:19.832414Z', 'modifiedBy': 'anonymous', 'name': 'checking_only_indicator', 'description': '', 'role': 'input', 'type': 'decimal', 'level': 'interval', 'format': '', 'aggregation': '', 'length': 8, 'id': '43227d24-9528-4781-a28c-99f6035c98a9', 'holderId': 'd3d9ba5c-5134-40e4-b47d-e2217aa2adeb', 'links': [{'method': 'GET', 'rel': 'up', 'href': '/modelRepository/models/d3d9ba5c-5134-40e4-b47d-e2217aa2adeb/variables/43227d24-9528-4781-a28c-99f6035c98a9', 'uri': '/modelRepository/models/d3d9ba5c-5134-40e4-b47d-e2217aa2adeb/variables', 'type': 'application/vnd.sas.collection'}, {'method': 'GET', 'rel': 'self', 'href': '/modelRepository/models/d3d9ba5c-5134-40e4-b47d-e2217aa2adeb/variables/43227d24-9528-4781-a28c-99f6035c98a9', 'uri': '/modelRepository/models/d3d9ba5c-5134-40e4-b47d-e2217aa2adeb/variables/43227d24-9528-4781-a28c-99f6035c98a9', 'type': 'application/vnd.sas.models.model.variable'}, {'method': 'PUT', 'rel': 'update', 'href': '/modelRepository/models/d3d9ba5c-5134-40e4-b47d-e2217aa2adeb/variables/43227d24-9528-4781-a28c-99f6035c98a9', 'uri': '/modelRepository/models/d3d9ba5c-5134-40e4-b47d-e2217aa2adeb/variables/43227d24-9528-4781-a28c-99f6035c98a9', 'type': 'application/vnd.sas.models.model.variable'}, {'method': 'DELETE', 'rel': 'delete', 'href': '/modelRepository/models/d3d9ba5c-5134-40e4-b47d-e2217aa2adeb/variables/43227d24-9528-4781-a28c-99f6035c98a9', 'uri': '/modelRepository/models/d3d9ba5c-5134-40e4-b47d-e2217aa2adeb/variables/43227d24-9528-4781-a28c-99f6035c98a9', 'type': 'application/vnd.sas.models.model.variable'}]}, {'creationTimeStamp': '2024-05-03T18:07:19.834846Z', 'createdBy': 'anonymous', 'modifiedTimeStamp': '2024-05-03T18:07:19.834847Z', 'modifiedBy': 'anonymous', 'name': 'prior_ctr_indicator', 'description': '', 'role': 'input', 'type': 'decimal', 'level': 'interval', 'format': '', 'aggregation': '', 'length': 8, 'id': '9eeb8ea4-f3dd-42ee-a67a-5786f4f811d7', 'holderId': 'd3d9ba5c-5134-40e4-b47d-e2217aa2adeb', 'links': [{'method': 'GET', 'rel': 'up', 'href': '/modelRepository/models/d3d9ba5c-5134-40e4-b47d-e2217aa2adeb/variables/9eeb8ea4-f3dd-42ee-a67a-5786f4f811d7', 'uri': '/modelRepository/models/d3d9ba5c-5134-40e4-b47d-e2217aa2adeb/variables', 'type': 'application/vnd.sas.collection'}, {'method': 'GET', 'rel': 'self', 'href': '/modelRepository/models/d3d9ba5c-5134-40e4-b47d-e2217aa2adeb/variables/9eeb8ea4-f3dd-42ee-a67a-5786f4f811d7', 'uri': '/modelRepository/models/d3d9ba5c-5134-40e4-b47d-e2217aa2adeb/variables/9eeb8ea4-f3dd-42ee-a67a-5786f4f811d7', 'type': 'application/vnd.sas.models.model.variable'}, {'method': 'PUT', 'rel': 'update', 'href': '/modelRepository/models/d3d9ba5c-5134-40e4-b47d-e2217aa2adeb/variables/9eeb8ea4-f3dd-42ee-a67a-5786f4f811d7', 'uri': '/modelRepository/models/d3d9ba5c-5134-40e4-b47d-e2217aa2adeb/variables/9eeb8ea4-f3dd-42ee-a67a-5786f4f811d7', 'type': 'application/vnd.sas.models.model.variable'}, {'method': 'DELETE', 'rel': 'delete', 'href': '/modelRepository/models/d3d9ba5c-5134-40e4-b47d-e2217aa2adeb/variables/9eeb8ea4-f3dd-42ee-a67a-5786f4f811d7', 'uri': '/modelRepository/models/d3d9ba5c-5134-40e4-b47d-e2217aa2adeb/variables/9eeb8ea4-f3dd-42ee-a67a-5786f4f811d7', 'type': 'application/vnd.sas.models.model.variable'}]}, {'creationTimeStamp': '2024-05-03T18:07:19.836799Z', 'createdBy': 'anonymous', 'modifiedTimeStamp': '2024-05-03T18:07:19.836799Z', 'modifiedBy': 'anonymous', 'name': 'address_change_2x_indicator', 'description': '', 'role': 'input', 'type': 'decimal', 'level': 'interval', 'format': '', 'aggregation': '', 'length': 8, 'id': 'c9237f4b-23ad-4064-84b8-f4d476009182', 'holderId': 'd3d9ba5c-5134-40e4-b47d-e2217aa2adeb', 'links': [{'method': 'GET', 'rel': 'up', 'href': '/modelRepository/models/d3d9ba5c-5134-40e4-b47d-e2217aa2adeb/variables/c9237f4b-23ad-4064-84b8-f4d476009182', 'uri': '/modelRepository/models/d3d9ba5c-5134-40e4-b47d-e2217aa2adeb/variables', 'type': 'application/vnd.sas.collection'}, {'method': 'GET', 'rel': 'self', 'href': '/modelRepository/models/d3d9ba5c-5134-40e4-b47d-e2217aa2adeb/variables/c9237f4b-23ad-4064-84b8-f4d476009182', 'uri': '/modelRepository/models/d3d9ba5c-5134-40e4-b47d-e2217aa2adeb/variables/c9237f4b-23ad-4064-84b8-f4d476009182', 'type': 'application/vnd.sas.models.model.variable'}, {'method': 'PUT', 'rel': 'update', 'href': '/modelRepository/models/d3d9ba5c-5134-40e4-b47d-e2217aa2adeb/variables/c9237f4b-23ad-4064-84b8-f4d476009182', 'uri': '/modelRepository/models/d3d9ba5c-5134-40e4-b47d-e2217aa2adeb/variables/c9237f4b-23ad-4064-84b8-f4d476009182', 'type': 'application/vnd.sas.models.model.variable'}, {'method': 'DELETE', 'rel': 'delete', 'href': '/modelRepository/models/d3d9ba5c-5134-40e4-b47d-e2217aa2adeb/variables/c9237f4b-23ad-4064-84b8-f4d476009182', 'uri': '/modelRepository/models/d3d9ba5c-5134-40e4-b47d-e2217aa2adeb/variables/c9237f4b-23ad-4064-84b8-f4d476009182', 'type': 'application/vnd.sas.models.model.variable'}]}, {'creationTimeStamp': '2024-05-03T18:07:19.83858Z', 'createdBy': 'anonymous', 'modifiedTimeStamp': '2024-05-03T18:07:19.83858Z', 'modifiedBy': 'anonymous', 'name': 'cross_border_trx_indicator', 'description': '', 'role': 'input', 'type': 'decimal', 'level': 'interval', 'format': '', 'aggregation': '', 'length': 8, 'id': '72eb22c8-ef9f-43bb-8270-d197cb22dc28', 'holderId': 'd3d9ba5c-5134-40e4-b47d-e2217aa2adeb', 'links': [{'method': 'GET', 'rel': 'up', 'href': '/modelRepository/models/d3d9ba5c-5134-40e4-b47d-e2217aa2adeb/variables/72eb22c8-ef9f-43bb-8270-d197cb22dc28', 'uri': '/modelRepository/models/d3d9ba5c-5134-40e4-b47d-e2217aa2adeb/variables', 'type': 'application/vnd.sas.collection'}, {'method': 'GET', 'rel': 'self', 'href': '/modelRepository/models/d3d9ba5c-5134-40e4-b47d-e2217aa2adeb/variables/72eb22c8-ef9f-43bb-8270-d197cb22dc28', 'uri': '/modelRepository/models/d3d9ba5c-5134-40e4-b47d-e2217aa2adeb/variables/72eb22c8-ef9f-43bb-8270-d197cb22dc28', 'type': 'application/vnd.sas.models.model.variable'}, {'method': 'PUT', 'rel': 'update', 'href': '/modelRepository/models/d3d9ba5c-5134-40e4-b47d-e2217aa2adeb/variables/72eb22c8-ef9f-43bb-8270-d197cb22dc28', 'uri': '/modelRepository/models/d3d9ba5c-5134-40e4-b47d-e2217aa2adeb/variables/72eb22c8-ef9f-43bb-8270-d197cb22dc28', 'type': 'application/vnd.sas.models.model.variable'}, {'method': 'DELETE', 'rel': 'delete', 'href': '/modelRepository/models/d3d9ba5c-5134-40e4-b47d-e2217aa2adeb/variables/72eb22c8-ef9f-43bb-8270-d197cb22dc28', 'uri': '/modelRepository/models/d3d9ba5c-5134-40e4-b47d-e2217aa2adeb/variables/72eb22c8-ef9f-43bb-8270-d197cb22dc28', 'type': 'application/vnd.sas.models.model.variable'}]}, {'creationTimeStamp': '2024-05-03T18:07:19.8403Z', 'createdBy': 'anonymous', 'modifiedTimeStamp': '2024-05-03T18:07:19.8403Z', 'modifiedBy': 'anonymous', 'name': 'in_person_contact_indicator', 'description': '', 'role': 'input', 'type': 'decimal', 'level': 'interval', 'format': '', 'aggregation': '', 'length': 8, 'id': '29d7632f-ec71-45a2-8b83-6c5cec897d07', 'holderId': 'd3d9ba5c-5134-40e4-b47d-e2217aa2adeb', 'links': [{'method': 'GET', 'rel': 'up', 'href': '/modelRepository/models/d3d9ba5c-5134-40e4-b47d-e2217aa2adeb/variables/29d7632f-ec71-45a2-8b83-6c5cec897d07', 'uri': '/modelRepository/models/d3d9ba5c-5134-40e4-b47d-e2217aa2adeb/variables', 'type': 'application/vnd.sas.collection'}, {'method': 'GET', 'rel': 'self', 'href': '/modelRepository/models/d3d9ba5c-5134-40e4-b47d-e2217aa2adeb/variables/29d7632f-ec71-45a2-8b83-6c5cec897d07', 'uri': '/modelRepository/models/d3d9ba5c-5134-40e4-b47d-e2217aa2adeb/variables/29d7632f-ec71-45a2-8b83-6c5cec897d07', 'type': 'application/vnd.sas.models.model.variable'}, {'method': 'PUT', 'rel': 'update', 'href': '/modelRepository/models/d3d9ba5c-5134-40e4-b47d-e2217aa2adeb/variables/29d7632f-ec71-45a2-8b83-6c5cec897d07', 'uri': '/modelRepository/models/d3d9ba5c-5134-40e4-b47d-e2217aa2adeb/variables/29d7632f-ec71-45a2-8b83-6c5cec897d07', 'type': 'application/vnd.sas.models.model.variable'}, {'method': 'DELETE', 'rel': 'delete', 'href': '/modelRepository/models/d3d9ba5c-5134-40e4-b47d-e2217aa2adeb/variables/29d7632f-ec71-45a2-8b83-6c5cec897d07', 'uri': '/modelRepository/models/d3d9ba5c-5134-40e4-b47d-e2217aa2adeb/variables/29d7632f-ec71-45a2-8b83-6c5cec897d07', 'type': 'application/vnd.sas.models.model.variable'}]}, {'creationTimeStamp': '2024-05-03T18:07:19.841955Z', 'createdBy': 'anonymous', 'modifiedTimeStamp': '2024-05-03T18:07:19.841956Z', 'modifiedBy': 'anonymous', 'name': 'linkedin_indicator', 'description': '', 'role': 'input', 'type': 'decimal', 'level': 'interval', 'format': '', 'aggregation': '', 'length': 8, 'id': 'f732c8ff-2dbd-4995-8c63-752f2a6feeba', 'holderId': 'd3d9ba5c-5134-40e4-b47d-e2217aa2adeb', 'links': [{'method': 'GET', 'rel': 'up', 'href': '/modelRepository/models/d3d9ba5c-5134-40e4-b47d-e2217aa2adeb/variables/f732c8ff-2dbd-4995-8c63-752f2a6feeba', 'uri': '/modelRepository/models/d3d9ba5c-5134-40e4-b47d-e2217aa2adeb/variables', 'type': 'application/vnd.sas.collection'}, {'method': 'GET', 'rel': 'self', 'href': '/modelRepository/models/d3d9ba5c-5134-40e4-b47d-e2217aa2adeb/variables/f732c8ff-2dbd-4995-8c63-752f2a6feeba', 'uri': '/modelRepository/models/d3d9ba5c-5134-40e4-b47d-e2217aa2adeb/variables/f732c8ff-2dbd-4995-8c63-752f2a6feeba', 'type': 'application/vnd.sas.models.model.variable'}, {'method': 'PUT', 'rel': 'update', 'href': '/modelRepository/models/d3d9ba5c-5134-40e4-b47d-e2217aa2adeb/variables/f732c8ff-2dbd-4995-8c63-752f2a6feeba', 'uri': '/modelRepository/models/d3d9ba5c-5134-40e4-b47d-e2217aa2adeb/variables/f732c8ff-2dbd-4995-8c63-752f2a6feeba', 'type': 'application/vnd.sas.models.model.variable'}, {'method': 'DELETE', 'rel': 'delete', 'href': '/modelRepository/models/d3d9ba5c-5134-40e4-b47d-e2217aa2adeb/variables/f732c8ff-2dbd-4995-8c63-752f2a6feeba', 'uri': '/modelRepository/models/d3d9ba5c-5134-40e4-b47d-e2217aa2adeb/variables/f732c8ff-2dbd-4995-8c63-752f2a6feeba', 'type': 'application/vnd.sas.models.model.variable'}]}, {'creationTimeStamp': '2024-05-03T18:07:19.843755Z', 'createdBy': 'anonymous', 'modifiedTimeStamp': '2024-05-03T18:07:19.843756Z', 'modifiedBy': 'anonymous', 'name': 'citizenship_country_risk', 'description': '', 'role': 'input', 'type': 'decimal', 'level': 'interval', 'format': '', 'aggregation': '', 'length': 8, 'id': '16c37118-fad9-4a32-a66c-992dfc7298a2', 'holderId': 'd3d9ba5c-5134-40e4-b47d-e2217aa2adeb', 'links': [{'method': 'GET', 'rel': 'up', 'href': '/modelRepository/models/d3d9ba5c-5134-40e4-b47d-e2217aa2adeb/variables/16c37118-fad9-4a32-a66c-992dfc7298a2', 'uri': '/modelRepository/models/d3d9ba5c-5134-40e4-b47d-e2217aa2adeb/variables', 'type': 'application/vnd.sas.collection'}, {'method': 'GET', 'rel': 'self', 'href': '/modelRepository/models/d3d9ba5c-5134-40e4-b47d-e2217aa2adeb/variables/16c37118-fad9-4a32-a66c-992dfc7298a2', 'uri': '/modelRepository/models/d3d9ba5c-5134-40e4-b47d-e2217aa2adeb/variables/16c37118-fad9-4a32-a66c-992dfc7298a2', 'type': 'application/vnd.sas.models.model.variable'}, {'method': 'PUT', 'rel': 'update', 'href': '/modelRepository/models/d3d9ba5c-5134-40e4-b47d-e2217aa2adeb/variables/16c37118-fad9-4a32-a66c-992dfc7298a2', 'uri': '/modelRepository/models/d3d9ba5c-5134-40e4-b47d-e2217aa2adeb/variables/16c37118-fad9-4a32-a66c-992dfc7298a2', 'type': 'application/vnd.sas.models.model.variable'}, {'method': 'DELETE', 'rel': 'delete', 'href': '/modelRepository/models/d3d9ba5c-5134-40e4-b47d-e2217aa2adeb/variables/16c37118-fad9-4a32-a66c-992dfc7298a2', 'uri': '/modelRepository/models/d3d9ba5c-5134-40e4-b47d-e2217aa2adeb/variables/16c37118-fad9-4a32-a66c-992dfc7298a2', 'type': 'application/vnd.sas.models.model.variable'}]}, {'creationTimeStamp': '2024-05-03T18:07:19.845545Z', 'createdBy': 'anonymous', 'modifiedTimeStamp': '2024-05-03T18:07:19.845545Z', 'modifiedBy': 'anonymous', 'name': 'distance_to_employer', 'description': '', 'role': 'input', 'type': 'decimal', 'level': 'interval', 'format': '', 'aggregation': '', 'length': 8, 'id': '38b167c1-5955-4835-ae95-5b4506040651', 'holderId': 'd3d9ba5c-5134-40e4-b47d-e2217aa2adeb', 'links': [{'method': 'GET', 'rel': 'up', 'href': '/modelRepository/models/d3d9ba5c-5134-40e4-b47d-e2217aa2adeb/variables/38b167c1-5955-4835-ae95-5b4506040651', 'uri': '/modelRepository/models/d3d9ba5c-5134-40e4-b47d-e2217aa2adeb/variables', 'type': 'application/vnd.sas.collection'}, {'method': 'GET', 'rel': 'self', 'href': '/modelRepository/models/d3d9ba5c-5134-40e4-b47d-e2217aa2adeb/variables/38b167c1-5955-4835-ae95-5b4506040651', 'uri': '/modelRepository/models/d3d9ba5c-5134-40e4-b47d-e2217aa2adeb/variables/38b167c1-5955-4835-ae95-5b4506040651', 'type': 'application/vnd.sas.models.model.variable'}, {'method': 'PUT', 'rel': 'update', 'href': '/modelRepository/models/d3d9ba5c-5134-40e4-b47d-e2217aa2adeb/variables/38b167c1-5955-4835-ae95-5b4506040651', 'uri': '/modelRepository/models/d3d9ba5c-5134-40e4-b47d-e2217aa2adeb/variables/38b167c1-5955-4835-ae95-5b4506040651', 'type': 'application/vnd.sas.models.model.variable'}, {'method': 'DELETE', 'rel': 'delete', 'href': '/modelRepository/models/d3d9ba5c-5134-40e4-b47d-e2217aa2adeb/variables/38b167c1-5955-4835-ae95-5b4506040651', 'uri': '/modelRepository/models/d3d9ba5c-5134-40e4-b47d-e2217aa2adeb/variables/38b167c1-5955-4835-ae95-5b4506040651', 'type': 'application/vnd.sas.models.model.variable'}]}, {'creationTimeStamp': '2024-05-03T18:07:19.847203Z', 'createdBy': 'anonymous', 'modifiedTimeStamp': '2024-05-03T18:07:19.847203Z', 'modifiedBy': 'anonymous', 'name': 'distance_to_bank', 'description': '', 'role': 'input', 'type': 'decimal', 'level': 'interval', 'format': '', 'aggregation': '', 'length': 8, 'id': '074e425a-c2fa-4594-9ec9-7256c32f54a7', 'holderId': 'd3d9ba5c-5134-40e4-b47d-e2217aa2adeb', 'links': [{'method': 'GET', 'rel': 'up', 'href': '/modelRepository/models/d3d9ba5c-5134-40e4-b47d-e2217aa2adeb/variables/074e425a-c2fa-4594-9ec9-7256c32f54a7', 'uri': '/modelRepository/models/d3d9ba5c-5134-40e4-b47d-e2217aa2adeb/variables', 'type': 'application/vnd.sas.collection'}, {'method': 'GET', 'rel': 'self', 'href': '/modelRepository/models/d3d9ba5c-5134-40e4-b47d-e2217aa2adeb/variables/074e425a-c2fa-4594-9ec9-7256c32f54a7', 'uri': '/modelRepository/models/d3d9ba5c-5134-40e4-b47d-e2217aa2adeb/variables/074e425a-c2fa-4594-9ec9-7256c32f54a7', 'type': 'application/vnd.sas.models.model.variable'}, {'method': 'PUT', 'rel': 'update', 'href': '/modelRepository/models/d3d9ba5c-5134-40e4-b47d-e2217aa2adeb/variables/074e425a-c2fa-4594-9ec9-7256c32f54a7', 'uri': '/modelRepository/models/d3d9ba5c-5134-40e4-b47d-e2217aa2adeb/variables/074e425a-c2fa-4594-9ec9-7256c32f54a7', 'type': 'application/vnd.sas.models.model.variable'}, {'method': 'DELETE', 'rel': 'delete', 'href': '/modelRepository/models/d3d9ba5c-5134-40e4-b47d-e2217aa2adeb/variables/074e425a-c2fa-4594-9ec9-7256c32f54a7', 'uri': '/modelRepository/models/d3d9ba5c-5134-40e4-b47d-e2217aa2adeb/variables/074e425a-c2fa-4594-9ec9-7256c32f54a7', 'type': 'application/vnd.sas.models.model.variable'}]}], 'outputVariables': [{'creationTimeStamp': '2024-05-03T18:07:20.018661Z', 'createdBy': 'anonymous', 'modifiedTimeStamp': '2024-05-03T18:07:20.018661Z', 'modifiedBy': 'anonymous', 'name': 'EM_CLASSIFICATION', 'description': '', 'role': 'output', 'type': 'string', 'level': 'nominal', 'format': '', 'aggregation': '', 'length': 1, 'id': '2636b5d4-25da-4bd4-92a4-42dc5c253a88', 'holderId': 'd3d9ba5c-5134-40e4-b47d-e2217aa2adeb', 'links': [{'method': 'GET', 'rel': 'up', 'href': '/modelRepository/models/d3d9ba5c-5134-40e4-b47d-e2217aa2adeb/variables/2636b5d4-25da-4bd4-92a4-42dc5c253a88', 'uri': '/modelRepository/models/d3d9ba5c-5134-40e4-b47d-e2217aa2adeb/variables', 'type': 'application/vnd.sas.collection'}, {'method': 'GET', 'rel': 'self', 'href': '/modelRepository/models/d3d9ba5c-5134-40e4-b47d-e2217aa2adeb/variables/2636b5d4-25da-4bd4-92a4-42dc5c253a88', 'uri': '/modelRepository/models/d3d9ba5c-5134-40e4-b47d-e2217aa2adeb/variables/2636b5d4-25da-4bd4-92a4-42dc5c253a88', 'type': 'application/vnd.sas.models.model.variable'}, {'method': 'PUT', 'rel': 'update', 'href': '/modelRepository/models/d3d9ba5c-5134-40e4-b47d-e2217aa2adeb/variables/2636b5d4-25da-4bd4-92a4-42dc5c253a88', 'uri': '/modelRepository/models/d3d9ba5c-5134-40e4-b47d-e2217aa2adeb/variables/2636b5d4-25da-4bd4-92a4-42dc5c253a88', 'type': 'application/vnd.sas.models.model.variable'}, {'method': 'DELETE', 'rel': 'delete', 'href': '/modelRepository/models/d3d9ba5c-5134-40e4-b47d-e2217aa2adeb/variables/2636b5d4-25da-4bd4-92a4-42dc5c253a88', 'uri': '/modelRepository/models/d3d9ba5c-5134-40e4-b47d-e2217aa2adeb/variables/2636b5d4-25da-4bd4-92a4-42dc5c253a88', 'type': 'application/vnd.sas.models.model.variable'}]}, {'creationTimeStamp': '2024-05-03T18:07:20.02051Z', 'createdBy': 'anonymous', 'modifiedTimeStamp': '2024-05-03T18:07:20.020511Z', 'modifiedBy': 'anonymous', 'name': 'EM_EVENTPROBABILITY', 'description': '', 'role': 'output', 'type': 'decimal', 'level': 'interval', 'format': '', 'aggregation': '', 'length': 8, 'id': '88d315e8-0a6b-4217-b40c-090f92a5cad3', 'holderId': 'd3d9ba5c-5134-40e4-b47d-e2217aa2adeb', 'links': [{'method': 'GET', 'rel': 'up', 'href': '/modelRepository/models/d3d9ba5c-5134-40e4-b47d-e2217aa2adeb/variables/88d315e8-0a6b-4217-b40c-090f92a5cad3', 'uri': '/modelRepository/models/d3d9ba5c-5134-40e4-b47d-e2217aa2adeb/variables', 'type': 'application/vnd.sas.collection'}, {'method': 'GET', 'rel': 'self', 'href': '/modelRepository/models/d3d9ba5c-5134-40e4-b47d-e2217aa2adeb/variables/88d315e8-0a6b-4217-b40c-090f92a5cad3', 'uri': '/modelRepository/models/d3d9ba5c-5134-40e4-b47d-e2217aa2adeb/variables/88d315e8-0a6b-4217-b40c-090f92a5cad3', 'type': 'application/vnd.sas.models.model.variable'}, {'method': 'PUT', 'rel': 'update', 'href': '/modelRepository/models/d3d9ba5c-5134-40e4-b47d-e2217aa2adeb/variables/88d315e8-0a6b-4217-b40c-090f92a5cad3', 'uri': '/modelRepository/models/d3d9ba5c-5134-40e4-b47d-e2217aa2adeb/variables/88d315e8-0a6b-4217-b40c-090f92a5cad3', 'type': 'application/vnd.sas.models.model.variable'}, {'method': 'DELETE', 'rel': 'delete', 'href': '/modelRepository/models/d3d9ba5c-5134-40e4-b47d-e2217aa2adeb/variables/88d315e8-0a6b-4217-b40c-090f92a5cad3', 'uri': '/modelRepository/models/d3d9ba5c-5134-40e4-b47d-e2217aa2adeb/variables/88d315e8-0a6b-4217-b40c-090f92a5cad3', 'type': 'application/vnd.sas.models.model.variable'}]}], 'modelVersions': [], 'modelLocks': None, 'globalTags': ['ProductManagement', 'Active'], 'links': [{'method': 'GET', 'rel': 'up', 'href': '/modelRepository/models', 'uri': '/modelRepository/models', 'type': 'application/vnd.sas.models.model'}, {'method': 'GET', 'rel': 'self', 'href': '/modelRepository/models/d3d9ba5c-5134-40e4-b47d-e2217aa2adeb', 'uri': '/modelRepository/models/d3d9ba5c-5134-40e4-b47d-e2217aa2adeb', 'type': 'application/vnd.sas.models.model'}, {'method': 'PUT', 'rel': 'update', 'href': '/modelRepository/models/d3d9ba5c-5134-40e4-b47d-e2217aa2adeb', 'uri': '/modelRepository/models/d3d9ba5c-5134-40e4-b47d-e2217aa2adeb', 'type': 'application/vnd.sas.models.model', 'responseItemType': 'application/vnd.sas.models.model'}, {'method': 'DELETE', 'rel': 'delete', 'href': '/modelRepository/models/d3d9ba5c-5134-40e4-b47d-e2217aa2adeb', 'uri': '/modelRepository/models/d3d9ba5c-5134-40e4-b47d-e2217aa2adeb'}, {'method': 'GET', 'rel': 'scoreCode', 'href': '/modelRepository/models/d3d9ba5c-5134-40e4-b47d-e2217aa2adeb/code', 'uri': '/modelRepository/models/d3d9ba5c-5134-40e4-b47d-e2217aa2adeb/code', 'type': 'text/plain'}, {'method': 'GET', 'rel': 'contents', 'href': '/modelRepository/models/d3d9ba5c-5134-40e4-b47d-e2217aa2adeb/contents', 'uri': '/modelRepository/models/d3d9ba5c-5134-40e4-b47d-e2217aa2adeb/contents', 'type': 'application/vnd.sas.collection', 'itemType': 'application/vnd.sas.models.model.content'}, {'method': 'GET', 'rel': 'modelVersions', 'href': '/modelRepository/models/d3d9ba5c-5134-40e4-b47d-e2217aa2adeb/modelVersions', 'uri': '/modelRepository/models/d3d9ba5c-5134-40e4-b47d-e2217aa2adeb/modelVersions', 'type': 'application/vnd.sas.collection', 'responseItemType': 'application/vnd.sas.models.model.version'}, {'method': 'POST', 'rel': 'addModelVersion', 'href': '/modelRepository/models/d3d9ba5c-5134-40e4-b47d-e2217aa2adeb/modelVersions', 'uri': '/modelRepository/models/d3d9ba5c-5134-40e4-b47d-e2217aa2adeb/modelVersions', 'type': 'application/vnd.sas.models.model.version'}, {'method': 'GET', 'rel': 'variables', 'href': '/modelRepository/models/d3d9ba5c-5134-40e4-b47d-e2217aa2adeb/variables', 'uri': '/modelRepository/models/d3d9ba5c-5134-40e4-b47d-e2217aa2adeb/variables', 'type': 'application/vnd.sas.collection', 'itemType': 'application/vnd.sas.models.model.variable'}]}),\n",
       " WindowsPath('C:/Users/chparr/OneDrive - SAS/python/outputs/logit_python_amlbank'))"
      ]
     },
     "execution_count": 15,
     "metadata": {},
     "output_type": "execute_result"
    }
   ],
   "source": [
    "### import to model manager\n",
    "pzmm.ImportModel().import_model(\n",
    "    model_files=output_path, \n",
    "    model_prefix=model_name, \n",
    "    project=project_name, \n",
    "    input_data=input_df,\n",
    "    predict_method=[dm_model.predict_proba, [int, int]],\n",
    "    score_metrics=prediction_labels,\n",
    "    pickle_type='pickle',\n",
    "    project_version='latest',\n",
    "    missing_values=False,\n",
    "    overwrite_model=False,\n",
    "    mlflow_details=None,\n",
    "    predict_threshold=None,\n",
    "    target_values=dm_classtarget_level,\n",
    "    overwrite_project_properties=False,\n",
    "    target_index=1,\n",
    "    model_file_name=model_name + str('.pickle'))"
   ]
  }
 ],
 "metadata": {
  "kernelspec": {
   "display_name": "base",
   "language": "python",
   "name": "python3"
  },
  "language_info": {
   "codemirror_mode": {
    "name": "ipython",
    "version": 3
   },
   "file_extension": ".py",
   "mimetype": "text/x-python",
   "name": "python",
   "nbconvert_exporter": "python",
   "pygments_lexer": "ipython3",
   "version": "3.11.9"
  }
 },
 "nbformat": 4,
 "nbformat_minor": 2
}
