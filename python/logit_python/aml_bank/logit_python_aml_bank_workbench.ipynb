{
 "cells": [
  {
   "cell_type": "markdown",
   "metadata": {},
   "source": [
    "#### Use Case Background "
   ]
  },
  {
   "cell_type": "markdown",
   "metadata": {},
   "source": [
    "##### For financial services organizations, model development for fraud detection and for surfacing potentially anti-money laundering activities are an area of increasing interest."
   ]
  },
  {
   "cell_type": "markdown",
   "metadata": {},
   "source": [
    "##### Bespoke models may be used by banks to replace rules-based scenarios or other fraud detection activities."
   ]
  },
  {
   "cell_type": "markdown",
   "metadata": {},
   "source": [
    "##### This use case models bank account holder activity to determine the probability of money launding event."
   ]
  },
  {
   "cell_type": "markdown",
   "metadata": {},
   "source": [
    "##### (1) Developing Python / Notebook to create dataframe and set up training and testing partitions."
   ]
  },
  {
   "cell_type": "markdown",
   "metadata": {},
   "source": [
    "##### Analytics base table (aml_bank_prep) has already gone through ETL process and is prepped for modeling."
   ]
  },
  {
   "cell_type": "markdown",
   "metadata": {},
   "source": [
    "##### Engines are built into Workbench to access and process data in external data sources."
   ]
  },
  {
   "cell_type": "code",
   "execution_count": 15,
   "metadata": {},
   "outputs": [
    {
     "name": "stdout",
     "output_type": "stream",
     "text": [
      "account_id                       int64\n",
      "num_transactions               float64\n",
      "credit_score                   float64\n",
      "marital_status_single            int64\n",
      "marital_status_married           int64\n",
      "marital_status_divorced          int64\n",
      "analytic_partition               int64\n",
      "ml_indicator                     int64\n",
      "checking_only_indicator          int64\n",
      "prior_ctr_indicator              int64\n",
      "address_change_2x_indicator      int64\n",
      "cross_border_trx_indicator       int64\n",
      "in_person_contact_indicator      int64\n",
      "linkedin_indicator               int64\n",
      "atm_deposit_indicator            int64\n",
      "trx_10ksum_indicator             int64\n",
      "common_merchant_indicator        int64\n",
      "direct_deposit_indicator         int64\n",
      "citizenship_country_risk         int64\n",
      "occupation_risk                  int64\n",
      "num_acctbal_chgs_gt2000        float64\n",
      "distance_to_employer           float64\n",
      "distance_to_bank               float64\n",
      "income                         float64\n",
      "primary_transfer_cash            int64\n",
      "primary_transfer_check           int64\n",
      "primary_transfer_wire            int64\n",
      "dtype: object\n"
     ]
    }
   ],
   "source": [
    "########################\n",
    "### Create Dataframe ###\n",
    "########################\n",
    "\n",
    "import pandas as pd\n",
    "from pathlib import Path\n",
    "\n",
    "workspace_dir = \"/workspaces/chris_parrish/__fraud_detection_use_case__/\"\n",
    "data_table = \"aml_bank_prep.csv\"\n",
    "\n",
    "dm_inputdf = pd.read_csv(Path(workspace_dir) / data_table, header=0)\n",
    "print(dm_inputdf.dtypes)"
   ]
  },
  {
   "cell_type": "code",
   "execution_count": 17,
   "metadata": {},
   "outputs": [],
   "source": [
    "########################\n",
    "### Model Parameters ###\n",
    "########################\n",
    "\n",
    "### import python libraries\n",
    "import numpy as np\n",
    "from sklearn.utils import shuffle\n",
    "\n",
    "### model manager information\n",
    "metadata_output_dir = 'outputs'\n",
    "model_name = 'logit_python_aml_bank_workbench'\n",
    "project_name = 'Anti-Money Laundering'\n",
    "description = 'Logistic Regression'\n",
    "model_type = 'logistic_regression'\n",
    "model_function = 'Classification'\n",
    "predict_syntax = 'predict_proba'\n",
    "\n",
    "### define macro variables for model\n",
    "dm_dec_target = 'ml_indicator'\n",
    "dm_partitionvar = 'analytic_partition'\n",
    "create_new_partition = 'no' # 'yes', 'no'\n",
    "dm_key = 'account_id' \n",
    "dm_classtarget_level = ['0', '1']\n",
    "dm_partition_validate_val, dm_partition_train_val, dm_partition_test_val = [0, 1, 2]\n",
    "dm_partition_validate_perc, dm_partition_train_perc, dm_partition_test_perc = [0.3, 0.6, 0.1]\n",
    "\n",
    "### create list of regressors\n",
    "keep_predictors = [\n",
    "    'marital_status_single',\n",
    "    'checking_only_indicator',\n",
    "    'prior_ctr_indicator',\n",
    "    'address_change_2x_indicator',\n",
    "    'cross_border_trx_indicator',\n",
    "    'in_person_contact_indicator',\n",
    "    'linkedin_indicator',\n",
    "    'citizenship_country_risk',\n",
    "    'distance_to_employer',\n",
    "    'distance_to_bank'\n",
    "    ]\n",
    "#rejected_predictors = []\n",
    "\n",
    "### mlflow\n",
    "use_mlflow = 'no' # 'yes', 'no'\n",
    "mlflow_run_to_use = 0\n",
    "mlflow_class_labels =['TENSOR']\n",
    "mlflow_predict_syntax = 'predict'\n",
    "\n",
    "### var to consider in bias assessment\n",
    "bias_vars = ['marital_status_single']\n",
    "\n",
    "### var to consider in partial dependency\n",
    "pd_var1 = 'distance_to_employer'\n",
    "pd_var2 = 'distance_to_bank'\n",
    "\n",
    "### create partition column, if not already in dataset\n",
    "if create_new_partition == 'yes':\n",
    "    dm_inputdf = shuffle(dm_inputdf)\n",
    "    dm_inputdf.reset_index(inplace=True, drop=True)\n",
    "    validate_rows = round(len(dm_inputdf)*dm_partition_validate_perc)\n",
    "    train_rows = round(len(dm_inputdf)*dm_partition_train_perc) + validate_rows\n",
    "    test_rows = len(dm_inputdf)-train_rows\n",
    "    dm_inputdf.loc[0:validate_rows,dm_partitionvar] = dm_partition_validate_val\n",
    "    dm_inputdf.loc[validate_rows:train_rows,dm_partitionvar] = dm_partition_train_val\n",
    "    dm_inputdf.loc[train_rows:,dm_partitionvar] = dm_partition_test_val"
   ]
  },
  {
   "cell_type": "code",
   "execution_count": 18,
   "metadata": {},
   "outputs": [
    {
     "name": "stdout",
     "output_type": "stream",
     "text": [
      "['marital_status_single', 'checking_only_indicator', 'prior_ctr_indicator', 'address_change_2x_indicator', 'cross_border_trx_indicator', 'in_person_contact_indicator', 'linkedin_indicator', 'citizenship_country_risk', 'distance_to_employer', 'distance_to_bank']\n"
     ]
    }
   ],
   "source": [
    "##############################\n",
    "### Final Modeling Columns ###\n",
    "##############################\n",
    "\n",
    "### create list of model variables\n",
    "dm_input = list(dm_inputdf.columns.values)\n",
    "macro_vars = (dm_dec_target + ' ' + dm_partitionvar + ' ' + dm_key).split()\n",
    "rejected_predictors = [i for i in dm_input if i not in keep_predictors]\n",
    "rejected_vars = rejected_predictors # + macro_vars (include macro_vars if rejected_predictors are explicitly listed - not contra keep_predictors)\n",
    "for i in rejected_vars:\n",
    "    dm_input.remove(i)\n",
    "print(dm_input)\n",
    "\n",
    "### create prediction variables\n",
    "dm_predictionvar = [str('P_') + dm_dec_target + dm_classtarget_level[0], str('P_') + dm_dec_target + dm_classtarget_level[1]]\n",
    "dm_classtarget_intovar = str('I_') + dm_dec_target\n",
    "\n",
    "##################\n",
    "### Data Split ###\n",
    "##################\n",
    "\n",
    "### create train, test, validate datasets using existing partition column\n",
    "dm_traindf = dm_inputdf[dm_inputdf[dm_partitionvar] == dm_partition_train_val]\n",
    "X_train = dm_traindf.loc[:, dm_input]\n",
    "y_train = dm_traindf[dm_dec_target]\n",
    "dm_testdf = dm_inputdf.loc[(dm_inputdf[dm_partitionvar] == dm_partition_test_val)]\n",
    "X_test = dm_testdf.loc[:, dm_input]\n",
    "y_test = dm_testdf[dm_dec_target]\n",
    "dm_validdf = dm_inputdf.loc[(dm_inputdf[dm_partitionvar] == dm_partition_validate_val)]\n",
    "X_valid = dm_validdf.loc[:, dm_input]\n",
    "y_valid = dm_validdf[dm_dec_target]"
   ]
  },
  {
   "cell_type": "markdown",
   "metadata": {},
   "source": [
    "##### (2) Train model using sklearn and with sasviya.ml API"
   ]
  },
  {
   "cell_type": "code",
   "execution_count": 10,
   "metadata": {},
   "outputs": [
    {
     "name": "stdout",
     "output_type": "stream",
     "text": [
      "score_train: 0.9660878685467894\n",
      "score_test: 0.9615384615384616\n",
      "score_valid: 0.9638778839431368\n"
     ]
    }
   ],
   "source": [
    "##############################\n",
    "### Training Code - Python ###\n",
    "##############################\n",
    "\n",
    "from sklearn.linear_model import LogisticRegression\n",
    "\n",
    "### estimate & fit model\n",
    "dm_model = LogisticRegression(\n",
    "        tol=1e-8,\n",
    "        fit_intercept=True,\n",
    "        solver='newton-cg',\n",
    "        verbose=0,\n",
    "        max_iter=100\n",
    "    )\n",
    "dm_model.fit(X_train, y_train)\n",
    "\n",
    "print('score_train:', dm_model.score(X_train, y_train))\n",
    "print('score_test:', dm_model.score(X_test, y_test))\n",
    "print('score_valid:', dm_model.score(X_valid, y_valid))"
   ]
  },
  {
   "cell_type": "code",
   "execution_count": null,
   "metadata": {},
   "outputs": [],
   "source": [
    "####################\n",
    "### Pickle Model ###\n",
    "####################\n",
    "\n",
    "import pickle\n",
    "\n",
    "pickle_file = 'aml_bank_pickle.pkl'\n",
    "dm_pklpath = Path(workspace_dir)/pickle_file\n",
    "\n",
    "with open(dm_pklpath, 'wb') as f:\n",
    "\tpickle.dump(dm_model, f)"
   ]
  },
  {
   "cell_type": "code",
   "execution_count": 11,
   "metadata": {},
   "outputs": [
    {
     "name": "stdout",
     "output_type": "stream",
     "text": [
      "score_train: 0.9664374781493998\n",
      "score_test: 0.9622377622377623\n",
      "score_valid: 0.9636448380330925\n"
     ]
    }
   ],
   "source": [
    "###############\n",
    "### SAS API ###\n",
    "###############\n",
    "\n",
    "from sasviya.ml.linear_model import LogisticRegression\n",
    "\n",
    "### estimate & fit model\n",
    "dm_model = LogisticRegression(\n",
    "        tol=1e-8,\n",
    "        fit_intercept=True,\n",
    "        solver=\"newrap\",\n",
    "        selection=None,\n",
    "        verbose=0,\n",
    "        max_iter=None,\n",
    "        max_time=None\n",
    "        )\n",
    "dm_model.fit(X_train, y_train)\n",
    "\n",
    "print('score_train:', dm_model.score(X_train, y_train))\n",
    "print('score_test:', dm_model.score(X_test, y_test))\n",
    "print('score_valid:', dm_model.score(X_valid, y_valid))"
   ]
  },
  {
   "cell_type": "code",
   "execution_count": 13,
   "metadata": {},
   "outputs": [],
   "source": [
    "#################################\n",
    "### Save Model as Astore File ###\n",
    "#################################\n",
    "\n",
    "astore = \"aml_bank_astore\"\n",
    "dm_model.export(file=Path(workspace_dir)/astore, replace=True)"
   ]
  },
  {
   "cell_type": "code",
   "execution_count": 14,
   "metadata": {},
   "outputs": [],
   "source": [
    "###########################\n",
    "### Save Model in Table ###\n",
    "###########################\n",
    "\n",
    "model_table = \"aml_bank_model\"\n",
    "dm_model.save(Path(workspace_dir)/model_table)"
   ]
  },
  {
   "cell_type": "code",
   "execution_count": null,
   "metadata": {},
   "outputs": [],
   "source": []
  },
  {
   "cell_type": "markdown",
   "metadata": {},
   "source": [
    "##### (4) Score deployed model"
   ]
  },
  {
   "cell_type": "code",
   "execution_count": 1,
   "metadata": {},
   "outputs": [],
   "source": [
    "hostname = 'https://innovationlab.demo.sas.com/cas-shared-default-http'\n",
    "session = 'https://innovationlab.demo.sas.com/'\n",
    "token = r'/workspaces/chris_parrish/_chris_demo/access_token.txt'\n",
    "token_refresh = r'/workspaces/chris_parrish/_chris_demo/refresh_token.txt'\n",
    "token_pem = r'/workspaces/chris_parrish/_chris_demo/innovationlab_demo_sas_com.pem'"
   ]
  },
  {
   "cell_type": "code",
   "execution_count": 3,
   "metadata": {},
   "outputs": [
    {
     "name": "stdout",
     "output_type": "stream",
     "text": [
      "NOTE: Grid node action status report: 1 nodes, 9 total actions executed.\n",
      "[About]\n",
      "\n",
      " {'CAS': 'Cloud Analytic Services',\n",
      "  'CASCacheLocation': 'CAS Disk Cache',\n",
      "  'CASHostAccountRequired': 'OPTIONAL',\n",
      "  'Copyright': 'Copyright © 2014-2024 SAS Institute Inc. All Rights Reserved.',\n",
      "  'ServerTime': '2024-10-08T21:08:09Z',\n",
      "  'System': {'Hostname': 'controller.sas-cas-server-default.innovationlab.svc.cluster.local',\n",
      "   'Linux Distribution': 'Red Hat Enterprise Linux release 8.10 (Ootpa)',\n",
      "   'Model Number': 'x86_64',\n",
      "   'OS Family': 'LIN X64',\n",
      "   'OS Name': 'Linux',\n",
      "   'OS Release': '5.15.0-1071-azure',\n",
      "   'OS Version': '#80-Ubuntu SMP Tue Aug 6 19:27:32 UTC 2024'},\n",
      "  'Transferred': 'NO',\n",
      "  'Version': '4.00',\n",
      "  'VersionLong': 'V.04.00M0P08122024',\n",
      "  'Viya Release': '20240906.1725666769572',\n",
      "  'Viya Version': 'Stable 2024.08',\n",
      "  'license': {'expires': '13Sep2026:00:00:00',\n",
      "   'gracePeriod': 0,\n",
      "   'site': 'CIS CREATE INNOVATION LAB (ENTERPRISE-RISK-MRM)',\n",
      "   'siteNum': 70180938,\n",
      "   'warningPeriod': 15}}\n",
      "\n",
      "[nodestatus]\n",
      "\n",
      " Node Status\n",
      " \n",
      "                                                 name        role  uptime  running  stalled\n",
      " 0  controller.sas-cas-server-default.innovationla...  controller   1.841        0        0\n",
      "\n",
      "[server]\n",
      "\n",
      " Server Status\n",
      " \n",
      "    nodes  actions\n",
      " 0      1        9\n",
      "\n",
      "+ Elapsed: 0.000615s, user: 0.000539s, sys: 3.6e-05s, mem: 0.322mb\n"
     ]
    }
   ],
   "source": [
    "import swat\n",
    "\n",
    "access_token = open(token, \"r\").read()\n",
    "conn =  swat.CAS(hostname=hostname, username=None, password=access_token, ssl_ca_list=token_pem, protocol='https')\n",
    "print(conn.serverstatus())"
   ]
  },
  {
   "cell_type": "code",
   "execution_count": 4,
   "metadata": {},
   "outputs": [
    {
     "name": "stderr",
     "output_type": "stream",
     "text": [
      "/usr/local/lib/python3.11/site-packages/urllib3/connectionpool.py:1103: InsecureRequestWarning: Unverified HTTPS request is being made to host 'innovationlab.demo.sas.com'. Adding certificate verification is strongly advised. See: https://urllib3.readthedocs.io/en/latest/advanced-usage.html#tls-warnings\n",
      "  warnings.warn(\n"
     ]
    },
    {
     "data": {
      "text/plain": [
       "{'links': [{'method': 'GET',\n",
       "   'rel': 'collection',\n",
       "   'href': '/microanalyticScore/modules/logit_python_api_aml_bank_workbe/steps',\n",
       "   'uri': '/microanalyticScore/modules/logit_python_api_aml_bank_workbe/steps',\n",
       "   'type': 'application/vnd.sas.collection'},\n",
       "  {'method': 'GET',\n",
       "   'rel': 'self',\n",
       "   'href': '/microanalyticScore/modules/logit_python_api_aml_bank_workbe/steps?start=0&limit=20',\n",
       "   'uri': '/microanalyticScore/modules/logit_python_api_aml_bank_workbe/steps?start=0&limit=20',\n",
       "   'type': 'application/vnd.sas.collection'},\n",
       "  {'method': 'POST',\n",
       "   'rel': '/microanalyticScore/modules/logit_python_api_aml_bank_workbe/steps',\n",
       "   'href': '/microanalyticScore/modules/logit_python_api_aml_bank_workbe/steps',\n",
       "   'uri': '/microanalyticScore/modules/logit_python_api_aml_bank_workbe/steps',\n",
       "   'type': 'application/vnd.sas.microanalytic.module.definition',\n",
       "   'responseType': 'application/vnd.sas.microanalytic.module'}],\n",
       " 'name': 'steps',\n",
       " 'accept': 'application/vnd.sas.microanalytic.module.step',\n",
       " 'count': 1,\n",
       " 'items': [{'links': [{'method': 'GET',\n",
       "     'rel': 'up',\n",
       "     'href': '/microanalyticScore/modules/logit_python_api_aml_bank_workbe/steps',\n",
       "     'uri': '/microanalyticScore/modules/logit_python_api_aml_bank_workbe/steps',\n",
       "     'type': 'application/vnd.sas.collection',\n",
       "     'itemType': 'application/vnd.sas.microanalytic.module.step'},\n",
       "    {'method': 'GET',\n",
       "     'rel': 'self',\n",
       "     'href': '/microanalyticScore/modules/logit_python_api_aml_bank_workbe/steps/score',\n",
       "     'uri': '/microanalyticScore/modules/logit_python_api_aml_bank_workbe/steps/score',\n",
       "     'type': 'application/vnd.sas.microanalytic.module.step'},\n",
       "    {'method': 'POST',\n",
       "     'rel': 'execute',\n",
       "     'href': '/microanalyticScore/modules/logit_python_api_aml_bank_workbe/steps/score',\n",
       "     'uri': '/microanalyticScore/modules/logit_python_api_aml_bank_workbe/steps/score',\n",
       "     'type': 'application/vnd.sas.microanalytic.module.step.input',\n",
       "     'responseType': 'application/vnd.sas.microanalytic.module.step.output'},\n",
       "    {'method': 'POST',\n",
       "     'rel': 'validateStepInput',\n",
       "     'href': '/microanalyticScore/commons/validations/modules/logit_python_api_aml_bank_workbe/steps/score',\n",
       "     'uri': '/microanalyticScore/commons/validations/modules/logit_python_api_aml_bank_workbe/steps/score',\n",
       "     'type': 'application/vnd.sas.microanalytic.module.step.input',\n",
       "     'responseType': 'application/vnd.sas.validation'}],\n",
       "   'version': 1,\n",
       "   'createdBy': 'Chris.Parrish@sas.com',\n",
       "   'creationTimeStamp': '2024-06-25T03:54:49.345Z',\n",
       "   'modifiedBy': 'Chris.Parrish@sas.com',\n",
       "   'modifiedTimeStamp': '2024-06-25T03:54:49.345Z',\n",
       "   'id': 'score',\n",
       "   'moduleId': 'logit_python_api_aml_bank_workbe',\n",
       "   'inputs': [{'name': 'address_change_2x_indicator',\n",
       "     'type': 'decimal',\n",
       "     'dim': 0,\n",
       "     'size': 0},\n",
       "    {'name': 'checking_only_indicator',\n",
       "     'type': 'decimal',\n",
       "     'dim': 0,\n",
       "     'size': 0},\n",
       "    {'name': 'citizenship_country_risk',\n",
       "     'type': 'decimal',\n",
       "     'dim': 0,\n",
       "     'size': 0},\n",
       "    {'name': 'cross_border_trx_indicator',\n",
       "     'type': 'decimal',\n",
       "     'dim': 0,\n",
       "     'size': 0},\n",
       "    {'name': 'distance_to_bank', 'type': 'decimal', 'dim': 0, 'size': 0},\n",
       "    {'name': 'distance_to_employer', 'type': 'decimal', 'dim': 0, 'size': 0},\n",
       "    {'name': 'in_person_contact_indicator',\n",
       "     'type': 'decimal',\n",
       "     'dim': 0,\n",
       "     'size': 0},\n",
       "    {'name': 'linkedin_indicator', 'type': 'decimal', 'dim': 0, 'size': 0},\n",
       "    {'name': 'marital_status_single', 'type': 'decimal', 'dim': 0, 'size': 0},\n",
       "    {'name': 'prior_ctr_indicator', 'type': 'decimal', 'dim': 0, 'size': 0}],\n",
       "   'outputs': [{'name': 'p_ml_indicator0',\n",
       "     'type': 'decimal',\n",
       "     'dim': 0,\n",
       "     'size': 0},\n",
       "    {'name': 'p_ml_indicator1', 'type': 'decimal', 'dim': 0, 'size': 0},\n",
       "    {'name': 'i_ml_indicator', 'type': 'decimal', 'dim': 0, 'size': 0}]}],\n",
       " 'version': 2}"
      ]
     },
     "execution_count": 4,
     "metadata": {},
     "output_type": "execute_result"
    }
   ],
   "source": [
    "###########################\n",
    "### Select Target Model ###\n",
    "###########################\n",
    "\n",
    "from requests import request\n",
    "\n",
    "model_name = 'logit_python_api_aml_bank_workbe' # all lower case\n",
    "access_token = open(token, \"r\").read()\n",
    "\n",
    "headers = {'Authorization': 'Bearer ' + access_token}\n",
    "url = session + '/microanalyticScore/modules/' + model_name + '/steps'\n",
    "r = request('GET', url, params={}, headers=headers, verify=False)\n",
    "r.json()"
   ]
  },
  {
   "cell_type": "code",
   "execution_count": 5,
   "metadata": {},
   "outputs": [
    {
     "name": "stdout",
     "output_type": "stream",
     "text": [
      "\n",
      "****************************************************************************\n",
      "This customer has a 11.86% probability of a money laundering event \n",
      "****************************************************************************\n"
     ]
    },
    {
     "name": "stderr",
     "output_type": "stream",
     "text": [
      "/usr/local/lib/python3.11/site-packages/urllib3/connectionpool.py:1103: InsecureRequestWarning: Unverified HTTPS request is being made to host 'innovationlab.demo.sas.com'. Adding certificate verification is strongly advised. See: https://urllib3.readthedocs.io/en/latest/advanced-usage.html#tls-warnings\n",
      "  warnings.warn(\n"
     ]
    }
   ],
   "source": [
    "##########################\n",
    "### Score Target Model ###\n",
    "##########################\n",
    "\n",
    "data = '{\"inputs\":[ {\"name\":\"marital_status_single\", \"value\": 0}, \\\n",
    "                    {\"name\":\"checking_only_indicator\", \"value\": 0}, \\\n",
    "                    {\"name\":\"prior_ctr_indicator\", \"value\": 1}, \\\n",
    "                    {\"name\":\"address_change_2x_indicator\", \"value\": 1}, \\\n",
    "                    {\"name\":\"cross_border_trx_indicator\", \"value\": 1}, \\\n",
    "                    {\"name\":\"in_person_contact_indicator\", \"value\": 0}, \\\n",
    "                    {\"name\":\"linkedin_indicator\", \"value\": 0}, \\\n",
    "                    {\"name\":\"citizenship_country_risk\", \"value\": 0}, \\\n",
    "                    {\"name\":\"distance_to_employer\", \"value\": -0.091215699}, \\\n",
    "                    {\"name\":\"distance_to_bank\", \"value\": -0.895717584} \\\n",
    "                        ] \\\n",
    "            }'\n",
    "headers = {'Content-Type': 'application/vnd.sas.microanalytic.module.step.input+json', \n",
    "               'Authorization': 'Bearer ' + access_token}\n",
    "url = session + '/microanalyticScore/modules/' + model_name + '/steps/score'\n",
    "r = request('POST', url, data=data, headers=headers, verify=False)\n",
    "score_val = (r.json()['outputs'][1]['value'])\n",
    "score_val = \"{0:.2%}\".format(score_val)\n",
    "\n",
    "\n",
    "print ('')\n",
    "print('****************************************************************************')\n",
    "print(\"This customer has a \" + str(score_val) + \" probability of a money laundering event \")\n",
    "print('****************************************************************************')"
   ]
  },
  {
   "cell_type": "code",
   "execution_count": null,
   "metadata": {},
   "outputs": [],
   "source": []
  }
 ],
 "metadata": {
  "kernelspec": {
   "display_name": "Workbench Python",
   "language": "python",
   "name": "workbench_python"
  },
  "language_info": {
   "codemirror_mode": {
    "name": "ipython",
    "version": 3
   },
   "file_extension": ".py",
   "mimetype": "text/x-python",
   "name": "python",
   "nbconvert_exporter": "python",
   "pygments_lexer": "ipython3",
   "version": "3.11.9"
  }
 },
 "nbformat": 4,
 "nbformat_minor": 2
}
